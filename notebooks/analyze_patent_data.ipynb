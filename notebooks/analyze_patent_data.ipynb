{
 "cells": [
  {
   "cell_type": "code",
   "execution_count": 41,
   "metadata": {},
   "outputs": [],
   "source": [
    "import json\n",
    "from pathlib import Path\n",
    "from tqdm.notebook import tqdm, trange\n",
    "import imageio\n",
    "from collections import defaultdict"
   ]
  },
  {
   "cell_type": "code",
   "execution_count": 6,
   "metadata": {},
   "outputs": [
    {
     "name": "stdout",
     "output_type": "stream",
     "text": [
      "^C\n"
     ]
    }
   ],
   "source": [
    "!conda install -c conda-forge imageio"
   ]
  },
  {
   "cell_type": "code",
   "execution_count": 2,
   "metadata": {},
   "outputs": [
    {
     "data": {
      "text/plain": [
       "[WindowsPath('../patents/netto_list')]"
      ]
     },
     "execution_count": 2,
     "metadata": {},
     "output_type": "execute_result"
    }
   ],
   "source": [
    "patents_path = Path('../patents')\n",
    "list(patents_path.iterdir())"
   ]
  },
  {
   "cell_type": "code",
   "execution_count": 3,
   "metadata": {},
   "outputs": [
    {
     "data": {
      "text/plain": [
       "7798"
      ]
     },
     "execution_count": 3,
     "metadata": {},
     "output_type": "execute_result"
    }
   ],
   "source": [
    "patents = list(patents_path.glob('**/EP*'))\n",
    "len(patents)"
   ]
  },
  {
   "cell_type": "code",
   "execution_count": 13,
   "metadata": {},
   "outputs": [
    {
     "data": {
      "application/vnd.jupyter.widget-view+json": {
       "model_id": "463a206be6b54088830015299386ab7a",
       "version_major": 2,
       "version_minor": 0
      },
      "text/plain": [
       "Checking download status:   0%|          | 0/7798 [00:00<?, ?it/s]"
      ]
     },
     "metadata": {},
     "output_type": "display_data"
    },
    {
     "data": {
      "text/plain": [
       "4433"
      ]
     },
     "execution_count": 13,
     "metadata": {},
     "output_type": "execute_result"
    }
   ],
   "source": [
    "successfully_downloaded_patents = []\n",
    "for patent_path in tqdm(patents, desc='Checking download status'):\n",
    "    status_file = patent_path / 'status.txt'\n",
    "    if status_file.exists():\n",
    "        with open(status_file) as fp:\n",
    "            status = fp.read()\n",
    "            if status == 'Done processing':\n",
    "                successfully_downloaded_patents.append(patent_path)\n",
    "len(successfully_downloaded_patents)"
   ]
  },
  {
   "cell_type": "code",
   "execution_count": 53,
   "metadata": {},
   "outputs": [],
   "source": [
    "def load_patent(patent_path):\n",
    "    endpoints = ['biblio', 'claims', 'description', 'fulltext']\n",
    "    endpoint_data = {}\n",
    "    for endpoint in endpoints:\n",
    "        with open(patent_path / f'{endpoint}.json') as fp:\n",
    "            try:\n",
    "                endpoint_data[endpoint] = json.load(fp)\n",
    "            except BaseException as e:\n",
    "                raise RuntimeError(f'When parsing endpoint {endpoint}') from e\n",
    "    drawings = {}\n",
    "    drawings_folder_path = patent_path / 'Drawings'\n",
    "    if drawings_folder_path.exists():\n",
    "        for drawing_path in drawings_folder_path.iterdir():\n",
    "            drawing_name = drawing_path.with_suffix('').name\n",
    "            drawings[drawing_name] = imageio.imread(drawing_path)\n",
    "        endpoint_data['drawings'] = drawings\n",
    "    return endpoint_data"
   ]
  },
  {
   "cell_type": "code",
   "execution_count": 54,
   "metadata": {},
   "outputs": [],
   "source": [
    "def get_fulltext_languages(patent_path):\n",
    "    try:\n",
    "        patent_data = load_patent(patent_path)\n",
    "    except BaseException as e:\n",
    "        raise ValueError(f\"When loading patent {patent_path}\") from e\n",
    "    fulltext_instances = patent_data['fulltext']['ops:world-patent-data']['ops:fulltext-inquiry']['ops:inquiry-result']['ops:fulltext-instance']\n",
    "    instance_languages = defaultdict(list)\n",
    "    for instance in fulltext_instances:\n",
    "        instance_languages[instance['@desc']].append(instance['@lang'])\n",
    "    return instance_languages\n"
   ]
  },
  {
   "cell_type": "code",
   "execution_count": 55,
   "metadata": {},
   "outputs": [],
   "source": [
    "def check_language(patent_path, permissible_language_codes=('EN',), required_instances=('description', 'claims')):\n",
    "    instance_languages = get_fulltext_languages(patent_path)\n",
    "    for instance in required_instances:\n",
    "        if instance in instance_languages.keys():\n",
    "            language_in_instance = False\n",
    "            for lang in instance_languages[instance]:\n",
    "                if lang in permissible_language_codes:\n",
    "                    language_in_instance = True\n",
    "                    break\n",
    "            if not language_in_instance:\n",
    "                return False\n",
    "    # We only get to this point if all required instances has the permissible languages\n",
    "    return True\n",
    "        \n"
   ]
  },
  {
   "cell_type": "code",
   "execution_count": 56,
   "metadata": {},
   "outputs": [
    {
     "ename": "ValueError",
     "evalue": "When loading patent ..\\patents\\netto_list\\EP0000082.A1",
     "output_type": "error",
     "traceback": [
      "\u001b[1;31m---------------------------------------------------------------------------\u001b[0m",
      "\u001b[1;31mUnicodeDecodeError\u001b[0m                        Traceback (most recent call last)",
      "\u001b[1;32m~\\AppData\\Local\\Temp/ipykernel_6908/3385566216.py\u001b[0m in \u001b[0;36mload_patent\u001b[1;34m(patent_path)\u001b[0m\n\u001b[0;32m      6\u001b[0m             \u001b[1;32mtry\u001b[0m\u001b[1;33m:\u001b[0m\u001b[1;33m\u001b[0m\u001b[1;33m\u001b[0m\u001b[0m\n\u001b[1;32m----> 7\u001b[1;33m                 \u001b[0mendpoint_data\u001b[0m\u001b[1;33m[\u001b[0m\u001b[0mendpoint\u001b[0m\u001b[1;33m]\u001b[0m \u001b[1;33m=\u001b[0m \u001b[0mjson\u001b[0m\u001b[1;33m.\u001b[0m\u001b[0mload\u001b[0m\u001b[1;33m(\u001b[0m\u001b[0mfp\u001b[0m\u001b[1;33m)\u001b[0m\u001b[1;33m\u001b[0m\u001b[1;33m\u001b[0m\u001b[0m\n\u001b[0m\u001b[0;32m      8\u001b[0m             \u001b[1;32mexcept\u001b[0m \u001b[0mBaseException\u001b[0m \u001b[1;32mas\u001b[0m \u001b[0me\u001b[0m\u001b[1;33m:\u001b[0m\u001b[1;33m\u001b[0m\u001b[1;33m\u001b[0m\u001b[0m\n",
      "\u001b[1;32mF:\\Anaconda\\envs\\prv_kemi\\lib\\json\\__init__.py\u001b[0m in \u001b[0;36mload\u001b[1;34m(fp, cls, object_hook, parse_float, parse_int, parse_constant, object_pairs_hook, **kw)\u001b[0m\n\u001b[0;32m    292\u001b[0m     \"\"\"\n\u001b[1;32m--> 293\u001b[1;33m     return loads(fp.read(),\n\u001b[0m\u001b[0;32m    294\u001b[0m         \u001b[0mcls\u001b[0m\u001b[1;33m=\u001b[0m\u001b[0mcls\u001b[0m\u001b[1;33m,\u001b[0m \u001b[0mobject_hook\u001b[0m\u001b[1;33m=\u001b[0m\u001b[0mobject_hook\u001b[0m\u001b[1;33m,\u001b[0m\u001b[1;33m\u001b[0m\u001b[1;33m\u001b[0m\u001b[0m\n",
      "\u001b[1;32mF:\\Anaconda\\envs\\prv_kemi\\lib\\encodings\\cp1252.py\u001b[0m in \u001b[0;36mdecode\u001b[1;34m(self, input, final)\u001b[0m\n\u001b[0;32m     22\u001b[0m     \u001b[1;32mdef\u001b[0m \u001b[0mdecode\u001b[0m\u001b[1;33m(\u001b[0m\u001b[0mself\u001b[0m\u001b[1;33m,\u001b[0m \u001b[0minput\u001b[0m\u001b[1;33m,\u001b[0m \u001b[0mfinal\u001b[0m\u001b[1;33m=\u001b[0m\u001b[1;32mFalse\u001b[0m\u001b[1;33m)\u001b[0m\u001b[1;33m:\u001b[0m\u001b[1;33m\u001b[0m\u001b[1;33m\u001b[0m\u001b[0m\n\u001b[1;32m---> 23\u001b[1;33m         \u001b[1;32mreturn\u001b[0m \u001b[0mcodecs\u001b[0m\u001b[1;33m.\u001b[0m\u001b[0mcharmap_decode\u001b[0m\u001b[1;33m(\u001b[0m\u001b[0minput\u001b[0m\u001b[1;33m,\u001b[0m\u001b[0mself\u001b[0m\u001b[1;33m.\u001b[0m\u001b[0merrors\u001b[0m\u001b[1;33m,\u001b[0m\u001b[0mdecoding_table\u001b[0m\u001b[1;33m)\u001b[0m\u001b[1;33m[\u001b[0m\u001b[1;36m0\u001b[0m\u001b[1;33m]\u001b[0m\u001b[1;33m\u001b[0m\u001b[1;33m\u001b[0m\u001b[0m\n\u001b[0m\u001b[0;32m     24\u001b[0m \u001b[1;33m\u001b[0m\u001b[0m\n",
      "\u001b[1;31mUnicodeDecodeError\u001b[0m: 'charmap' codec can't decode byte 0x81 in position 14202: character maps to <undefined>",
      "\nThe above exception was the direct cause of the following exception:\n",
      "\u001b[1;31mRuntimeError\u001b[0m                              Traceback (most recent call last)",
      "\u001b[1;32m~\\AppData\\Local\\Temp/ipykernel_6908/3498375493.py\u001b[0m in \u001b[0;36mget_fulltext_languages\u001b[1;34m(patent_path)\u001b[0m\n\u001b[0;32m      2\u001b[0m     \u001b[1;32mtry\u001b[0m\u001b[1;33m:\u001b[0m\u001b[1;33m\u001b[0m\u001b[1;33m\u001b[0m\u001b[0m\n\u001b[1;32m----> 3\u001b[1;33m         \u001b[0mpatent_data\u001b[0m \u001b[1;33m=\u001b[0m \u001b[0mload_patent\u001b[0m\u001b[1;33m(\u001b[0m\u001b[0mpatent_path\u001b[0m\u001b[1;33m)\u001b[0m\u001b[1;33m\u001b[0m\u001b[1;33m\u001b[0m\u001b[0m\n\u001b[0m\u001b[0;32m      4\u001b[0m     \u001b[1;32mexcept\u001b[0m \u001b[0mBaseException\u001b[0m \u001b[1;32mas\u001b[0m \u001b[0me\u001b[0m\u001b[1;33m:\u001b[0m\u001b[1;33m\u001b[0m\u001b[1;33m\u001b[0m\u001b[0m\n",
      "\u001b[1;32m~\\AppData\\Local\\Temp/ipykernel_6908/3385566216.py\u001b[0m in \u001b[0;36mload_patent\u001b[1;34m(patent_path)\u001b[0m\n\u001b[0;32m      8\u001b[0m             \u001b[1;32mexcept\u001b[0m \u001b[0mBaseException\u001b[0m \u001b[1;32mas\u001b[0m \u001b[0me\u001b[0m\u001b[1;33m:\u001b[0m\u001b[1;33m\u001b[0m\u001b[1;33m\u001b[0m\u001b[0m\n\u001b[1;32m----> 9\u001b[1;33m                 \u001b[1;32mraise\u001b[0m \u001b[0mRuntimeError\u001b[0m\u001b[1;33m(\u001b[0m\u001b[1;34mf'When parsing endpoint {endpoint}'\u001b[0m\u001b[1;33m)\u001b[0m \u001b[1;32mfrom\u001b[0m \u001b[0me\u001b[0m\u001b[1;33m\u001b[0m\u001b[1;33m\u001b[0m\u001b[0m\n\u001b[0m\u001b[0;32m     10\u001b[0m     \u001b[0mdrawings\u001b[0m \u001b[1;33m=\u001b[0m \u001b[1;33m{\u001b[0m\u001b[1;33m}\u001b[0m\u001b[1;33m\u001b[0m\u001b[1;33m\u001b[0m\u001b[0m\n",
      "\u001b[1;31mRuntimeError\u001b[0m: When parsing endpoint description",
      "\nThe above exception was the direct cause of the following exception:\n",
      "\u001b[1;31mValueError\u001b[0m                                Traceback (most recent call last)",
      "\u001b[1;32m~\\AppData\\Local\\Temp/ipykernel_6908/2470533566.py\u001b[0m in \u001b[0;36m<module>\u001b[1;34m\u001b[0m\n\u001b[1;32m----> 1\u001b[1;33m \u001b[0mlanguage_filtered\u001b[0m \u001b[1;33m=\u001b[0m \u001b[0mtqdm\u001b[0m\u001b[1;33m(\u001b[0m\u001b[1;33m[\u001b[0m\u001b[0mpatent\u001b[0m \u001b[1;32mfor\u001b[0m \u001b[0mpatent\u001b[0m \u001b[1;32min\u001b[0m \u001b[0msuccessfully_downloaded_patents\u001b[0m \u001b[1;32mif\u001b[0m \u001b[0mcheck_language\u001b[0m\u001b[1;33m(\u001b[0m\u001b[0mpatent\u001b[0m\u001b[1;33m)\u001b[0m\u001b[1;33m]\u001b[0m\u001b[1;33m)\u001b[0m\u001b[1;33m\u001b[0m\u001b[1;33m\u001b[0m\u001b[0m\n\u001b[0m",
      "\u001b[1;32m~\\AppData\\Local\\Temp/ipykernel_6908/2470533566.py\u001b[0m in \u001b[0;36m<listcomp>\u001b[1;34m(.0)\u001b[0m\n\u001b[1;32m----> 1\u001b[1;33m \u001b[0mlanguage_filtered\u001b[0m \u001b[1;33m=\u001b[0m \u001b[0mtqdm\u001b[0m\u001b[1;33m(\u001b[0m\u001b[1;33m[\u001b[0m\u001b[0mpatent\u001b[0m \u001b[1;32mfor\u001b[0m \u001b[0mpatent\u001b[0m \u001b[1;32min\u001b[0m \u001b[0msuccessfully_downloaded_patents\u001b[0m \u001b[1;32mif\u001b[0m \u001b[0mcheck_language\u001b[0m\u001b[1;33m(\u001b[0m\u001b[0mpatent\u001b[0m\u001b[1;33m)\u001b[0m\u001b[1;33m]\u001b[0m\u001b[1;33m)\u001b[0m\u001b[1;33m\u001b[0m\u001b[1;33m\u001b[0m\u001b[0m\n\u001b[0m",
      "\u001b[1;32m~\\AppData\\Local\\Temp/ipykernel_6908/3882813311.py\u001b[0m in \u001b[0;36mcheck_language\u001b[1;34m(patent_path, permissible_language_codes, required_instances)\u001b[0m\n\u001b[0;32m      1\u001b[0m \u001b[1;32mdef\u001b[0m \u001b[0mcheck_language\u001b[0m\u001b[1;33m(\u001b[0m\u001b[0mpatent_path\u001b[0m\u001b[1;33m,\u001b[0m \u001b[0mpermissible_language_codes\u001b[0m\u001b[1;33m=\u001b[0m\u001b[1;33m(\u001b[0m\u001b[1;34m'EN'\u001b[0m\u001b[1;33m,\u001b[0m\u001b[1;33m)\u001b[0m\u001b[1;33m,\u001b[0m \u001b[0mrequired_instances\u001b[0m\u001b[1;33m=\u001b[0m\u001b[1;33m(\u001b[0m\u001b[1;34m'description'\u001b[0m\u001b[1;33m,\u001b[0m \u001b[1;34m'claims'\u001b[0m\u001b[1;33m)\u001b[0m\u001b[1;33m)\u001b[0m\u001b[1;33m:\u001b[0m\u001b[1;33m\u001b[0m\u001b[1;33m\u001b[0m\u001b[0m\n\u001b[1;32m----> 2\u001b[1;33m     \u001b[0minstance_languages\u001b[0m \u001b[1;33m=\u001b[0m \u001b[0mget_fulltext_languages\u001b[0m\u001b[1;33m(\u001b[0m\u001b[0mpatent_path\u001b[0m\u001b[1;33m)\u001b[0m\u001b[1;33m\u001b[0m\u001b[1;33m\u001b[0m\u001b[0m\n\u001b[0m\u001b[0;32m      3\u001b[0m     \u001b[1;32mfor\u001b[0m \u001b[0minstance\u001b[0m \u001b[1;32min\u001b[0m \u001b[0mrequired_instances\u001b[0m\u001b[1;33m:\u001b[0m\u001b[1;33m\u001b[0m\u001b[1;33m\u001b[0m\u001b[0m\n\u001b[0;32m      4\u001b[0m         \u001b[1;32mif\u001b[0m \u001b[0minstance\u001b[0m \u001b[1;32min\u001b[0m \u001b[0minstance_languages\u001b[0m\u001b[1;33m.\u001b[0m\u001b[0mkeys\u001b[0m\u001b[1;33m(\u001b[0m\u001b[1;33m)\u001b[0m\u001b[1;33m:\u001b[0m\u001b[1;33m\u001b[0m\u001b[1;33m\u001b[0m\u001b[0m\n\u001b[0;32m      5\u001b[0m             \u001b[0mlanguage_in_instance\u001b[0m \u001b[1;33m=\u001b[0m \u001b[1;32mFalse\u001b[0m\u001b[1;33m\u001b[0m\u001b[1;33m\u001b[0m\u001b[0m\n",
      "\u001b[1;32m~\\AppData\\Local\\Temp/ipykernel_6908/3498375493.py\u001b[0m in \u001b[0;36mget_fulltext_languages\u001b[1;34m(patent_path)\u001b[0m\n\u001b[0;32m      3\u001b[0m         \u001b[0mpatent_data\u001b[0m \u001b[1;33m=\u001b[0m \u001b[0mload_patent\u001b[0m\u001b[1;33m(\u001b[0m\u001b[0mpatent_path\u001b[0m\u001b[1;33m)\u001b[0m\u001b[1;33m\u001b[0m\u001b[1;33m\u001b[0m\u001b[0m\n\u001b[0;32m      4\u001b[0m     \u001b[1;32mexcept\u001b[0m \u001b[0mBaseException\u001b[0m \u001b[1;32mas\u001b[0m \u001b[0me\u001b[0m\u001b[1;33m:\u001b[0m\u001b[1;33m\u001b[0m\u001b[1;33m\u001b[0m\u001b[0m\n\u001b[1;32m----> 5\u001b[1;33m         \u001b[1;32mraise\u001b[0m \u001b[0mValueError\u001b[0m\u001b[1;33m(\u001b[0m\u001b[1;34mf\"When loading patent {patent_path}\"\u001b[0m\u001b[1;33m)\u001b[0m \u001b[1;32mfrom\u001b[0m \u001b[0me\u001b[0m\u001b[1;33m\u001b[0m\u001b[1;33m\u001b[0m\u001b[0m\n\u001b[0m\u001b[0;32m      6\u001b[0m     \u001b[0mfulltext_instances\u001b[0m \u001b[1;33m=\u001b[0m \u001b[0mpatent_data\u001b[0m\u001b[1;33m[\u001b[0m\u001b[1;34m'fulltext'\u001b[0m\u001b[1;33m]\u001b[0m\u001b[1;33m[\u001b[0m\u001b[1;34m'ops:world-patent-data'\u001b[0m\u001b[1;33m]\u001b[0m\u001b[1;33m[\u001b[0m\u001b[1;34m'ops:fulltext-inquiry'\u001b[0m\u001b[1;33m]\u001b[0m\u001b[1;33m[\u001b[0m\u001b[1;34m'ops:inquiry-result'\u001b[0m\u001b[1;33m]\u001b[0m\u001b[1;33m[\u001b[0m\u001b[1;34m'ops:fulltext-instance'\u001b[0m\u001b[1;33m]\u001b[0m\u001b[1;33m\u001b[0m\u001b[1;33m\u001b[0m\u001b[0m\n\u001b[0;32m      7\u001b[0m     \u001b[0minstance_languages\u001b[0m \u001b[1;33m=\u001b[0m \u001b[0mdefaultdict\u001b[0m\u001b[1;33m(\u001b[0m\u001b[0mlist\u001b[0m\u001b[1;33m)\u001b[0m\u001b[1;33m\u001b[0m\u001b[1;33m\u001b[0m\u001b[0m\n",
      "\u001b[1;31mValueError\u001b[0m: When loading patent ..\\patents\\netto_list\\EP0000082.A1"
     ]
    }
   ],
   "source": [
    "language_filtered = tqdm([patent for patent in successfully_downloaded_patents if check_language(patent)])"
   ]
  },
  {
   "cell_type": "code",
   "execution_count": 82,
   "metadata": {},
   "outputs": [
    {
     "data": {
      "text/plain": [
       "['Technical Field',\n",
       " '[0001]    The present invention relates to a bonding joining structure, and more particularly relates to a bonding joining structure that is preferably used as a die bonding joining structure between a die of a semiconductor device and a metal support.',\n",
       " 'Background Art',\n",
       " '[0002]    With regard to bonding of a semiconductor device, Patent Document 1 discloses a semiconductor apparatus having: a semiconductor device that has a collector electrode on one surface and an emitter electrode on the other surface; and an insulating substrate that has a first electrode interconnect on one surface. The first electrode interconnect of the insulating substrate and the collector electrode of the semiconductor device are connected to each other via a first bonding layer. This first bonding layer is a sintered layer obtained by sintering a bonding material and a reducing agent. The bonding material contains a metal particle precursor that is composed of silver carbonate and the like. The reducing agent is composed of particles of metal carboxylate that have a melting temperature of200 degrees or more. The semiconductor device and the sintered layer are directly joined to each other as a result of metallic bonding. The technique disclosed in this document is aimed at enabling bonding through metallic bonding at a bonding interface to be realized at a lower temperature.',\n",
       " 'Citation List',\n",
       " 'Patent Document',\n",
       " '[0003]    Patent Document 1:  JP 2012-094873A',\n",
       " 'Summary of Invention',\n",
       " '[0004]    Incidentally, reducing power loss in inverters and converters is an essential issue in many fields such as automobiles, household electrical appliances, and industrial equipment. To address this issue, various semiconductor devices using new materials such as SiC and GaN in order to significantly improve the energy utilization efficiency of equipment have been proposed. These semiconductor devices involve the generation of a large amount of heat during operation. For this reason, semiconductor packages need to be provided with sufficient countermeasures for heat dissipation so as to prevent damage to the semiconductor devices caused by generated heat. Generally, a lead frame or a substrate to which a semiconductor device is joined and fixed is used for heat dissipation. Although the technique disclosed in Patent Document 1 above relates to bonding of a semiconductor device, this technique focuses on the bonding temperature and does not give consideration to heat dissipation.',\n",
       " '[0005]    Therefore, it is an object of the present invention to improve a bonding structure for various heat generating bodies including a die of a semiconductor device, and more particularly to provide a bonding structure that can efficiently dissipate heat generated from a heat generating body.',\n",
       " '[0006]    The present invention provides a bonding joining structure in which a heat generating body and a support including a metal are joined to each other via a joint portion composed of a sintered body of copper powder,\\nwherein the support contains copper or gold, the copper or gold being present in at least an outermost surface of the support, and\\nan interdiffusion portion in which copper or gold contained in the support and copper contained in the sintered body are diffused to each other is formed so as to straddle a bonding interface between the support and the sintered body.',\n",
       " '[0007]    The present invention especially provides the bonding joining structure, wherein the bonding joining structure is a die bonding joining structure in which a die of a semiconductor device, the die serving as the heat generating body, and the support including a metal are joined to each other via the joint portion composed of the sintered body of the copper powder,\\nthe support contains copper or gold, the copper or gold being present in at least the outermost surface of the support, and\\nthe interdiffusion portion in which copper or gold contained in the support and copper contained in the sintered body are diffused to each other is formed so as to straddle the bonding interface between the support and the sintered body.',\n",
       " '[0008]    The present invention also provides a bonding joining structure in which a heat generating body and a metal support are joined to each other via a joint portion composed of a sintered body of nickel powder,\\nwherein the support contains nickel, the nickel being present in at least an outermost surface of the support, and\\nan interdiffusion portion in which nickel contained in the support and nickel contained in the sintered body are diffused to each other is formed so as to straddle a bonding interface between the support and the sintered body.',\n",
       " '[0009]    The present invention also provides a bonding joining structure in which a heat generating body and a support including a metal are joined to each other via a joint portion composed of a sintered body of silver powder,\\nwherein the support contains silver, the silver being present in at least an outermost surface of the support, and\\nan interdiffusion portion in which silver contained in the support and silver contained in the sintered body are diffused to each other is formed so as to straddle a bonding interface between the support and the sintered body.',\n",
       " 'Brief Description of Drawings',\n",
       " '[0010]    \\n[ Fig. 1] Fig. 1  is a schematic vertical cross-sectional view showing a die bonding joining structure, which is an embodiment of a bonding joining structure of the present invention.\\n[ Fig. 2] Fig. 2  schematically shows a relevant portion in  Fig. 1  in an enlarged manner.\\n[ Fig. 3] Fig. 3  is a schematic vertical cross-sectional view (corresponding to  Fig. 1 ) showing a die bonding joining structure, which is another embodiment of the bonding joining structure of the present invention.\\n[ Fig. 4] Fig. 4(a)  is a transmission electron microscope image of a portion in the vicinity of a bonding interface of a die bonding joining structure obtained in Example 1,\\nFig. 4(b)  is a magnified image of an interdiffusion portion in  Fig. 4(a), and Fig. 4(c)  is a further magnified image of the image shown in  Fig. 4(b) .\\n[ Fig. 5] Fig. 5  is a graph showing an element distribution in the vicinity of the bonding interface of a die bonding joining structure obtained in Example 2.\\n[ Fig. 6] Fig. 6  schematically shows an apparatus for evaluating heat dissipation properties of die bonding joining structures obtained in examples and comparative examples.\\n[ Fig. 7] Fig. 7  shows transmission electron microscope images of a portion in the vicinity of the bonding interface of a die bonding joining structure obtained in Example 3.\\n[ Fig. 8] Fig. 8  shows transmission electron microscope images of a portion in the vicinity of the bonding interface of a die bonding joining structure obtained in Example 4.',\n",
       " 'Description of Embodiments',\n",
       " '[0011]    Hereinafter, the present invention will be described based on preferred embodiments thereof with reference to the drawings. A bonding joining structure (hereinafter also referred to simply as \"bonding structure\") of the present invention has a structure in which a heat generating body and a support including a metal are joined to each other via a joint portion. The joint portion is composed of a sintered body made of copper powder. The type of heat generating body is not limited, and any member that generates heat during use can be considered as a heat generating body regardless of whether or not the member is intended for heat generation itself. A typical example of such a member is a die of a semiconductor device (hereinafter also referred to simply as \"die\"); however, the present invention is not limited to this, and, for example, a CPU, an LED device, a resistor, an electric circuit, and the like may also be used as the heat generating body. Moreover, in the present invention, another member that receives heat from a heat generating body, that is, a member that is joined to a heat generating body, for example, and that is heated as a result of that member conducting the heat generated from the heat generating body is also considered as a form of heat generating body. Hereinafter, the present invention will be described taking a die bonding joining structure in which a die is used as the heat generating body as an example.',\n",
       " '[0012]    Dies are obtained by individually separating a plurality of semiconductor devices formed on a wafer, and are also called chips, bare dies, and the like. A die is, for example, constituted by a semiconductor device such as a diode, a bipolar transistor, an insulated gate bipolar transistor (IGBT), a field-effect transistor (FET), a metal oxide semiconductor field-effect transistor (MOSFET), or a thyristor. Examples of the constituent material for these semiconductor devices include silicon (Si), silicon carbide (SiC), gallium nitride (GaN), and the like. As will be described later, the bonding structure of the present invention has excellent heat dissipation properties, so that when a semiconductor device that generates a large amount of heat, which is a so-called power device, is used as a joining-target die of the present invention, the effects of the present invention are notably achieved. Examples of such a power device include IGBTs, power MOSFETs, and various types of semiconductor devices composed of SiC and GaN.',\n",
       " '[0013]    The support is used to fix and support the die of the semiconductor device. To this end, for example, a lead frame, a substrate, or the like is used as the support. No matter what form the support takes, the support is made of metal. Since metals are materials having favorable thermal conductivity compared with other materials such as ceramics, use of a support made of a metal has the advantage of allowing heat that has been generated during operation of the semiconductor device to be easily released through the support.',\n",
       " '[0014]    There is no limitation on the type of the metal that composes the support, and the same materials as materials that have conventionally been used in the technical field of semiconductors can be used. For example, simple metals such as copper and aluminum can be used. Also, alloys such as a copper-iron alloy, an iron-nickel alloy, and a stainless steel alloy can be used. Furthermore, a support having a laminated structure in which a plurality of layers of different metal materials are laminated in a thickness direction can also be used. Each layer may be composed of a simple metal or may be composed of an alloy. An example of the support having a laminated structure is a support having a structure in which a base material layer is composed of a simple metal such as nickel, copper, or aluminum or an alloy and an outermost layer is composed of gold alone. The support is in a state in which copper or gold is present in at least the outermost surface of the support. \"Outermost surface\" of the support refers to a surface of the support to which the heat generating body or the die of the semiconductor device is fixed via a joint portion, that is, a surface of the support that opposes the joint portion. Examples of the support with copper or gold being present in at least the outermost surface of the support include a support composed of copper alone, a support composed of a copper-based alloy such as a copper-gold alloy, a support having a laminated structure in which the base material layer is composed of a simple metal such as nickel, copper, or aluminum or an alloy and the outermost layer is composed of gold alone, a support having a laminated structure in which the base material layer is composed of a simple metal such as nickel, copper, or aluminum or an alloy and the outermost layer is composed of an alloy that contains gold.',\n",
       " '[0015]    The die of the semiconductor device and the support are joined to each other via the joint portion. The joint portion is composed of a sintered body of copper powder (hereinafter also referred to simply as \"sintered body\"). The joint portion can be formed over the entire region of an opposing surface of the die that opposes the support or in a portion of that opposing surface. The sintered body of copper powder that composes the joint portion is formed by heating the copper powder containing a plurality of copper particles in a predetermined atmosphere at a temperature around the melting point of copper for a predetermined period of time and bonding the copper particles such that a necking portion is generated between the copper particles. The copper powder, which serves as the raw material for the joint portion, may be a powder of copper alone or may be a powder of a copper-based alloy that contains copper as the base material. Preferably, a powder consisting of copper alone is used. The sintered body of copper powder that composes the joint portion may also contain other materials in addition to copper or a copper alloy, if necessary. Examples of such materials include organic compounds that are used in order to prevent oxidation of the sintered body.',\n",
       " '[0016]    In the bonding structure of the present invention, an interdiffusion portion in which a metallic element contained in the support and a constituent element contained in the sintered body are diffused to each other is formed so as to straddle the bonding interface between the support and the sintered body. That is to say, a portion in which copper or gold contained in the support and copper contained in the sintered body are interdiffused is formed extending from the support side to the sintered body side across the bonding interface. This state will be described with reference to  Fig. 1 . As shown in  Fig. 1 , a bonding structure 1 has a structure in which a die 10 and a support 20 are joined to each other via a joint portion 30 that is composed of a sintered body 32 of copper powder containing a plurality of copper particles 31. Furthermore, the die bonding joining structure 1 has a bonding interface 40 between the support 20 and the sintered body 32. In the bonding structure 1, interdiffusion portions41 in which the metallic element contained in the support 20 and the constituent element contained in the sintered body 32 are diffused to each other is formed so as to straddle the bonding interface 40. When the bonding structure 1 is viewed along a vertical cross-sectional direction X, which is a direction along a cross section that is orthogonal to the bonding interface, that is, when viewed along the up-down direction of the paper plane in  Fig. 1 , the interdiffusion portion 41 extends along the vertical cross-sectional direction X so as to straddle the bonding interface 40. When viewed in that vertical cross section, with respect to a plane direction Y, which is a direction along the bonding interface, that is, with respect to the left-right direction of the paper plane in  Fig. 1 , at the bonding interface, the copper particles 31 constituting the interdiffusion portions 41 each extend over a maximum region R along the plane direction Y, on the support 20.',\n",
       " '[0017]    More specifically, as shown in  Fig. 2 , in the interdiffusion portions 41, a plurality of primary particles 31a constituting copper particles 31 that are joined to the support 20 when viewed along the vertical cross-sectional direction X do not have grain boundaries along a plane corresponding to the bonding interface 40. A \"primary particle\" refers to an object that is recognized as the minimum unit of a particle judging from the external geometric form of that object.',\n",
       " '[0018]    In the interdiffusion portions 41, constituent elements are bonded as a result of metallic bonding. Specifically, in the case where the metallic element that is present in the outermost layer of the support 20 is the same as the constituent element of the sintered body 32, a single phase composed of a simple metal or an alloy is formed in the interdiffusion portions 41. In the case where the metallic element of the support 20 is different from the constituent element of the sintered body 32, an alloy phase containing the metallic element of the support 20 and the constituent element of the sintered body 32 is formed. \"Metallic bonding\" refers to bonding between metal atoms via free electrons.',\n",
       " '[0019]    Due to the fact that the configuration in which the interdiffusion portions 41 are formed in the bonding structure 1 and that the interdiffusion portions 41 contain a phase in which constituent elements are bonded through metallic bonding, free electrons are present in the interdiffusion portions 41, and thus, the interdiffusion portions 41 have favorable thermal conductivity. As a result, when the die 10 of the semiconductor device generates heat due to operating, the generated heat is easily transferred to the support 20, which is a member that is located on the opposite side to the die 10 across the joint portion 30. In other words, heat that has been generated from the die 10 of the semiconductor device is dissipated. Thus, the semiconductor device is unlikely to be thermally damaged. This is important in terms of the operational stability and the reliability of the semiconductor device.',\n",
       " '[0020]    In the case where the outermost surface of the support 20 is composed of copper alone and where the copper powder is also composed of copper alone, the interdiffusion portions 41 each contain a single phase constituted by a crystal structure consisting of copper alone. It is preferable that, as shown in  Fig. 2 , in the crystal structure of this single phase, a portion 41a that is located on the sintered body 32 side of the bonding interface 40 and a portion 41b that is located on the support 20 side of the bonding interface 40 have the same crystal orientation. When the interdiffusion portion 41a that is located on the sintered body 32 side of the bonding interface 40 and the interdiffusion portion 41b that is located on the support 20 side of the bonding interface 40 have the same crystal orientation as described above, the crystal orientation intersects the bonding interface 40, free electrons move smoothly between the interdiffusion portions 41a and 41b, and the interdiffusion portion 41 has even more favorable thermal conductivity. As a result, heat that has been generated from the die 10 of the semiconductor device is even more easily dissipated, and the semiconductor device is even less likely to be thermally damaged. Crystal orientations of copper crystal structures can be determined from a transmission electronic microscope (TEM) image of the interdiffusion portions 41.',\n",
       " '[0021]    It should be noted that, in order to form a copper crystal structure having the same crystal orientation in each interdiffusion portion so as to straddle the bonding interface, it is preferable to use a copper powder as the copper source for the joint portion. If other copper sources, for example, various types of copper oxides such as cupric oxide are used, even though a sintered body can be obtained, it is not easy to form a copper crystal structure having the same crystal orientation in each interdiffusion portion so as to straddle the bonding interface.',\n",
       " '[0022]    In each interdiffusion portion 41, it is sufficient that the crystal orientations at any crystal plane of the copper crystal structure are the same, and it is not necessary that the crystal orientations are the same at a specific crystal plane. In an example ( Fig. 4 ), which will be described later, crystal orientations of {111} planes of copper are measured; however, the reason for this is that it is easy to observe {111} planes of copper in TEM, and it is not necessary that the {111} planes of copper be in the same direction. Moreover, in the case where a single copper particle 31 has the crystal structures (crystal grains) of a plurality of single crystals, the crystal orientation may be different among those crystal structures.',\n",
       " '[0023]    From the standpoint of further increasing the efficiency of thermal conduction via the interdiffusion portions 41, each copper crystal structure having the same crystal orientation preferably has a traverse length (in  Fig. 2 , width, or length in the plane direction Y, of each crystal grain) of not less than 10 nm and more preferably not less than 50 nm at the bonding interface 40. The upper limit of the traverse length is not limited, but may typically be about 500 nm. The traverse length can be measured from a transmission electronic microscope (TEM) image of the interdiffusion portions 41. The measurement is performed with respect to five positions, and the average value is used as the traverse length.',\n",
       " '[0024]    From the same standpoint as that described above, each copper crystal structure having the same crystal orientation preferably has a maximum thickness straddling the bonding interface 40 of not less than 10 nm and more preferably not less than 50 nm. The upper limit of the thickness of the crystal structure straddling the bonding interface 40 is not limited, but may typically be about 1000 nm and more typically about 500 nm. The thickness can be measured from a transmission electronic microscope (TEM) image of the interdiffusion portions 41. The measurement is performed at five positions that are located at regular intervals along the direction of the plane of the bonding interface, and the largest value is used as the thickness.',\n",
       " '[0025]    In the bonding structure 1 having the above-described structure, since the sintered body 32 contains copper, and the support 20 is made of metal, electrical continuity is established between the sintered body 32 and the support 20. On the other hand, electrical continuity between the sintered body 32 and the die 10 may be established or may not be established. Considering that an object of the present invention is to dissipate heat generated from the die 10 of the semiconductor device, it is clear that the establishment of electrical continuity between the sintered body 32 and the support 20 and the establishment of electrical continuity between the sintered body 32 and the die 10 are not essential to the present invention.',\n",
       " '[0026]    Although a case in which the joint portion is composed of a sintered body made of a copper powder has been described above, the joint portion may also be composed of a sintered body of nickel powder or a sintered body of silver powder, instead of the sintered body of a copper powder. In this case, the material for the outermost surface of the support is nickel when a sintered body of nickel powder is used or is silver when a sintered body of silver powder is used. Then, in the bonding structure of the present invention, when the sintered body of nickel powder is used, interdiffusion portions including nickel contained in the support and nickel contained in the sintered body are formed so as to straddle the bonding interface between the support and the sintered body. When the sintered body of silver powder is used, interdiffusion portions including the silver of the support and the silver of the sintered body are formed so as to straddle the bonding interface between the support and the sintered body.',\n",
       " '[0027]    In both the case where interdiffusion portions of nickel are formed in the joint portion and the case where interdiffusion portions of silver are formed in the joint portion, it is preferable that, in each of the interdiffusion portions, a nickel or silver crystal structure having the same crystal orientation is formed so as to straddle the bonding interface, because the joint portion thereby has even more favorable thermal conductivity. In the interdiffusion portions, it is sufficient that the crystal orientations at any crystal plane of the nickel or silver crystal structure are the same, and it is not necessary that the crystal orientations are the same at a specific crystal plane.',\n",
       " '[0028]    With respect to details of the cases where the joint portion is composed of nickel or silver, details of the above-described case where the joint portion is composed of copper will be appropriately applied to those points that are not elaborated.',\n",
       " '[0029]    Fig. 3  shows another embodiment of the die bonding joining structure of the present invention. It should be noted that the description of the embodiment shown in  Figs. 1 and 2  will be appropriately applied to those points that are not elaborated regarding the present embodiment. The present embodiment relates to the support 20 having the outermost surface of a base material 20a of the support 20 being composed of gold alone 20b, and the bonding structure 1 that is formed by sintering a copper powder composed of copper alone. In the bonding structure 1, it is preferable that the interdiffusion portions 41 contain Cu3Au. Preferably, Cu3Au is in an alloyed state. A portion 41c that is composed of Cu3Au has favorable thermal conductivity. As a result, heat that has been generated from the die 10 of the semiconductor device is dissipated even more. Therefore, the semiconductor device is even less likely to be thermally damaged.',\n",
       " '[0030]    The presence of the Cu3Au portion 41c in the alloyed state in each interdiffusion portion 41 can be confirmed by performing element mapping of the interdiffusion portion 41 and determining the element distribution along the vertical cross-sectional direction X. In this element distribution, if a region in which the molar ratio of copper to gold is 3:1 and where the molar ratio is maintained can be identified, it can be judged that Cu3Au in the alloyed state is present in that region. Moreover, the presence or absence of Cu3Au in the alloyed state can also be judged by performing electron diffraction measurement of the interdiffusion portions 41.',\n",
       " '[0031]    It is more preferable that, in addition to including the Cu3Au portion 41c, each interdiffusion portion 41 of the bonding structure 1 of the embodiment shown in  Fig. 3  includes a solid solution portion 41d that is composed of a solid solution of gold and copper. The solid solution portion 41d is a portion composed of a solid solution of gold in copper which serves as the base material. In the solid solution portion 41d, it is preferable that the distribution of copper when viewed along the vertical cross-sectional direction X of the bonding structure 1 gradually decreases from the sintered body 32 side toward the support 20 side. On the other hand, with regard to the distribution of gold, it is preferable that the distribution of gold when viewed along the vertical cross-sectional direction X of the bonding structure 1 gradually increases from the sintered body 32 side toward the support 20 side. Preferably, in each interdiffusion portion 41, the solid solution portion 41d is located between the Cu3Au portion 41c and the sintered body 32, and due to this arrangement, the solid solution portion 41d has the function of increasing the bonding strength between the Cu3Au portion 41c and the sintered body 32. Moreover, the solid solution portion 41d also has the function of smoothly conducting heat from the sintered body 32 to the Cu3Au portion 41c. From the standpoint of making these functions even more prominent, it is preferable that the ratio between copper and gold in the solid solution portion 41d varies within a range from 0.01 mol or more and 0.33 mol or less of gold with respect to 1 mol of copper.',\n",
       " '[0032]    The presence of the solid solution portion 41d composed of copper and gold in each interdiffusion portion 41 can be confirmed by performing element mapping with respect to the solid solution portion 41d and determining the element distribution along the vertical cross-sectional direction X. Moreover, whether or not copper and gold form a solid solution can also be judged by performing electron diffraction measurement of the solid solution portion 41d.',\n",
       " '[0033]    With respect to the bonding structure 1 of the present embodiment, the die 10 of the semiconductor device may also have a surface layer 10a composed of gold alone and located on a bottom surface of the die 10, that is, a surface of the die 10 that opposes the support 20, and the bonding structure 1 may be formed by sintering this die 10 and a copper powder composed of copper alone. In this case, it is preferable that interdiffusion portions 44 containing gold of the surface layer 10a, which is formed on the bottom surface of the die 10, and copper, which is the constituent element of the sintered body, are formed so as to individually straddle a bonding interface 43 between the die 10 and the sintered body 32. These interdiffusion portions 44 each preferably contain a portion 44c that is composed of Cu3Au. Details of the interdiffusion portions 44 are the same as those of the above-described interdiffusion portions 41, and their description is not repeated here.',\n",
       " '[0034]    Furthermore, it is more preferable that, in addition to the Cu3Au portion 44c, each interdiffusion portion 44 of the bonding structure 1 has a solid solution portion 44d that is composed of a solid solution of gold and copper. Preferably, the solid solution portion 44d is located between the Cu3Au portion 44c and the sintered body 32. In the solid solution portion 44d, it is preferable that the distribution of copper when viewed along the vertical cross-sectional direction X of the bonding structure 1 gradually decreases from the sintered body 32 side toward the die 10 side. On the other hand, with regard to the distribution of gold, it is preferable that the distribution of gold when viewed along the vertical cross-sectional direction X of the bonding structure 1 gradually increases from the sintered body 32 side toward the die 10 side.',\n",
       " '[0035]    Since the interdiffusion portions 44 containing Cu3Au are formed between the die 10 and the sintered body 32, and the interdiffusion portions 44 each contain the solid solution portion 44d in addition to the Cu3Au portion 44c, heat that has been generated from the die 10 is smoothly conducted to the sintered body 32, and this heat is further conducted to the support 20 via the interdiffusion portions 41 on the support 20 side. As a result, heat that has been generated from the die 10 of the semiconductor device is dissipated even more. Accordingly, the semiconductor device is even less likely to be thermally damaged.',\n",
       " '[0036]    Next, a preferred method for manufacturing the above-described bonding structure 1 will be described. First, a case will be described in which the bonding structure 1 shown in  Fig. 1  is manufactured using a copper powder whose copper particles are composed of copper alone and a support whose outermost surface is composed of copper alone.',\n",
       " '[0037]    Generally, it is preferable that the copper powder is provided in paste form in view of ease of handling. It is preferable that the paste contains an organic solvent in addition to the copper powder. The same organic solvents as organic solvents that are used in copper conductive pastes can be used as the organic solvent without limitation. Examples of such organic solvents include monoalcohols, polyalcohols, polyalcohols alkyl ethers, polyalcohol aryl ethers, esters, nitrogen-containing heterocyclic compounds, amides, amines, saturated hydrocarbons, and the like. These organic solvents can be used alone or in combination of two or more. The concentration of copper in the paste is appropriately adjusted to a concentration that is suitable for handling.',\n",
       " '[0038]    The copper powder in paste form is applied to the outermost surface of the support 20. For example, the copper powder in paste form can be applied to the outermost surface of the support 20 using an apparatus such as a dispenser. At this time, the copper powder in paste form may be applied in a dotted arrangement like the spots on a dice or may be applied in a linear arrangement or a planar arrangement. Then, the die 10 is placed on the copper powder in paste form. In this state, heating is performed at a predetermined temperature, and thus, the copper particles constituting the copper powder are sintered together to give the sintered body 32. Simultaneously, the copper particles are sintered with the outermost surface of the support 20, and the copper particles are also sintered with the bottom surface of the die 10. Consequently, the die bonding joining structure 1 is formed, and the die 10 is fixed onto the support 20 via the sintered body 32. Moreover, the interdiffusion portions 41 are formed so as to individually straddle the bonding interface between the support 20 and the sintered body 32.',\n",
       " '[0039]    With respect to the sintering conditions, the sintering temperature is preferably between 150 Â°C and 400 Â°C inclusive and more preferably between 230 Â°C and 300 Â°C inclusive. On condition that the sintering temperature is within this range, the sintering time is preferably between 5 minutes and 60 minutes inclusive and more preferably between 7 minutes and 30 minutes inclusive. With regard to the sintering atmosphere, an oxidizing atmosphere such as air, an inert atmosphere such as nitrogen or argon, or a reducing atmosphere such as nitrogen-hydrogen can be used. Moreover, sintering may be performed in a vacuum. In particular, it is preferable to perform sintering in an inert atmosphere such as nitrogen in the presence of triethanolamine, because a copper crystal structure having the same crystal orientation can thereby be successfully formed in each interdiffusion portion so as to straddle the bonding interface.',\n",
       " '[0040]    In the case where the joint portion of the bonding structure 1 is composed of nickel or silver, nickel powder or silver powder can be used instead of the above-described copper powder. In particular, with regard to the nickel powder, it is preferable to use a nickel powder that is manufactured using a so-called polyol method, which is disclosed in, for example,  JP 2009-187672A  or the like, because a nickel crystal structure having the same crystal orientation can thereby be successfully formed in each interdiffusion portion so as to straddle the bonding interface. On the other hand, with regard to the silver powder, it is preferable to use a silver powder that is manufactured using a so-called wet reduction method, which is disclosed in, for example,  JP 2009-242913A  or the like, because a silver crystal structure having the same crystal orientation can thereby be successfully formed in each interdiffusion portion so as to straddle the bonding interface.',\n",
       " '[0041]    In the case where the copper powder is replaced with nickel powder, primary particles of the nickel powder preferably have an average particle diameter D between 20 nm and 300 nm inclusive. In the case where the copper powder is replaced with silver powder, primary particles of the silver powder preferably have an average particle diameter between 0.1 Âµm and 2 Âµm inclusive.',\n",
       " '[0042]    Next, a case will be described in which the bonding structure 1 shown in  Fig. 3  is manufactured using a copper powder whose copper particles are composed of copper alone, a support whose outermost surface is composed of gold alone, and a die whose bottom surface is composed of gold alone.',\n",
       " '[0043]    As is the case with the above-described method, it is preferable to use the copper powder in paste form. The copper powder in paste form is applied to the outermost surface of the support 20 using an apparatus such as a dispenser, for example. At this time, as described above, the copper powder in paste form can be applied to the entire region of an opposing surface of the die that opposes the support or a portion of that opposing surface. For example, the copper powder in paste form may be applied in a dotted arrangement like the spots on a dice, or may be applied in a linear arrangement or in a planar arrangement. Then, the die 10 is placed on the copper powder in paste form. In this state, heating is performed at a predetermined temperature, and thus, the copper particles that constitute the copper powder are sintered together to give the sintered body 32. Simultaneously, the copper particles 31 form necking with gold contained in outermost surface of the support 20 and gold contained in the bottom surface of the die 10, and mainly the copper diffuses into gold. Then, gold contained in the outermost surface of the support 20 and gold contained in the bottom surface of the die 10 form metallic bonds that are mainly composed of Cu3Au, which in turn constitute the interdiffusion portions 41 and 44. Furthermore, the solid solution portions 41d and 44d made of copper and gold are formed in the interdiffusion portions 41 and 44. The sintering conditions are the same as those of the above-described case.',\n",
       " '[0044]    In each of the above-described manufacturing methods, in order to successfully form the interdiffusion portions, it is advantageous to use a specific copper powder (hereinafter, also referred as to copper powder P) as the copper powder. Specifically, the interdiffusion portions can be successfully formed by using the copper powder P having an average particle diameter D of primary particles between 0.15 Âµm and 0.6 Âµm inclusive, having the value of the ratio of the average particle diameter D of the primary particles to an average particle diameter DBET that is calculated by assuming a spherical particle shape based on the BET specific surface area, that is, D/DBET between 0.8 and 4.0 inclusive, and having no layer for suppressing the agglomeration of particles provided on the surfaces of the particles. It is preferable to use the copper powder P alone or together with another copper powder. From the standpoint of suppressing shrinkage during sintering and increasing the bonding strength, it is preferable to use the copper powder P together with another copper powder having a larger particle diameter (e.g., having an average particle diameter D of about 1 to 5 Âµm) than the copper powder P. The copper powder may contain a copper powder having a layer for suppressing the agglomeration of particles provided on the surfaces of the particles as long as the significance of the present invention is not impaired. In the case where the copper powder P is used together with another copper powder, the copper powder P can be used in an amount of preferably not less than 50 mass% and more preferably not less than 55 mass% relative to the copper powder as a whole. The copper powder P will be described below.',\n",
       " '[0045]    When the average particle diameter D of the primary particles of the copper powder P is set at not more than 0.6 Âµm, during formation of the sintered body 32 using the copper powder P, the copper powder P is likely to be sintered at a low temperature, and also, a gap is unlikely to be formed between the particles 31, and the specific resistance of the sintered body 32 can be reduced. On the other hand, when the average particle diameter D of the primary particles of the copper powder P is set at not less than 0.15 Âµm, shrinkage of the particles during sintering of the copper powder can be prevented. From these standpoints, the average particle diameter D of the primary particles is preferably 0.15 to 0.6 Âµm and more preferably 0.15 to 0.4 Âµm. The \"average particle diameter D of primary particles of \"copper powder\" refers to a volume average particle diameter that is obtained by observing the copper powder using a scanning electron microscope at a magnification of 10, 000 times or 30, 000 times, measuring the Ferret diameter in the horizontal direction with respect to 200 particles in the visual field, and calculating a sphere-equivalent value from the measured values. From the standpoint of increasing the dispersibility of the copper powder, it is preferable that the copper particles 31 have a spherical particle shape.',\n",
       " '[0046]    It is preferable that the copper powder P does not have a layer (hereinafter also referred to as \"protective layer\") for suppressing the agglomeration of particles on the surfaces of the particles. The configuration in which the copper powder P has an average particle diameter D within the above-described numerical range and does not have a protective layer on the surfaces of the particles significantly contributes to favorable low-temperature sinterability of the copper powder P. The protective layer may be formed by treating the surfaces of the copper particles with a surface treating agent in a downstream process of the manufacturing of the copper powder in order to, for example, increase the dispersibility and the like. Examples of such a surface treating agent include various organic compounds such as fatty acids including stearic acid, lauric acid, and oleic acid, as well as coupling agents containing a semi-metal or a metal such as silicon, titanium, or zirconium. Furthermore, even in the case where no surface treating agent is used in the downstream process of the manufacturing of the copper powder, a protective layer may be formed by adding a dispersant to a reaction mixture containing the copper source during the manufacturing of the copper powder using a wet reduction method. Examples of such a dispersant include phosphates such as sodium pyrophosphate and organic compounds such as gum arabic.',\n",
       " '[0047]    From the standpoint of improving the low-temperature sinterability of the copper powder P of the present invention even more, it is preferable that the content of the elements that form the protective layer in the copper powder is minimized. Specifically, the total content of carbon, phosphorus, silicon, titanium, and zirconium, which are present in a conventional copper powder as the components of the protective layer, is preferably not more than 0.10 mass%, more preferably not more than 0.08 mass%, and even more preferably not more than 0.06 mass% relative to the copper powder.',\n",
       " '[0048]    The smaller the above-described total content, the better. However, if the total content is as low as about 0.06 mass%, the low-temperature sinterability of the copper powder P can be sufficiently improved. Moreover, if the carbon content of the copper powder is excessively high, a gas containing carbon may be generated when the copper powder P is sintered to form the sintered body 32, and due to this gas, the resulting film may crack or the film may separate from the substrate. When the above-described total content in the copper powder is low, problems that may be caused by the generation of carbon-containing gas can be prevented.',\n",
       " '[0049]    It is preferable that the copper powder P has a low impurity content and a high copper purity. Specifically, the copper content of the copper powder is preferably not less than 98 mass%, more preferably not less than 99 mass%, and even more preferably not less than 99.8 mass%.',\n",
       " '[0050]    Even though the copper powder P does not have a layer for suppressing the agglomeration of the particles 31 on the surfaces of the particles 31, the primary particles of the copper powder P are unlikely to agglomerate. The extent of agglomeration of the primary particles can be evaluated using, as a measure, the value of D/DBET, which is the ratio between the average particle diameter DBET that is calculated by assuming a spherical particle shape based on the BET specific surface area and the average particle diameter D of the primary particles. The value of D/DBET of the copper powder is between 0.8 and 4.0 inclusive. The value of D/DBET is a measure that indicates how broad the particle diameter distribution of the copper powder is when compared with an ideal monodispersed state of a copper powder that has a uniform particle diameter and that is free from agglomeration, and can be used to estimate the degree of agglomeration.',\n",
       " '[0051]    Evaluation of the value of D/DBET is essentially based on the premise that the copper powder particles have little surface porosity and are homogenous, and also have a continuous distribution (unimodal distribution). Under this premise, when the value of D/DBET is 1, it can be construed that the copper powder is in the above-described ideal monodispersed state. On the other hand, when the value of D/DBET is greater than 1, it can be estimated that the greater the value of D/DBET, the broader the particle diameter distribution of the copper powder, and accordingly, the less uniform the particle diameter or the higher the degree of agglomeration. It is rare that the value of D/DBET is smaller than 1, and such values are mostly observed with copper powders in a state that does not meet the above-described premise. The \"state that does not meet the above-described premise\" means, for example, a state in which the surfaces of the particles have pores, a state in which the surfaces of the particles are nonuniform, a state in which the particles agglomerate locally, and the like.',\n",
       " '[0052]    From the standpoint of further reducing agglomeration of the primary particles of the copper powder P, the value of D/DBET is preferably between 0.8 and 4.0 inclusive and more preferably between 0.9 and 1.8 inclusive. The value of DBET can be obtained by measuring the BET specific surface area of the copper powder P using a gas absorption method. The BET specific surface area is measured according to a single-point method using a FlowSorb II2300 manufactured by Shimadzu Corporation, for example. The amount of powder to be measured is set at 1.0 g. With regard to the preliminary degassing conditions, the degassing is performed at 150 Â°C for 15 minutes. The average particle diameter DBET is calculated from the obtained value of the BET specific surface area (SSA) and the density (8.94 g/cm<3>) of copper at about room temperature using the equation below:  D BET Âµm = 6 / SSA m 2 / g Ã— 8.94 g / cm 3\\n<img class=\"EMIRef\" id=\"688977948-ib0001\" />',\n",
       " '[0053]    The value of DBET itself is preferably between 0.08 Âµm and 0.6 Âµm inclusive, more preferably between 0.1 Âµm and 0.4 Âµm inclusive, and even more preferably between 0.2 Âµm and 0.4 Âµm inclusive. The value of the BET specific surface area of the copper powder P is preferably between 1.7 m<2>/g and 8.5 m<2>/g inclusive and more preferably between 2.5 m<2>/g and 4 m<2>/g inclusive.',\n",
       " '[0054]    The copper powder P has a crystallite diameter of preferably not more than 60 nm, more preferably not more than 50 nm, and even more preferably not more than 40 nm. The lower limit value of the crystallite diameter is preferably 20 nm. The low-temperature sinterability of the copper powder can be improved even more by setting the size of the crystallite diameter within this range. The crystallite diameter is obtained by performing X-ray diffraction measurement of the copper powder using a RINT-TTR III manufactured by Rigaku Corporation, for example, and calculating the crystallite diameter (nm) according to a Scherrer method using the obtained {111} peak.',\n",
       " '[0055]    Such the copper powder P has the feature of being easy to sinter even at a low temperature. Use of the copper powder P that is easy to sinter even at a low temperature facilitates the formation of a metallic bond between the die or the support and the sintered body during bonding of the die and the support via the sintered body of the copper powder, and consequently makes it possible to easily obtain the interdiffusion portions of the present invention.',\n",
       " '[0056]    Whether or not a copper powder is easy to sinter at a low temperature can be judged using the sintering onset temperature of that copper powder as a measure. The copper powder P that is preferably used in the present invention has a sintering onset temperature of preferably between 170 Â°C and 240 Â°C inclusive, more preferably between 170 Â°C and 235 Â°C inclusive, and even more preferably between 170 Â°C and 230 Â°C inclusive.',\n",
       " '[0057]    The above-described sintering onset temperature can be measured by allowing the copper powder P to stand in a furnace with a 3 vol% H2-N2 atmosphere and gradually increasing the temperature in the furnace. Specifically, the sintering onset temperature can be measured using a method that will be described below. Whether or not sintering has started is judged by observing the copper powder P taken out of the furnace, under a scanning electron microscope to see if surface association has occurred between particles. \"Surface association\" refers to a state in which particles are connected to each other such that the surface of a particle is continuous with the surface of another particle.',\n",
       " 'Method for Measuring Sintering Onset Temperature',\n",
       " '[0058]    A copper powder is placed on an aluminum table and kept at a set temperature of 160 Â°C for 1 hour in a 3 vol% H2-N2 atmosphere. Then, the copper powder is taken out of the furnace, and the copper powder is observed under a scanning electron microscope at a magnification of 50, 000 times to see if surface association has occurred. In the case where surface association is not observed, the set temperature of the furnace is reset at a temperature that is 10 Â°C higher than the aforementioned set temperature, and whether or not surface association has occurred is examined in the same manner as described above at the new set temperature. This operation is repeated, and the set temperature of the furnace at which surface association is observed is used as the sintering onset temperature (Â°C).',\n",
       " '[0059]    Next, a preferred method for manufacturing the above-described copper powder will be described. The present manufacturing method is based on the wet reduction of copper ions using hydrazine as a reducing agent, and one of the features of this method is that an organic solvent that is miscible with water and capable of reducing the surface tension of water is used as a solvent. Since the present manufacturing method uses such an organic solvent, the copper powder can be manufactured in an easy and simple manner.',\n",
       " '[0060]    In the present manufacturing method, a reaction mixture containing water and the above-described organic solvent as a liquid medium and also containing a monovalent or divalent copper source is mixed with hydrazine, and the copper source is reduced to generate copper particles. In the present manufacturing method, an operation for intentionally forming a protective layer is not performed.',\n",
       " '[0061]    Examples of the organic solvent include monohydric alcohols, polyhydric alcohols, esters of polyhydric alcohols, ketones, and ethers. The monohydric alcohols preferably have 1 to 5 carbon atoms and more preferably 1 to 4 carbon atoms. Specific examples of the monohydric alcohols include methanol, ethanol, n-propanol, isopropanol, and t-butanol.',\n",
       " '[0062]    Examples of the polyhydric alcohols include diols, such as ethylene glycol, 1,2-propylene glycol, and 1,3-propylene glycol, and triols, such as glycerol. Examples of the esters of polyhydric alcohols include fatty acid esters of the above-described polyhydric alcohols. For example, the fatty acid is preferably a monovalent fatty acid having 1 to 8 carbon atoms and more preferably 1 to 5 carbon atoms. The esters of polyhydric alcohols preferably have at least one hydroxyl group.',\n",
       " '[0063]    The ketones preferably have 1 to 6 carbon atoms and more preferably 1 to 4 carbon atoms in the alkyl group bonded to the carbonyl group. Specific examples of the ketones include ethyl methyl ketone and acetone. Examples of the ethers include dimethyl ether, ethyl methyl ether, and diethyl ether; oxetane, tetrahydrofuran, and tetrahydropyran, which are cyclic ethers; and macromolecular compounds such as polyethylene glycol and polypropylene glycol, which are polyethers.',\n",
       " '[0064]    Among the above-described various organic solvents, monohydric alcohols are preferably used in light of economic efficiency, safety, and the like.',\n",
       " '[0065]    In the above-described liquid medium, the ratio (mass of organic solvent/mass of water) of the mass of the organic solvent to the mass of water is preferably 1/99 to 90/10 and more preferably 1.5/98.5 to 90/10. When the ratio between water and the organic solvent is within this range, the surface tension of water during wet reduction can be appropriately reduced, so that a copper powder with the values of D and D/DBET within the above-described ranges can be easily obtained.',\n",
       " '[0066]    The above-described liquid medium is preferably composed only of the organic solvent and water. This is preferable from the standpoint of, for example, manufacturing a copper powder with no protective layer and few impurities without using a dispersant or the like.',\n",
       " '[0067]    In the present manufacturing method, a reaction mixture is prepared by dissolving or dispersing a copper source in the above-described liquid medium. An example of the method for preparing the reaction mixture is a method in which the liquid medium and the copper source are mixed and stirred. In the reaction mixture, the proportion of the copper source relative to the liquid medium is set such that the weight of the liquid medium per 1 g of the copper source is preferably between 4 g and 2000 g inclusive and more preferably between 8 g and 1000 g inclusive. It is preferable that the proportion of the copper source relative to the liquid medium is within this range, because the productivity of copper powder synthesis can thereby be increased.',\n",
       " '[0068]    Various monovalent or divalent copper compounds can be used as the above-described copper source. In particular, it is preferable to use copper acetate, copper hydroxide, copper sulfate, copper oxide, or cuprous oxide. When these copper compounds are used as the copper source, a copper powder with the values of D and D/DBET within the above-described ranges can be easily obtained. Also, a copper powder with few impurities can be obtained.',\n",
       " '[0069]    Then, the above-described reaction mixture is mixed with hydrazine. The amount of hydrazine to be added is preferably between 0.5 mol and 50 mol inclusive and more preferably between 1 mol and 20 mol inclusive with respect to 1 mol of copper. When the amount of hydrazine to be added is within this range, a copper powder having the value of D/DBET within the above-described range is easily obtained. For the same reason, the temperature of the reaction mixture is preferably maintained at a temperature between 40 Â°C and 90 Â°C inclusive and more preferably between 50 Â°C and 80 Â°C inclusive from the start to the end of the mixing. For the same reason, it is preferable to continue stirring the reaction mixture from the start to the end of the mixing.',\n",
       " '[0070]    It is preferable that the reaction mixture and hydrazine are mixed using either a method (a) or a method (b) below. In this manner, the occurrence of a problem due to a rapid reaction can be effectively prevented.\\n(a) Hydrazine is added to the reaction mixture a plurality of times at intervals.\\n(b) Hydrazine is added to the reaction mixture continuously for a predetermined period of time.',\n",
       " '[0071]    In the case (a), the \"plurality of times\" is preferably between about 2 times and 6 times inclusive. The intervals between additions of hydrazine are preferably between about 5 minutes and 90 minutes inclusive.',\n",
       " '[0072]    In the case (b), the \"predetermined period of time\" is preferably between about 1 minute and 180 minutes inclusive. It is preferable to continue stirring of the reaction mixture even after the completion of mixing with hydrazine to allow the reaction mixture to age. The reason for this is that, in this manner, a copper powder with the value of D/DBET within the above-described range is easily obtained.',\n",
       " '[0073]    In the present manufacturing method, it is preferable to use only hydrazine as the reducing agent, because a copper powder with few impurities can thereby be obtained. In this manner, a target copper powder can be obtained.',\n",
       " '[0074]    Although the present invention has been described based on the preferred embodiments above, the present invention is not limited to the foregoing embodiments. For example, in the embodiment shown in  Fig. 1 , crystal orientations of the copper crystal structures in the interdiffusion portions 41 may be determined with respect to a crystal plane other than {111} planes adopted in examples described later.',\n",
       " '[0075]    Moreover, although the foregoing embodiments are directed to a die bonding structure in which a die of a semiconductor device is used as the heat generating body, the present invention is not limited to this, and the present invention can be applied to bonding joint that uses a member other than a die of a semiconductor device as the heat generating body.',\n",
       " 'Examples',\n",
       " '[0076]    Hereinafter, the present invention will be described in greater detail using examples. However, the scope of the present invention is not limited to the examples below. It should be noted that, unless otherwise specified, \"%\" means \"mass%\", and \"parts\" means \"parts by mass\".',\n",
       " 'Example 1',\n",
       " '[0077]    In the present example, a die bonding joining structure having the structure shown in  Fig. 1  was produced.',\n",
       " '(1) Production of Copper Powder and Copper Paste',\n",
       " '[0078]    A 500-ml round-bottomed flask provided with a stirring blade was prepared. As a copper source, 15.71 g of copper acetate monohydrate was put into this round-bottomed flask. Furthermore, 10 g of water and 70.65 g of isopropanol serving as an organic solvent were put into this round-bottomed flask to obtain a reaction mixture. This reaction mixture was heated to 60 Â°C while being stirred at 150 rpm. While stirring was continued, 1.97 g of hydrazine monohydrate was added to the reaction mixture all at once. Then, the reaction mixture was stirred for 30 minutes. After that, 17.73 g of hydrazine monohydrate was added to the reaction mixture. The reaction mixture was further stirred for 30 minutes. After that, 7.88 g of hydrazine monohydrate was added to the reaction mixture. Then, the reaction mixture was continuously stirred for 1 hour while the temperature of the reaction mixture was kept at 60 Â°C. After the reaction was completed, the entire amount of the reaction mixture was separated into solid and liquid portions. The obtained solid portion was washed through decantation using pure water. The washing was repeated until the conductivity of the supernatant was 1000 ÂµS/cm or less. The washed product was separated into solid and liquid portions. Then, 160 g of ethanol was added to the obtained solid portion, and the mixture was filtered using a pressure filter. The filter cake was dried under reduced pressure at an ordinary temperature to give a target copper powder. With respect to this copper powder, the average particle diameter D of primary particles was 0.19 Âµm, the BET specific surface area (SSA) was 3.91 m<2>/g, DBET was 0.17 Âµm, D/DBET was 1.1, the total content of C, P, Si, Ti, and Zr was 0.05%, the copper content was more than 99.8%, the crystallite diameter was 35 nm, and the sintering onset temperature was 170 Â°C. This copper powder was mixed with a copper powder composed of copper particles formed through wet synthesis, namely, CS-20 (trade name) (cumulative volume particle diameter D50 = 3.0 Âµm, which was measured at a cumulative volume of 50 vol% using a laser diffraction/scattering type particle size distribution measurement method) manufactured by Mitsui Mining & Smelting Co., Ltd. in a mass ratio of 56:44 to obtain a mixed copper powder. This mixed copper powder was mixed with triethanolamine, 3-glycidoxypropyltrimethoxysilane and methanol all of which are a mixed organic solvent, to prepare a copper paste. In the mixed organic solvent, the proportion of triethanolamine was 54%, the proportion of 3-glycidoxypropyltrimethoxysilane was 29%, and the proportion of methanol was 17%. The proportion of the mixed copper powder in the copper paste was 86%, and the proportion of the organic solvent was 14%.',\n",
       " '(2) Production of Die Bonding Joining Structure',\n",
       " '[0079]    The copper paste was applied to five positions on a 10-mm-square support made of oxygen-free copper (99.96% purity) and having a thickness of 0.5 mm through screen printing using a resin film screen with a thickness of 50 Âµm such that the applied copper paste at each position was formed into a shape with a diameter of 0.8 mm. Oxygen-free copper (99.96% purity) formed into a shape that was 5 mm square with a thickness of 1 mm was placed on the center of the support as a die. Sintering was performed in a nitrogen atmosphere at 260 Â°C for 10 minutes to give a target bonding structure.  Figs. 4(a) to 4(c)  show TEM images of a portion in the vicinity of a bonding interface between the sintered body and the support of the obtained bonding structure. As is clear from these images, it can be seen that an interdiffusion portion in which copper contained in the support and the copper contained in the sintered body are diffused to each other was formed so as to straddle the bonding interface between the support and the sintered body, and a copper crystal structure having the same crystal orientation was formed in the interdiffusion portion so as to straddle the bonding interface. The copper crystal structure having the same crystal orientation had a traverse length of 94 nm at the bonding interface. Moreover, the maximum thickness of the copper crystal structure straddling the bonding interface was 170 nm.',\n",
       " 'Comparative Example 1',\n",
       " '(1) Production of Copper Paste',\n",
       " '[0080]    A mixed copper powder was used in which a copper powder composed of copper particles formed through wet synthesis, namely, 1050Y (trade name) manufactured by Mitsui Mining & Smelting Co., Ltd. and a copper powder composed of copper particles formed through wet synthesis, namely, 1300Y (trade name) manufactured by Mitsui Mining & Smelting Co., Ltd. were mixed in a mass ratio of 56:44. Both of the two types of copper powders that were used in Comparative Examples 1 and 2 had an organic protective layer on the surfaces of the particles thereof. Otherwise, the procedure was performed in the same manner as in (1) of Example 1, and thus a copper paste was prepared.',\n",
       " '(2) Production of Die Bonding Joining Structure',\n",
       " '[0081]    A bonding structure was formed in the same manner as in (2) of Example 1. The obtained bonding structure did not have enough mechanical strength to maintain the bonding between the die, the sintered body, and the support, and it was not possible to evaluate the heat dissipation properties of the obtained bonding structure and to observe TEM images of a portion in the vicinity of the bonding interface between the sintered body and the support.',\n",
       " 'Comparative Example 2',\n",
       " '(1) Production of Copper Paste',\n",
       " '[0082]    A mixed copper powder was used in which a copper powder composed of copper particles formed through wet synthesis, namely, 1050Y (trade name) manufactured by Mitsui Mining & Smelting Co., Ltd. and a copper powder composed of copper particles formed through wet synthesis, namely, 1300Y (trade name) manufactured by Mitsui Mining & Smelting Co., Ltd. were mixed in a mass ratio of 56:44. A mixed resin in which RE-303SL, which is a bisphenol F type epoxy resin manufactured by Nippon Kayaku Co., Ltd., RE-306, which is a phenol novolac type epoxy resin manufactured by Nippon Kayaku Co., Ltd., RE-310S, which is a bisphenol A type epoxy resin manufactured by Nippon Kayaku Co., Ltd., GAN, which is a liquid type epoxy resin manufactured by Nippon Kayaku Co., Ltd., KAYAHARD MCD, which is a hardener manufactured by Nippon Kayaku Co., Ltd., 2-(3,4-epoxycyclohexyl)ethyltrimethylsilane, 3-glycidoxypropyltrimethoxysilane, and Amicure MY24, which is a curing accelerator manufactured by Ajinomoto Fine-Techno Co., Inc., were mixed. The mixed copper powder and the mixed resin were mixed to prepare a copper paste. The mixed resin contained 31% RE-303SL, 15% RE-306, 15% RE-310S, 6% GAN, 28% KAYAHARD MCD, 1% 2-(3,4-epoxycyclohexyl)ethyltrimethylsilane, 1% 3-glycidoxypropyltrimethoxysilane, and 3% Amicure MY24. The copper paste contained 89% mixed copper powder and 11% mixed resin.',\n",
       " '(2) Production of Die Bonding Joining Structure',\n",
       " '[0083]    A bonding structure was formed in the same manner as in (2) of Example 1. TEM images of a portion in the vicinity of the bonding interface between the sintered body and the support of the obtained bonding structure were captured, but an interdiffusion portion in which a copper crystal structure having the same crystal orientation was formed so as to straddle the bonding interface was not observed.',\n",
       " 'Comparative Example 3',\n",
       " '[0084]    Comparative Example 3 is an example of a bonding structure in which no copper powder was used.',\n",
       " '(1) Preparation of Soldering Paste',\n",
       " '[0085]    A commercially available soldering paste (composition: Sn 63 mass%-Pb 37 mass%, manufactured by Hong Kong Welsolo Metal Technology Co., Limited) was prepared.',\n",
       " '(2) Production of Die Bonding Joining Structure',\n",
       " '[0086]    The soldering paste was applied to five positions on a 10-mm-square support made of oxygen-free copper (99.96% purity) and having a thickness of 0.5 mm through screen printing using a resin film screen with a thickness of 50 Âµm such that the applied soldering paste at each position was formed into a shape with a diameter of 0.8 mm. Oxygen-free copper (99.96% purity) formed into a shape that was 5 mm square with a thickness of 1 mm was placed on the center of the support as a die. Sintering was performed in a nitrogen atmosphere at 200 Â°C for 10 minutes to give a bonding structure.',\n",
       " 'Example 2',\n",
       " '[0087]    In the present example, a die bonding joining structure having the structure shown in  Fig. 3  was produced.',\n",
       " '(1) Production of Copper Powder and Copper Paste',\n",
       " '[0088]    A copper powder was obtained in the same manner as in Example 1 except that the amount of isopropanol used was 39.24 g, and the amount of water used was 50 g. With respect to this copper powder, the average particle diameter D was 0.24 Âµm, the BET specific surface area (SSA) was 3.17 m<2>/g, DBET was 0.21 Âµm, D/DBET was 1.2, the total content of C, P, Si, Ti, and Zr was 0.04%, the copper content was more than 99.8%, the crystallite diameter was 35 nm, and the sintering onset temperature was 170 Â°C. This copper powder was mixed with a copper powder composed of copper particles formed through wet synthesis, namely, CS-20 (trade name) manufactured by Mitsui Mining & Smelting Co., Ltd. in a mass ratio of 56:44 to obtain a mixed copper powder. After that, the procedure was performed in the same manner as in Example 1, and thus a copper paste was prepared.',\n",
       " '(2) Production of Die Bonding Joining Structure',\n",
       " '[0089]    A support was used in which a gold plating layer having a thickness of 1 Âµm was formed on the surface of a 10-mm-square base material made of nickel and having a thickness of 0.5 mm. The copper paste was applied to five positions on the surface of the gold plating layer of this support through screen printing using a resin film screen with a thickness of 50 Âµm such that the applied copper paste at each position was formed into a shape with a diameter of 0.8 mm. A 5-mm-square nickel plate having a thickness of 0.5 mm was placed on the center of the support as a die. A gold plating layer having a thickness of 1 Âµm was formed on a bottom surface of the die beforehand. Sintering was performed in a nitrogen atmosphere at 260 Â°C for 10 minutes to give a target bonding structure. The element distribution in a depth direction in the vicinity of the bonding interface between the sintered body and the support of the obtained bonding structure was determined using a scanning transmission electron microscope (manufactured by JEOL Ltd.) provided with an energy-dispersive X-ray analyzer.  Fig. 5  shows the results. As is clear from  Fig. 5 , it can be seen that an interdiffusion portion including a portion composed of Cu3Au and a portion composed of Au and Cu was formed so as to straddle the bonding interface between the support and the sintered body. It was confirmed from the results of electron diffraction that the interdiffusion portion was constituted by a Cu3Au alloy and a solid solution portion composed of a solid solution of Au in Cu. Moreover, it can be seen from  Fig. 5  that, in the solid solution portion, the proportion of copper gradually decreased from the sintered body side toward the support side, and the proportion of gold gradually increased from the sintered body side toward the support side. In the solid solution portion, the number of moles of Au with respect to 1 mol of Cu was within a range of 0.01 mol to 0.33 mol.',\n",
       " 'Comparative Example 4',\n",
       " '(1) Production of Copper Paste',\n",
       " '[0090]    A copper paste was prepared in the same manner as in (1) of Comparative Example 1.',\n",
       " '(2) Production of Die Bonding Joining Structure',\n",
       " '[0091]    A bonding structure was formed in the same manner as in (2) of Example 2. The obtained bonding structure did not have enough mechanical strength to maintain the bonding between the die, the sintered body, and the support, and it was not possible to evaluate the heat dissipation properties of the obtained bonding structure and to determine the element distribution in the depth direction of a portion in the vicinity of the bonding interface between the sintered body and the support of the obtained bonding structure.',\n",
       " 'Comparative Example 5',\n",
       " '(1) Production of Copper Paste',\n",
       " '[0092]    A copper paste was prepared in the same manner as in (1) of Comparative Example 2.',\n",
       " '(2) Production of Die Bonding Joining Structure',\n",
       " '[0093]    A bonding structure was formed in the same manner as in (2) of Example 2. The element distribution in the depth direction in the vicinity of the bonding interface between the sintered body and the support of the obtained bonding structure was determined using a scanning transmission electron microscope (manufactured by JEOL Ltd.) provided with an energy-dispersive X-ray analyzer, but an interdiffusion portion including a portion composed of Cu3Au and straddling the bonding interface between the support and the sintered body was not observed.',\n",
       " 'Comparative Example 6',\n",
       " '(1) Preparation of Soldering Paste',\n",
       " '[0094]    A soldering paste in which no copper powder was used was prepared in the same manner as in (1) of Comparative Example 3.',\n",
       " '(2) Production of Die Bonding Joining Structure',\n",
       " '[0095]    A support was used in which a gold plating layer with a thickness of 1 Âµm was formed on the surface of a 10-mm-square base material made of nickel and having a thickness of 0.5 mm. The soldering paste was applied to five positions on the surface of the gold plating layer of this support through screen printing using a resin film screen having a thickness of 50 Âµm such that the applied soldering paste at each position was formed into a shape with a diameter of 0.8 mm. A 5-mm-square nickel plate having a thickness of 0.5 mm was placed on the center of the support as a die. A gold plating layer having a thickness of 1 Âµm was formed on a bottom surface of the die beforehand. Sintering was performed in a nitrogen atmosphere at 200 Â°C for 10 minutes to give a bonding structure.',\n",
       " 'Evaluation',\n",
       " '[0096]    The heat dissipation properties of the die bonding joining structures obtained in the examples and the comparative examples were evaluated using a method described below. Table 1 below shows the results with respect to the above-described example and comparative examples regarding the die bonding joining structures with the structure shown in  Fig. 1 . Table 2 below shows the results with respect to the above-described example and comparative examples regarding the die bonding joining structures with the structure shown in  Fig. 3 .',\n",
       " 'Method for Evaluating Heat Dissipation Properties',\n",
       " '[0097]    Blackening treatment of a back surface, that is, a surface on which the die was not placed, of the support of each bonding structure was performed by applying a carbon spray to that surface. Then, this surface was irradiated with a pulsed laser beam at 3 kV using a thermal constant measurement apparatus TC-7000 manufactured by Shinku-Riko Inc., and a change in the surface temperature of the die over time after irradiation was measured using a thermocouple. The time t(1/2) taken for this temperature to rise by 1/2 of a temperature rise amount Î”T was calculated from the measurement results and used as an index for evaluation of the heat dissipation properties. Here, although the heat dissipation properties with respect to heat dissipation from the support toward the die via the joint portion were evaluated for convenience of the test, the direction in which heat is applied is not essential to the evaluation of the present invention. The temperature rise amount Î”T corresponds to the difference between the maximum temperature value after the laser irradiation and the temperature prior to the laser irradiation. A smaller t(1/2) indicates faster transfer of the heat incident on the back surface of the support to the surface of the die and therefore indicates more favorable heat dissipation properties.\\nTable 1 \\n<tb><SEP>t(1/2) [sec]\\n<tb>Example 1<SEP>0.44\\n<tb>Comparative Example 1<SEP>Not measurable\\n<tb>Comparative Example 2<SEP>0.70\\n<tb>Comparative Example 3<SEP>0.80\\nTable 2 \\n<tb><SEP>t(1/2) [sec]\\n<tb>Example 2<SEP>0.52\\n<tb>Comparative Example 4<SEP>Not measurable\\n<tb>Comparative Example 5<SEP>0.63\\n<tb>Comparative Example 6<SEP>0.60',\n",
       " '[0098]    As is clear from the results shown in Tables 1 and 2, the bonding structures obtained in the examples had superior heat dissipation properties to the bonding structures of the comparative examples.',\n",
       " 'Example 3',\n",
       " '[0099]    In the present example, a die bonding joining structure composed of nickel and having the structure shown in  Fig. 1  was produced.',\n",
       " '(1) Production of Nickel Paste',\n",
       " '[0100]    A nickel powder NN-20 manufactured by Mitsui Mining & Smelting Co., Ltd. was used. The average particle diameter D of primary particles of this nickel powder was 20 nm. A nickel paste was obtained by kneading 85 parts of this nickel powder and 15 parts of triethanolamine (manufactured by Kanto Chemical Co., Inc.) using a triple roll mill.',\n",
       " '(2) Production of Die Bonding Joining Structure',\n",
       " '[0101]    The nickel paste was applied to a support formed of a 15-mm-square nickel plate (99.98% purity) with a thickness of 0.1 mm through screen printing using a metal mask with a thickness of 50 Âµm such that the applied nickel paste was formed into a shape 10 mm square. A 10-mm-square nickel plate (99.98% purity) with a thickness of 0.1 mm was placed on the center of the support as a die. The temperature was increased to 300 Â°C at a rate of 5 Â°C/min in air and was kept for 30 minutes to give a target bonding structure.  Fig. 7  shows TEM images of a portion in the vicinity of the bonding interface between the sintered body and the support of the obtained bonding structure. As is clear from  Fig. 7 , it was found that an interdiffusion portion of the nickel of the support and the nickel of the sintered body was formed so as to straddle the bonding interface between the support and the sintered body, and a nickel crystal structure having the same crystal orientation was formed in the interdiffusion portion so as to straddle the bonding interface.',\n",
       " 'Example 4',\n",
       " '[0102]    In the present example, a die bonding joining structure composed of silver and having the structure shown in  Fig. 1  was produced.',\n",
       " '(1) Production of Silver Paste',\n",
       " '[0103]    A silver powder SPQ-05S manufactured by Kamioka Mining and Smelting Co., Ltd. was used. This silver powder had a crystallite diameter of 21 nm, an average particle diameter D of 1.05 Âµm, and a specific surface area of 1.00 m<2>/g. A silver paste was obtained by kneading 99 parts of this silver powder, 1 part of ethyl cellulose (ETHOCEL STD 100 manufactured by Nisshin & Co., Ltd.), and 17 parts of terpineol (manufactured by Nippon Terpene Chemicals, Inc.) using a triple roll mill.',\n",
       " '(2) Production of Die Bonding Joining Structure',\n",
       " '[0104]    The silver paste was applied to a support formed of a 15-mm-square silver plate (99.98% purity) with a thickness of 0.1 mm through screen printing using a metal mask with a thickness of 50 Âµm such that the applied silver paste was formed into a shape 10 mm square. A 10-mm-square silver plate (99.98% purity) with a thickness of 0.1 mm was placed on the center of the support as a die. The temperature was increased to 300 Â°C at a rate of 5 Â°C/min in air and was kept for 30 minutes to give a target bonding structure.  Fig. 8  shows TEM images of a portion in the vicinity of the bonding interface between the sintered body and the support of the obtained bonding structure. As is clear from  Fig. 8 , it was found that an interdiffusion portion in which silver contained in the support and silver contained in the sintered body are diffused to each other was formed so as to straddle the bonding interface between the support and the sintered body, and a silver crystal structure having the same crystal orientation was formed in the interdiffusion portion so as to straddle the bonding interface.',\n",
       " 'Industrial Applicability',\n",
       " '[0105]    According to the bonding joining structure of the present invention, heat generated from various heat generating bodies including a die of a semiconductor device is efficiently conducted to a support. That is to say, the bonding joining structure of the present invention has excellent heat dissipation properties. Therefore, the bonding joining structure of the present invention is especially useful as a bonding structure for a power device that is used in a power conversion apparatus, such as a converter or an inverter, for power control of that power conversion apparatus.',\n",
       " 'Reference Signs List',\n",
       " '[0106]    \\n1 : Die bonding joining structure\\n10 : Die of semiconductor device\\n20 : Support\\n30 : Joint portion\\n31 : Copper particle\\n32 : Sintered body\\n40, 43 : Bonding interface\\n41, 44 : Interdiffusion portion',\n",
       " 'PREFERRED EMBODIMENTS',\n",
       " '[0107]    \\n1. A bonding joining structure in which a heat generating body and a support comprising a metal are joined to each other via a joint portion composed of a sintered body of copper powder,\\nwherein the support contains copper or gold, the copper or gold being present in at least an outermost surface of the support, and\\nan interdiffusion portion in which copper or gold contained in the support and copper contained in the sintered body are diffused to each other is formed so as to straddle a bonding interface between the support and the sintered body.\\n2. The bonding joining structure according to embodiment 1,\\nwherein the bonding joining structure is a die bonding joining structure in which a die of a semiconductor device, the die serving as the heat generating body, and the support comprising a metal are joined to each other via the joint portion composed of the sintered body of the copper powder,\\nthe support contains copper or gold, the copper or gold being present in at least the outermost surface of the support, and\\nthe interdiffusion portion in which copper or gold contained in the support and copper contained in the sintered body are diffused to each other is formed so as to straddle the bonding interface between the support and the sintered body.\\n3. The bonding joining structure according to embodiment 2,\\nwherein copper is present in the outermost surface of the support, and\\na copper crystal structure having the same crystal orientation is formed in the interdiffusion portion so as to straddle the bonding interface.\\n4. The bonding joining structure according to embodiment 3,\\nwherein the copper crystal structure having the same crystal orientation has a traverse length of 10 nm or more at the bonding interface.\\n5. The bonding joining structure according to embodiment 2,\\nwherein gold is present in the outermost surface of the support, and the interdiffusion portion contains Cu3Au.\\n6. The bonding joining structure according to embodiment 5,\\nwherein the interdiffusion portion contains Cu3Au and a solid solution of gold and copper.\\n7. The bonding joining structure according to any one of embodiments 2 to 5,\\nwherein a gold layer is formed on a bottom surface of the die,\\nthe interdiffusion portion in which gold contained in the bottom surface of the die and copper contained in the sintered body are diffused to each other is formed so as to straddle a bonding interface between the die and the sintered body, and\\nthe interdiffusion portion contains Cu3Au.\\n8. The bonding joining structure according to embodiment 7,\\nwherein the interdiffusion portion contains Cu3Au and a solid solution of gold and copper.\\n9. A bonding joining structure in which a heat generating body and support comprising a metal are joined to each other via a joint portion composed of a sintered body of nickel powder,\\nwherein the support contains nickel, the nickel being present in at least an outermost surface of the support, and\\nan interdiffusion portion in which nickel contained in the support and nickel contained in the sintered body are diffused to each other is formed so as to straddle a bonding interface between the support and the sintered body.\\n10. A bonding joining structure in which a heat generating body and a support comprising a metal are joined to each other via a joint portion composed of a sintered body of silver powder,\\nwherein the support contains silver, the silver being present in at least an outermost surface of the support, and\\nan interdiffusion portion in which silver contained in the support and silver contained in the sintered body are diffused to each other is formed so as to straddle a bonding interface between the support and the sintered body.']"
      ]
     },
     "execution_count": 82,
     "metadata": {},
     "output_type": "execute_result"
    }
   ],
   "source": [
    "[ line['$'] for line in patent_data['description']['ops:world-patent-data']['ftxt:fulltext-documents']['ftxt:fulltext-document']['description']['p']]}"
   ]
  },
  {
   "cell_type": "code",
   "execution_count": 90,
   "metadata": {},
   "outputs": [
    {
     "data": {
      "text/plain": [
       "['1. A bonding joining structure (1) in which a heat generating body and a support (20) comprising a metal are joined to each other via a joint portion (30) composed of a sintered body (32) of copper powder,\\nwherein the support (20) contains copper, the copper being present in at least an outermost surface of the support (20),\\nan interdiffusion portion (41) in which copper contained in the support (20) and copper contained in the sintered body (32) are diffused to each other is formed so as to straddle a bonding interface (40) between the support (20) and the sintered body (32), and\\na copper crystal structure having the same crystal orientation is formed in the interdiffusion portion (41) so as to straddle the bonding interface (40).',\n",
       " '2. A bonding joining structure (1) in which a heat generating body and a support (20) comprising a metal are joined to each other via a joint portion (30) composed of a sintered body (32) of copper powder,\\nwherein the bonding joining structure (1) is a die bonding joining structure in which a die of a semiconductor device (10) serves as the heat generating body,\\nthe support (20) contains copper, the copper being present in at least an outermost surface of the support (20),\\nan interdiffusion portion (41) in which copper contained in the support (20) and copper contained in the sintered body (32) are diffused to each other is formed so as to straddle the bonding interface (40) between the support (20) and the sintered body (32), and\\na copper crystal structure having the same crystal orientation is formed in the interdiffusion portion (41) so as to straddle the bonding interface (40).',\n",
       " '3. The bonding joining structure (1) according to claim 1 or 2,\\nwherein the copper crystal structure having the same crystal orientation has a traverse length of 10 nm or more at the bonding interface (40).',\n",
       " '4. The bonding joining structure (1) according to claim 1 or 2,\\nwherein gold is present in the outermost surface of the support (20), and the interdiffusion portion (41) contains Cu3Au.',\n",
       " '5. The bonding joining structure (1) according to claim 4,\\nwherein the interdiffusion portion (41) contains Cu3Au and a solid solution of gold and copper.',\n",
       " '6. The bonding joining structure (1) according to any one of claims 1 to 4,\\nwherein a gold layer is formed on a bottom surface of the die (10),\\nthe interdiffusion portion (44) in which gold contained in the bottom surface of the die (10) and copper contained in the sintered body (32) are diffused to each other is formed so as to straddle a bonding interface (43) between the die (10) and the sintered body (32), and\\nthe interdiffusion portion (44) contains Cu3Au.',\n",
       " '7. The bonding joining structure (1) according to claim 6,\\nwherein the interdiffusion portion (44) contains Cu3Au and a solid solution of gold and copper.']"
      ]
     },
     "execution_count": 90,
     "metadata": {},
     "output_type": "execute_result"
    }
   ],
   "source": [
    "[line['$'] for line in patent_data['claims']['ops:world-patent-data']['ftxt:fulltext-documents']['ftxt:fulltext-document']['claims']['claim']['claim-text']]"
   ]
  },
  {
   "cell_type": "code",
   "execution_count": 64,
   "metadata": {},
   "outputs": [
    {
     "data": {
      "text/plain": [
       "b'orated to 1\\xe2\\x81\\x844 of i'"
      ]
     },
     "execution_count": 64,
     "metadata": {},
     "output_type": "execute_result"
    }
   ],
   "source": [
    "weird_patent = Path('../patents/netto_list/EP0000082.A1')\n",
    "\n",
    "#patent_data = load_patent(weird_patent)\n",
    "description_path = weird_patent / 'description.json'\n",
    "with open(description_path, 'rb') as fp:\n",
    "    description = fp.read()\n",
    "description[14190:14210]\n"
   ]
  },
  {
   "cell_type": "code",
   "execution_count": 102,
   "metadata": {},
   "outputs": [],
   "source": [
    "patent_path = successfully_downloaded_patents[-1]\n"
   ]
  },
  {
   "cell_type": "code",
   "execution_count": 103,
   "metadata": {},
   "outputs": [
    {
     "data": {
      "text/plain": [
       "{'ops:world-patent-data': {'@xmlns': {'ops': 'http://ops.epo.org',\n",
       "   '$': 'http://www.epo.org/exchange',\n",
       "   'xlink': 'http://www.w3.org/1999/xlink'},\n",
       "  'ops:fulltext-inquiry': {'ops:publication-reference': {'document-id': {'@document-id-type': 'epodoc',\n",
       "     'doc-number': {'$': 'EP3758048'},\n",
       "     'kind': {'$': 'A1'}}},\n",
       "   'ops:inquiry-result': {'publication-reference': {'document-id': {'@document-id-type': 'docdb',\n",
       "      'country': {'$': 'EP'},\n",
       "      'doc-number': {'$': '3758048'},\n",
       "      'kind': {'$': 'A1'}}},\n",
       "    'ops:fulltext-instance': [{'@system': 'ops.epo.org',\n",
       "      '@lang': 'EN',\n",
       "      '@desc': 'description',\n",
       "      'ops:fulltext-format-options': {'ops:fulltext-format': {'$': 'text-only'}}},\n",
       "     {'@system': 'ops.epo.org',\n",
       "      '@lang': 'EN',\n",
       "      '@desc': 'claims',\n",
       "      'ops:fulltext-format-options': {'ops:fulltext-format': {'$': 'text-only'}}}]}}}}"
      ]
     },
     "execution_count": 103,
     "metadata": {},
     "output_type": "execute_result"
    }
   ],
   "source": [
    "patent = load_patent(patent_path)\n",
    "patent['fulltext']"
   ]
  },
  {
   "cell_type": "code",
   "execution_count": 105,
   "metadata": {},
   "outputs": [
    {
     "data": {
      "text/plain": [
       "True"
      ]
     },
     "execution_count": 105,
     "metadata": {},
     "output_type": "execute_result"
    }
   ],
   "source": [
    "check_language(patent_path)"
   ]
  },
  {
   "cell_type": "code",
   "execution_count": 115,
   "metadata": {},
   "outputs": [
    {
     "name": "stdout",
     "output_type": "stream",
     "text": [
      "Exception loading ..\\patents\\netto_list\\EP3744778.A1, with exception When loading patent ..\\patents\\netto_list\\EP3744778.A1\n",
      "Exception loading ..\\patents\\netto_list\\EP3745105.A1, with exception When loading patent ..\\patents\\netto_list\\EP3745105.A1\n",
      "Exception loading ..\\patents\\netto_list\\EP3745106.A1, with exception When loading patent ..\\patents\\netto_list\\EP3745106.A1\n",
      "Exception loading ..\\patents\\netto_list\\EP3747266.A1, with exception When loading patent ..\\patents\\netto_list\\EP3747266.A1\n",
      "Exception loading ..\\patents\\netto_list\\EP3747422.A1, with exception When loading patent ..\\patents\\netto_list\\EP3747422.A1\n",
      "check_language failed\n",
      "Exception loading ..\\patents\\netto_list\\EP3757150.A1, with exception When loading patent ..\\patents\\netto_list\\EP3757150.A1\n",
      "Exception loading ..\\patents\\netto_list\\EP3757183.A1, with exception When loading patent ..\\patents\\netto_list\\EP3757183.A1\n"
     ]
    }
   ],
   "source": [
    "with (open('netto_list_descriptions_2015-2020.txt', 'w') as descriptions_fp,\n",
    "      open('netto_list_claims_2015-2020.txt', 'w') as claims_fp, \n",
    "      open('netto_list_claims_descriptions_2015-2020.txt', 'w') as claims_descriptions_fp,):\n",
    "    for patent in successfully_downloaded_patents[-100:]:\n",
    "        try:\n",
    "            if check_language(patent):\n",
    "                patent_data = load_patent(patent)\n",
    "                description = get_description(patent_data)\n",
    "                claims = get_claims(patent_data)\n",
    "                desc_str = '\\n'.join(description)\n",
    "                claims_str = '\\n'.join(claims)\n",
    "                descriptions_fp.write(desc_str + '\\n\\n')\n",
    "                claims_fp.write(claims_str + '\\n\\n')\n",
    "                claims_descriptions_fp.write(desc_str + '\\n' + claims_str + '\\n\\n')\n",
    "            else:\n",
    "                print('check_language failed')\n",
    "        except BaseException as e:\n",
    "            print(f\"Exception loading {patent}, with exception {e}\")\n",
    "            continue"
   ]
  },
  {
   "cell_type": "code",
   "execution_count": 83,
   "metadata": {},
   "outputs": [],
   "source": [
    "def get_description(patent_data):\n",
    "    return [ line['$'] for line in patent_data['description']['ops:world-patent-data']['ftxt:fulltext-documents']['ftxt:fulltext-document']['description']['p']]"
   ]
  },
  {
   "cell_type": "code",
   "execution_count": 110,
   "metadata": {},
   "outputs": [],
   "source": [
    "def get_claims(patent_data):\n",
    "    return [line['$'] for line in patent_data['claims']['ops:world-patent-data']['ftxt:fulltext-documents']['ftxt:fulltext-document']['claims']['claim']['claim-text']]\n",
    "    "
   ]
  },
  {
   "cell_type": "code",
   "execution_count": 111,
   "metadata": {},
   "outputs": [
    {
     "data": {
      "text/plain": [
       "['1. A bonding joining structure (1) in which a heat generating body and a support (20) comprising a metal are joined to each other via a joint portion (30) composed of a sintered body (32) of copper powder,\\nwherein the support (20) contains copper, the copper being present in at least an outermost surface of the support (20),\\nan interdiffusion portion (41) in which copper contained in the support (20) and copper contained in the sintered body (32) are diffused to each other is formed so as to straddle a bonding interface (40) between the support (20) and the sintered body (32), and\\na copper crystal structure having the same crystal orientation is formed in the interdiffusion portion (41) so as to straddle the bonding interface (40).',\n",
       " '2. A bonding joining structure (1) in which a heat generating body and a support (20) comprising a metal are joined to each other via a joint portion (30) composed of a sintered body (32) of copper powder,\\nwherein the bonding joining structure (1) is a die bonding joining structure in which a die of a semiconductor device (10) serves as the heat generating body,\\nthe support (20) contains copper, the copper being present in at least an outermost surface of the support (20),\\nan interdiffusion portion (41) in which copper contained in the support (20) and copper contained in the sintered body (32) are diffused to each other is formed so as to straddle the bonding interface (40) between the support (20) and the sintered body (32), and\\na copper crystal structure having the same crystal orientation is formed in the interdiffusion portion (41) so as to straddle the bonding interface (40).',\n",
       " '3. The bonding joining structure (1) according to claim 1 or 2,\\nwherein the copper crystal structure having the same crystal orientation has a traverse length of 10 nm or more at the bonding interface (40).',\n",
       " '4. The bonding joining structure (1) according to claim 1 or 2,\\nwherein gold is present in the outermost surface of the support (20), and the interdiffusion portion (41) contains Cu3Au.',\n",
       " '5. The bonding joining structure (1) according to claim 4,\\nwherein the interdiffusion portion (41) contains Cu3Au and a solid solution of gold and copper.',\n",
       " '6. The bonding joining structure (1) according to any one of claims 1 to 4,\\nwherein a gold layer is formed on a bottom surface of the die (10),\\nthe interdiffusion portion (44) in which gold contained in the bottom surface of the die (10) and copper contained in the sintered body (32) are diffused to each other is formed so as to straddle a bonding interface (43) between the die (10) and the sintered body (32), and\\nthe interdiffusion portion (44) contains Cu3Au.',\n",
       " '7. The bonding joining structure (1) according to claim 6,\\nwherein the interdiffusion portion (44) contains Cu3Au and a solid solution of gold and copper.']"
      ]
     },
     "execution_count": 111,
     "metadata": {},
     "output_type": "execute_result"
    }
   ],
   "source": [
    "get_claims(patent_data)"
   ]
  },
  {
   "cell_type": "code",
   "execution_count": null,
   "metadata": {},
   "outputs": [],
   "source": []
  }
 ],
 "metadata": {
  "interpreter": {
   "hash": "be8c160317c399d920008537b4087fd79b1b46795a6acc5d85333d56eef49d44"
  },
  "kernelspec": {
   "display_name": "Python 3.9.7 64-bit ('prv_kemi': conda)",
   "name": "python3"
  },
  "language_info": {
   "codemirror_mode": {
    "name": "ipython",
    "version": 3
   },
   "file_extension": ".py",
   "mimetype": "text/x-python",
   "name": "python",
   "nbconvert_exporter": "python",
   "pygments_lexer": "ipython3",
   "version": "3.9.7"
  },
  "orig_nbformat": 4
 },
 "nbformat": 4,
 "nbformat_minor": 2
}
