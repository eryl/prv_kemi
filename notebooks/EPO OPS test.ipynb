{
 "cells": [
  {
   "cell_type": "code",
   "execution_count": 1,
   "id": "0539afcc",
   "metadata": {},
   "outputs": [],
   "source": [
    "import epo_ops\n",
    "import os\n",
    "import json\n",
    "from pathlib import Path\n",
    "import xml.etree.ElementTree as ET\n",
    "\n",
    "middlewares = [\n",
    "    epo_ops.middlewares.Dogpile(),\n",
    "    epo_ops.middlewares.Throttler(),\n",
    "]"
   ]
  },
  {
   "cell_type": "code",
   "execution_count": 2,
   "id": "de955843",
   "metadata": {},
   "outputs": [],
   "source": [
    "# The api keys should be in a json-file in the project root, with two attributes: \"key\" and \"secret\" for example:\n",
    "# { \"key\": \"YOUR_APPLICATION_KEY\", \"secret\": \"YOUR_APPLICATION_SECRET\"}\n",
    "api_keys_path = Path('..') / 'api_keys.json'"
   ]
  },
  {
   "cell_type": "code",
   "execution_count": 3,
   "id": "7a4cdbae",
   "metadata": {},
   "outputs": [],
   "source": [
    "with open(api_keys_path, 'r') as fp:\n",
    "    api_keys = json.load(fp)"
   ]
  },
  {
   "cell_type": "code",
   "execution_count": 4,
   "id": "9375f73f",
   "metadata": {},
   "outputs": [],
   "source": [
    "client = epo_ops.Client(\n",
    "    key=api_keys['key'],\n",
    "    secret=api_keys['secret'],\n",
    "    middlewares=middlewares,\n",
    ")"
   ]
  },
  {
   "cell_type": "code",
   "execution_count": 5,
   "id": "a753c708",
   "metadata": {},
   "outputs": [],
   "source": [
    "from importlib import reload\n",
    "reload(epo_ops.models)\n",
    "from epo_ops.models import Epodoc, Docdb"
   ]
  },
  {
   "cell_type": "code",
   "execution_count": null,
   "id": "b75e6372",
   "metadata": {},
   "outputs": [],
   "source": [
    "doc = Epodoc('EP1000000.A1')"
   ]
  },
  {
   "cell_type": "code",
   "execution_count": null,
   "id": "b5289771",
   "metadata": {},
   "outputs": [],
   "source": [
    "doc.as_api_input()"
   ]
  },
  {
   "cell_type": "code",
   "execution_count": null,
   "id": "f97f4faf",
   "metadata": {},
   "outputs": [],
   "source": [
    "req = client.published_data('publication', doc, endpoint='claims')"
   ]
  },
  {
   "cell_type": "code",
   "execution_count": null,
   "id": "0f9940ba",
   "metadata": {
    "scrolled": true
   },
   "outputs": [],
   "source": [
    "req"
   ]
  },
  {
   "cell_type": "code",
   "execution_count": null,
   "id": "b280a4b0",
   "metadata": {},
   "outputs": [],
   "source": [
    "req = client.published_data('publication', doc, endpoint='fulltext')\n",
    "os.makedirs(f'../{doc.as_api_input()}', exist_ok=True)\n",
    "with open(f'../{doc.as_api_input()}/fulltext.xml', 'wb') as fp:\n",
    "    fp.write(req.content)"
   ]
  },
  {
   "cell_type": "code",
   "execution_count": null,
   "id": "f0423c16",
   "metadata": {},
   "outputs": [],
   "source": [
    "req = client.published_data('publication', doc, endpoint='biblio')\n",
    "os.makedirs(f'../{doc.as_api_input()}', exist_ok=True)\n",
    "with open(f'../{doc.as_api_input()}/biblio.xml', 'wb') as fp:\n",
    "    fp.write(req.content)"
   ]
  },
  {
   "cell_type": "code",
   "execution_count": null,
   "id": "50619672",
   "metadata": {},
   "outputs": [],
   "source": [
    "endpoint = 'description'\n",
    "req = client.published_data('publication', doc, endpoint=endpoint)\n",
    "os.makedirs(f'../{doc.as_api_input()}', exist_ok=True)\n",
    "with open(f'../{doc.as_api_input()}/{endpoint}.xml', 'wb') as fp:\n",
    "    fp.write(req.content)"
   ]
  },
  {
   "cell_type": "code",
   "execution_count": null,
   "id": "6e89eab8",
   "metadata": {},
   "outputs": [],
   "source": [
    "endpoint = 'claims'\n",
    "req = client.published_data('publication', doc, endpoint=endpoint)\n",
    "os.makedirs(f'../{doc.as_api_input()}', exist_ok=True)\n",
    "with open(f'../{doc.as_api_input()}/{endpoint}.xml', 'wb') as fp:\n",
    "    fp.write(req.content)"
   ]
  },
  {
   "cell_type": "code",
   "execution_count": null,
   "id": "d7750ab3",
   "metadata": {},
   "outputs": [],
   "source": [
    "endpoint = 'images'\n",
    "req = client.published_data('publication', doc, endpoint=endpoint)\n",
    "os.makedirs(f'../{doc.as_api_input()}', exist_ok=True)\n",
    "with open(f'../{doc.as_api_input()}/{endpoint}.xml', 'wb') as fp:\n",
    "    fp.write(req.content)"
   ]
  },
  {
   "cell_type": "code",
   "execution_count": null,
   "id": "6e3693f2",
   "metadata": {
    "scrolled": true
   },
   "outputs": [],
   "source": [
    "req.content"
   ]
  },
  {
   "cell_type": "code",
   "execution_count": null,
   "id": "c62b1f0c",
   "metadata": {},
   "outputs": [],
   "source": [
    "endpoint = 'images'\n",
    "tree = ET.parse(f'../{doc.as_api_input()}/{endpoint}.xml')"
   ]
  },
  {
   "cell_type": "code",
   "execution_count": null,
   "id": "41c6d1a5",
   "metadata": {},
   "outputs": [],
   "source": [
    "tree"
   ]
  },
  {
   "cell_type": "code",
   "execution_count": null,
   "id": "09948b4e",
   "metadata": {},
   "outputs": [],
   "source": [
    "root = tree.getroot()"
   ]
  },
  {
   "cell_type": "code",
   "execution_count": null,
   "id": "de640ae2",
   "metadata": {},
   "outputs": [],
   "source": [
    "root"
   ]
  },
  {
   "cell_type": "code",
   "execution_count": null,
   "id": "631e40cd",
   "metadata": {},
   "outputs": [],
   "source": [
    "root.findall('{http://ops.epo.org}document-instance')"
   ]
  },
  {
   "cell_type": "code",
   "execution_count": null,
   "id": "8689f9d1",
   "metadata": {},
   "outputs": [],
   "source": [
    "root"
   ]
  },
  {
   "cell_type": "code",
   "execution_count": null,
   "id": "74e409e2",
   "metadata": {},
   "outputs": [],
   "source": [
    "[e.attrib for e in root.iter()]"
   ]
  },
  {
   "cell_type": "code",
   "execution_count": 6,
   "id": "e5860448",
   "metadata": {},
   "outputs": [],
   "source": [
    "def fetch_data(doc_id):\n",
    "    doc = Epodoc(doc_id)\n",
    "    os.makedirs(f'../{doc.as_api_input()}', exist_ok=True)\n",
    "    \n",
    "    # Fetch XML\n",
    "    for endpoint in [\"fulltext\", \"biblio\", \"description\", \"claims\", \"images\"]:\n",
    "        print(\"Get\", endpoint)\n",
    "        req = client.published_data('publication', doc, endpoint=endpoint)\n",
    "        with open(f'../{doc.as_api_input()}/{endpoint}.xml', 'wb') as fp:\n",
    "            fp.write(req.content)\n",
    "            \n",
    "    # Fetch images\n",
    "    endpoint = \"images\"\n",
    "    tree = ET.parse(f'../{doc.as_api_input()}/{endpoint}.xml')\n",
    "    # Extract image paths\n",
    "    paths = [e.attrib['link'] for e in tree.getroot().iter() if 'link' in e.attrib]\n",
    "    # Get and write to disk\n",
    "    for p in paths:\n",
    "        print(\"Get\", p)\n",
    "        req = client.image(p, range=1)\n",
    "        name = p.split('/')[-1]\n",
    "        with open(f'../{doc.as_api_input()}/{name}.tiff', 'wb') as fp:\n",
    "            fp.write(req.content)"
   ]
  },
  {
   "cell_type": "code",
   "execution_count": 7,
   "id": "9cda786f",
   "metadata": {},
   "outputs": [],
   "source": [
    "# Search by keyphrase\n",
    "query = \"laser scanning microscope\"\n",
    "num_docs = 5\n",
    "req = client.published_data_search(query, range_begin=1, range_end=num_docs)"
   ]
  },
  {
   "cell_type": "code",
   "execution_count": 8,
   "id": "be0441c4",
   "metadata": {},
   "outputs": [
    {
     "name": "stdout",
     "output_type": "stream",
     "text": [
      "<ns0:world-patent-data xmlns:ns0=\"http://ops.epo.org\" xmlns:ns1=\"http://www.epo.org/exchange\">\n",
      "  <ns0:biblio-search total-result-count=\"3095\">\n",
      "    <ns0:query syntax=\"CQL\">(txt = laser and txt = scanning) and txt = microscope</ns0:query>\n",
      "    <ns0:range begin=\"1\" end=\"5\" />\n",
      "    <ns0:search-result>\n",
      "      <ns0:publication-reference system=\"ops.epo.org\" family-id=\"69180930\">\n",
      "        <ns1:document-id document-id-type=\"docdb\">\n",
      "          <ns1:country>US</ns1:country>\n",
      "          <ns1:doc-number>2021311091</ns1:doc-number>\n",
      "          <ns1:kind>A1</ns1:kind>\n",
      "        </ns1:document-id>\n",
      "      </ns0:publication-reference>\n",
      "      <ns0:publication-reference system=\"ops.epo.org\" family-id=\"77854503\">\n",
      "        <ns1:document-id document-id-type=\"docdb\">\n",
      "          <ns1:country>US</ns1:country>\n",
      "          <ns1:doc-number>2021302465</ns1:doc-number>\n",
      "          <ns1:kind>A1</ns1:kind>\n",
      "        </ns1:document-id>\n",
      "      </ns0:publication-reference>\n",
      "      <ns0:publication-reference system=\"ops.epo.org\" family-id=\"77663493\">\n",
      "        <ns1:document-id document-id-type=\"docdb\">\n",
      "          <ns1:country>ES</ns1:country>\n",
      "          <ns1:doc-number>2853354</ns1:doc-number>\n",
      "          <ns1:kind>A1</ns1:kind>\n",
      "        </ns1:document-id>\n",
      "      </ns0:publication-reference>\n",
      "      <ns0:publication-reference system=\"ops.epo.org\" family-id=\"70973321\">\n",
      "        <ns1:document-id document-id-type=\"docdb\">\n",
      "          <ns1:country>CA</ns1:country>\n",
      "          <ns1:doc-number>3128173</ns1:doc-number>\n",
      "          <ns1:kind>A1</ns1:kind>\n",
      "        </ns1:document-id>\n",
      "      </ns0:publication-reference>\n",
      "      <ns0:publication-reference system=\"ops.epo.org\" family-id=\"77366003\">\n",
      "        <ns1:document-id document-id-type=\"docdb\">\n",
      "          <ns1:country>US</ns1:country>\n",
      "          <ns1:doc-number>2021263068</ns1:doc-number>\n",
      "          <ns1:kind>A1</ns1:kind>\n",
      "        </ns1:document-id>\n",
      "      </ns0:publication-reference>\n",
      "    </ns0:search-result>\n",
      "  </ns0:biblio-search>\n",
      "</ns0:world-patent-data>\n"
     ]
    }
   ],
   "source": [
    "# Print result\n",
    "element = ET.XML(req.content)\n",
    "ET.indent(element)\n",
    "print(ET.tostring(element, encoding='unicode'))"
   ]
  },
  {
   "cell_type": "code",
   "execution_count": 9,
   "id": "e10f740b",
   "metadata": {},
   "outputs": [
    {
     "name": "stdout",
     "output_type": "stream",
     "text": [
      "Get fulltext\n",
      "Get biblio\n",
      "Get description\n",
      "Get claims\n",
      "Get images\n",
      "Get published-data/images/ES/2853354/A1/thumbnail\n",
      "Get published-data/images/ES/2853354/A1/fullimage\n"
     ]
    }
   ],
   "source": [
    "# Fetch data from one of the docs\n",
    "doc_id = \"ES2853354.A1\"\n",
    "fetch_data(doc_id)"
   ]
  },
  {
   "cell_type": "code",
   "execution_count": null,
   "id": "2a1d12db",
   "metadata": {},
   "outputs": [],
   "source": []
  }
 ],
 "metadata": {
  "kernelspec": {
   "display_name": "Python 3 (ipykernel)",
   "language": "python",
   "name": "python3"
  },
  "language_info": {
   "codemirror_mode": {
    "name": "ipython",
    "version": 3
   },
   "file_extension": ".py",
   "mimetype": "text/x-python",
   "name": "python",
   "nbconvert_exporter": "python",
   "pygments_lexer": "ipython3",
   "version": "3.9.7"
  }
 },
 "nbformat": 4,
 "nbformat_minor": 5
}
