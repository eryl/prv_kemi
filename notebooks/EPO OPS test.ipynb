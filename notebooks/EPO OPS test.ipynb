{
 "cells": [
  {
   "cell_type": "code",
   "execution_count": 1,
   "id": "0539afcc",
   "metadata": {},
   "outputs": [],
   "source": [
    "import epo_ops\n",
    "import os\n",
    "import json\n",
    "from pathlib import Path\n",
    "\n",
    "middlewares = [\n",
    "    epo_ops.middlewares.Dogpile(),\n",
    "    epo_ops.middlewares.Throttler(),\n",
    "]"
   ]
  },
  {
   "cell_type": "code",
   "execution_count": 2,
   "id": "de955843",
   "metadata": {},
   "outputs": [],
   "source": [
    "# The api keys should be in a json-file in the project root, with two attributes: \"key\" and \"secret\" for example:\n",
    "# { \"key\": \"YOUR_APPLICATION_KEY\", \"secret\": \"YOUR_APPLICATION_SECRET\"}\n",
    "api_keys_path = Path('..') / 'api_keys.json'"
   ]
  },
  {
   "cell_type": "code",
   "execution_count": 3,
   "id": "7a4cdbae",
   "metadata": {},
   "outputs": [],
   "source": [
    "with open(api_keys_path, 'r') as fp:\n",
    "    api_keys = json.load(fp)"
   ]
  },
  {
   "cell_type": "code",
   "execution_count": 4,
   "id": "9375f73f",
   "metadata": {},
   "outputs": [],
   "source": [
    "client = epo_ops.Client(\n",
    "    key=api_keys['key'],\n",
    "    secret=api_keys['secret'],\n",
    "    middlewares=middlewares,\n",
    ")"
   ]
  },
  {
   "cell_type": "code",
   "execution_count": 5,
   "id": "fd508793",
   "metadata": {},
   "outputs": [],
   "source": [
    "from epo_ops.models import Epodoc, Docdb"
   ]
  },
  {
   "cell_type": "code",
   "execution_count": 6,
   "id": "a753c708",
   "metadata": {},
   "outputs": [],
   "source": [
    "from importlib import reload\n",
    "reload(epo_ops.models)\n",
    "from epo_ops.models import Epodoc, Docdb"
   ]
  },
  {
   "cell_type": "code",
   "execution_count": 7,
   "id": "b75e6372",
   "metadata": {},
   "outputs": [],
   "source": [
    "doc = Epodoc('EP1000000.A1')"
   ]
  },
  {
   "cell_type": "code",
   "execution_count": 8,
   "id": "b5289771",
   "metadata": {},
   "outputs": [
    {
     "data": {
      "text/plain": [
       "'EP1000000.A1'"
      ]
     },
     "execution_count": 8,
     "metadata": {},
     "output_type": "execute_result"
    }
   ],
   "source": [
    "doc.as_api_input()"
   ]
  },
  {
   "cell_type": "code",
   "execution_count": 9,
   "id": "f97f4faf",
   "metadata": {},
   "outputs": [],
   "source": [
    "req = client.published_data('publication', doc, endpoint='claims')"
   ]
  },
  {
   "cell_type": "code",
   "execution_count": 10,
   "id": "0f9940ba",
   "metadata": {
    "scrolled": true
   },
   "outputs": [
    {
     "data": {
      "text/plain": [
       "<Response [200]>"
      ]
     },
     "execution_count": 10,
     "metadata": {},
     "output_type": "execute_result"
    }
   ],
   "source": [
    "req"
   ]
  },
  {
   "cell_type": "code",
   "execution_count": 11,
   "id": "b280a4b0",
   "metadata": {},
   "outputs": [],
   "source": [
    "req = client.published_data('publication', doc, endpoint='fulltext')\n",
    "os.makedirs(f'../{doc.as_api_input()}', exist_ok=True)\n",
    "with open(f'../{doc.as_api_input()}/fulltext.xml', 'wb') as fp:\n",
    "    fp.write(req.content)"
   ]
  },
  {
   "cell_type": "code",
   "execution_count": 12,
   "id": "f0423c16",
   "metadata": {},
   "outputs": [],
   "source": [
    "req = client.published_data('publication', doc, endpoint='biblio')\n",
    "os.makedirs(f'../{doc.as_api_input()}', exist_ok=True)\n",
    "with open(f'../{doc.as_api_input()}/biblio.xml', 'wb') as fp:\n",
    "    fp.write(req.content)"
   ]
  },
  {
   "cell_type": "code",
   "execution_count": 13,
   "id": "50619672",
   "metadata": {},
   "outputs": [],
   "source": [
    "endpoint = 'description'\n",
    "req = client.published_data('publication', doc, endpoint=endpoint)\n",
    "os.makedirs(f'../{doc.as_api_input()}', exist_ok=True)\n",
    "with open(f'../{doc.as_api_input()}/{endpoint}.xml', 'wb') as fp:\n",
    "    fp.write(req.content)"
   ]
  },
  {
   "cell_type": "code",
   "execution_count": 14,
   "id": "6e89eab8",
   "metadata": {},
   "outputs": [],
   "source": [
    "endpoint = 'claims'\n",
    "req = client.published_data('publication', doc, endpoint=endpoint)\n",
    "os.makedirs(f'../{doc.as_api_input()}', exist_ok=True)\n",
    "with open(f'../{doc.as_api_input()}/{endpoint}.xml', 'wb') as fp:\n",
    "    fp.write(req.content)"
   ]
  },
  {
   "cell_type": "code",
   "execution_count": 15,
   "id": "d7750ab3",
   "metadata": {},
   "outputs": [],
   "source": [
    "endpoint = 'images'\n",
    "req = client.published_data('publication', doc, endpoint=endpoint)\n",
    "os.makedirs(f'../{doc.as_api_input()}', exist_ok=True)\n",
    "with open(f'../{doc.as_api_input()}/{endpoint}.xml', 'wb') as fp:\n",
    "    fp.write(req.content)"
   ]
  },
  {
   "cell_type": "code",
   "execution_count": 16,
   "id": "6e3693f2",
   "metadata": {
    "scrolled": true
   },
   "outputs": [
    {
     "data": {
      "text/plain": [
       "b'<?xml version=\"1.0\" encoding=\"UTF-8\"?><?xml-stylesheet type=\"text/xsl\" href=\"/3.2/style/pub-inquiry.xsl\"?>\\n<ops:world-patent-data xmlns=\"http://www.epo.org/exchange\" xmlns:ops=\"http://ops.epo.org\" xmlns:xlink=\"http://www.w3.org/1999/xlink\">\\n    <ops:document-inquiry>\\n        <ops:publication-reference>\\n            <document-id document-id-type=\"epodoc\">\\n                <doc-number>EP1000000</doc-number>\\n                <kind>A1</kind>\\n            </document-id>\\n        </ops:publication-reference>\\n        <ops:inquiry-result>\\n            <publication-reference>\\n                <document-id document-id-type=\"docdb\">\\n                    <country>EP</country>\\n                    <doc-number>1000000</doc-number>\\n                    <kind>A1</kind>\\n                </document-id>\\n            </publication-reference>\\n            <ops:document-instance system=\"ops.epo.org\" number-of-pages=\"12\" desc=\"FullDocument\" link=\"published-data/images/EP/1000000/A1/fullimage\">\\n                <ops:document-format-options>\\n                    <ops:document-format>application/pdf</ops:document-format>\\n                    <ops:document-format>application/tiff</ops:document-format>\\n                </ops:document-format-options>\\n                <ops:document-section name=\"ABSTRACT\" start-page=\"1\"/>\\n                <ops:document-section name=\"BIBLIOGRAPHY\" start-page=\"1\"/>\\n                <ops:document-section name=\"CLAIMS\" start-page=\"3\"/>\\n                <ops:document-section name=\"DESCRIPTION\" start-page=\"2\"/>\\n                <ops:document-section name=\"DRAWINGS\" start-page=\"5\"/>\\n                <ops:document-section name=\"SEARCH_REPORT\" start-page=\"11\"/>\\n            </ops:document-instance>\\n            <ops:document-instance system=\"ops.epo.org\" number-of-pages=\"6\" desc=\"Drawing\" link=\"published-data/images/EP/1000000/A1/thumbnail\">\\n                <ops:document-format-options>\\n                    <ops:document-format>application/pdf</ops:document-format>\\n                    <ops:document-format>application/tiff</ops:document-format>\\n                </ops:document-format-options>\\n                <ops:document-section name=\"DRAWINGS\" start-page=\"1\"/>\\n            </ops:document-instance>\\n            <ops:document-instance system=\"ops.epo.org\" number-of-pages=\"1\" desc=\"FirstPageClipping\" link=\"published-data/images/EP/1000000/PA/firstpage\">\\n                <ops:document-format-options>\\n                    <ops:document-format>application/pdf</ops:document-format>\\n                    <ops:document-format>application/tiff</ops:document-format>\\n                    <ops:document-format>image/jpeg</ops:document-format>\\n                    <ops:document-format>image/png</ops:document-format>\\n                </ops:document-format-options>\\n                <ops:document-section name=\"ABSTRACT\" start-page=\"1\"/>\\n                <ops:document-section name=\"BIBLIOGRAPHY\" start-page=\"1\"/>\\n            </ops:document-instance>\\n        </ops:inquiry-result>\\n    </ops:document-inquiry>\\n</ops:world-patent-data>'"
      ]
     },
     "execution_count": 16,
     "metadata": {},
     "output_type": "execute_result"
    }
   ],
   "source": [
    "req.content"
   ]
  },
  {
   "cell_type": "code",
   "execution_count": 17,
   "id": "c9c6ba49",
   "metadata": {},
   "outputs": [],
   "source": [
    "import xml.etree.ElementTree as ET"
   ]
  },
  {
   "cell_type": "code",
   "execution_count": 18,
   "id": "c62b1f0c",
   "metadata": {},
   "outputs": [],
   "source": [
    "endpoint = 'images'\n",
    "tree = ET.parse(f'../{doc.as_api_input()}/{endpoint}.xml')"
   ]
  },
  {
   "cell_type": "code",
   "execution_count": 19,
   "id": "41c6d1a5",
   "metadata": {},
   "outputs": [
    {
     "data": {
      "text/plain": [
       "<xml.etree.ElementTree.ElementTree at 0x7f9072bc9430>"
      ]
     },
     "execution_count": 19,
     "metadata": {},
     "output_type": "execute_result"
    }
   ],
   "source": [
    "tree"
   ]
  },
  {
   "cell_type": "code",
   "execution_count": 20,
   "id": "09948b4e",
   "metadata": {},
   "outputs": [],
   "source": [
    "root = tree.getroot()"
   ]
  },
  {
   "cell_type": "code",
   "execution_count": 21,
   "id": "de640ae2",
   "metadata": {},
   "outputs": [
    {
     "data": {
      "text/plain": [
       "<Element '{http://ops.epo.org}world-patent-data' at 0x7f9073020130>"
      ]
     },
     "execution_count": 21,
     "metadata": {},
     "output_type": "execute_result"
    }
   ],
   "source": [
    "root"
   ]
  },
  {
   "cell_type": "code",
   "execution_count": 22,
   "id": "631e40cd",
   "metadata": {},
   "outputs": [
    {
     "data": {
      "text/plain": [
       "[]"
      ]
     },
     "execution_count": 22,
     "metadata": {},
     "output_type": "execute_result"
    }
   ],
   "source": [
    "root.findall('{http://ops.epo.org}document-instance')"
   ]
  },
  {
   "cell_type": "code",
   "execution_count": 23,
   "id": "8689f9d1",
   "metadata": {},
   "outputs": [
    {
     "data": {
      "text/plain": [
       "<Element '{http://ops.epo.org}world-patent-data' at 0x7f9073020130>"
      ]
     },
     "execution_count": 23,
     "metadata": {},
     "output_type": "execute_result"
    }
   ],
   "source": [
    "root"
   ]
  },
  {
   "cell_type": "code",
   "execution_count": 24,
   "id": "74e409e2",
   "metadata": {},
   "outputs": [
    {
     "data": {
      "text/plain": [
       "[{},\n",
       " {},\n",
       " {},\n",
       " {'document-id-type': 'epodoc'},\n",
       " {},\n",
       " {},\n",
       " {},\n",
       " {},\n",
       " {'document-id-type': 'docdb'},\n",
       " {},\n",
       " {},\n",
       " {},\n",
       " {'system': 'ops.epo.org',\n",
       "  'number-of-pages': '12',\n",
       "  'desc': 'FullDocument',\n",
       "  'link': 'published-data/images/EP/1000000/A1/fullimage'},\n",
       " {},\n",
       " {},\n",
       " {},\n",
       " {'name': 'ABSTRACT', 'start-page': '1'},\n",
       " {'name': 'BIBLIOGRAPHY', 'start-page': '1'},\n",
       " {'name': 'CLAIMS', 'start-page': '3'},\n",
       " {'name': 'DESCRIPTION', 'start-page': '2'},\n",
       " {'name': 'DRAWINGS', 'start-page': '5'},\n",
       " {'name': 'SEARCH_REPORT', 'start-page': '11'},\n",
       " {'system': 'ops.epo.org',\n",
       "  'number-of-pages': '6',\n",
       "  'desc': 'Drawing',\n",
       "  'link': 'published-data/images/EP/1000000/A1/thumbnail'},\n",
       " {},\n",
       " {},\n",
       " {},\n",
       " {'name': 'DRAWINGS', 'start-page': '1'},\n",
       " {'system': 'ops.epo.org',\n",
       "  'number-of-pages': '1',\n",
       "  'desc': 'FirstPageClipping',\n",
       "  'link': 'published-data/images/EP/1000000/PA/firstpage'},\n",
       " {},\n",
       " {},\n",
       " {},\n",
       " {},\n",
       " {},\n",
       " {'name': 'ABSTRACT', 'start-page': '1'},\n",
       " {'name': 'BIBLIOGRAPHY', 'start-page': '1'}]"
      ]
     },
     "execution_count": 24,
     "metadata": {},
     "output_type": "execute_result"
    }
   ],
   "source": [
    "[e.attrib for e in root.iter()]"
   ]
  },
  {
   "cell_type": "code",
   "execution_count": 25,
   "id": "e5860448",
   "metadata": {},
   "outputs": [
    {
     "name": "stdout",
     "output_type": "stream",
     "text": [
      "Get published-data/images/EP/1000000/A1/fullimage\n",
      "Get published-data/images/EP/1000000/A1/thumbnail\n",
      "Get published-data/images/EP/1000000/PA/firstpage\n"
     ]
    }
   ],
   "source": [
    "# Extract image paths\n",
    "paths = [e.attrib['link'] for e in root.iter() if 'link' in e.attrib]\n",
    "# Make directory if needed\n",
    "os.makedirs(f'../{doc.as_api_input()}', exist_ok=True)\n",
    "# Fetch and store images\n",
    "for p in paths:\n",
    "    print(\"Get\", p)\n",
    "    req = client.image(p, range=1)\n",
    "    name = p.split('/')[-1]\n",
    "    with open(f'../{doc.as_api_input()}/{name}.tiff', 'wb') as fp:\n",
    "        fp.write(req.content)"
   ]
  },
  {
   "cell_type": "code",
   "execution_count": null,
   "id": "9cda786f",
   "metadata": {},
   "outputs": [],
   "source": []
  }
 ],
 "metadata": {
  "kernelspec": {
   "display_name": "Python 3 (ipykernel)",
   "language": "python",
   "name": "python3"
  },
  "language_info": {
   "codemirror_mode": {
    "name": "ipython",
    "version": 3
   },
   "file_extension": ".py",
   "mimetype": "text/x-python",
   "name": "python",
   "nbconvert_exporter": "python",
   "pygments_lexer": "ipython3",
   "version": "3.9.7"
  }
 },
 "nbformat": 4,
 "nbformat_minor": 5
}
