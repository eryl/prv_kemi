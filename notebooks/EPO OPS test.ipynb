{
 "cells": [
  {
   "cell_type": "code",
   "execution_count": 24,
   "id": "27a5e582",
   "metadata": {},
   "outputs": [],
   "source": [
    "import epo_ops\n",
    "import os\n",
    "import json\n",
    "from pathlib import Path\n",
    "\n",
    "middlewares = [\n",
    "    epo_ops.middlewares.Dogpile(),\n",
    "    epo_ops.middlewares.Throttler(),\n",
    "]\n"
   ]
  },
  {
   "cell_type": "code",
   "execution_count": 27,
   "id": "f16607fd",
   "metadata": {},
   "outputs": [],
   "source": [
    "# The api keys should be in a json-file in the project root, with two attributes: \"key\" and \"secret\" for example:\n",
    "# { \"key\": \"YOUR_APPLICATION_KEY\", \"secret\": \"YOUR_APPLICATION_SECRET\"}\n",
    "api_keys_path = Path('..') / 'api_keys.json'"
   ]
  },
  {
   "cell_type": "code",
   "execution_count": 30,
   "id": "d474670c",
   "metadata": {},
   "outputs": [],
   "source": [
    "\n",
    "with open(api_keys_path, 'r') as fp:\n",
    "    api_keys = json.load(fp)"
   ]
  },
  {
   "cell_type": "code",
   "execution_count": 33,
   "id": "045569d4",
   "metadata": {},
   "outputs": [],
   "source": [
    "client = epo_ops.Client(\n",
    "    key=api_keys['key'],\n",
    "    secret=api_keys['secret'],\n",
    "    middlewares=middlewares,\n",
    ")"
   ]
  },
  {
   "cell_type": "code",
   "execution_count": 34,
   "id": "7a08491d",
   "metadata": {},
   "outputs": [],
   "source": [
    "from epo_ops.models import Epodoc, Docdb"
   ]
  },
  {
   "cell_type": "code",
   "execution_count": 35,
   "id": "75328bd6",
   "metadata": {},
   "outputs": [],
   "source": [
    "from importlib import reload\n",
    "reload(epo_ops.models)\n",
    "from epo_ops.models import Epodoc, Docdb"
   ]
  },
  {
   "cell_type": "code",
   "execution_count": 36,
   "id": "b89fd28d",
   "metadata": {},
   "outputs": [],
   "source": [
    "doc = Epodoc('EP1000000.A1')"
   ]
  },
  {
   "cell_type": "code",
   "execution_count": 37,
   "id": "4ff602cd",
   "metadata": {},
   "outputs": [
    {
     "data": {
      "text/plain": [
       "'EP1000000.A1'"
      ]
     },
     "execution_count": 37,
     "metadata": {},
     "output_type": "execute_result"
    }
   ],
   "source": [
    "doc.as_api_input()"
   ]
  },
  {
   "cell_type": "code",
   "execution_count": 38,
   "id": "1c9463b9",
   "metadata": {},
   "outputs": [],
   "source": [
    "req = client.published_data('publication', doc, endpoint='claims')"
   ]
  },
  {
   "cell_type": "code",
   "execution_count": 39,
   "id": "31235ece",
   "metadata": {
    "scrolled": true
   },
   "outputs": [
    {
     "data": {
      "text/plain": [
       "<Response [200]>"
      ]
     },
     "execution_count": 39,
     "metadata": {},
     "output_type": "execute_result"
    }
   ],
   "source": [
    "req"
   ]
  },
  {
   "cell_type": "code",
   "execution_count": 76,
   "id": "98aac7b8",
   "metadata": {},
   "outputs": [],
   "source": []
  },
  {
   "cell_type": "code",
   "execution_count": 10,
   "id": "5af53c3b",
   "metadata": {},
   "outputs": [],
   "source": [
    "req = client.published_data('publication', doc, endpoint='fulltext')\n",
    "os.makedirs(f'../{doc.as_api_input()}', exist_ok=True)\n",
    "with open(f'../{doc.as_api_input()}/fulltext.xml', 'wb') as fp:\n",
    "    fp.write(req.content)"
   ]
  },
  {
   "cell_type": "code",
   "execution_count": 11,
   "id": "90be8e42",
   "metadata": {},
   "outputs": [],
   "source": [
    "req = client.published_data('publication', doc, endpoint='biblio')\n",
    "os.makedirs(f'../{doc.as_api_input()}', exist_ok=True)\n",
    "with open(f'../{doc.as_api_input()}/biblio.xml', 'wb') as fp:\n",
    "    fp.write(req.content)"
   ]
  },
  {
   "cell_type": "code",
   "execution_count": 12,
   "id": "5e80346d",
   "metadata": {},
   "outputs": [],
   "source": [
    "endpoint = 'description'\n",
    "req = client.published_data('publication', doc, endpoint=endpoint)\n",
    "os.makedirs(f'../{doc.as_api_input()}', exist_ok=True)\n",
    "with open(f'../{doc.as_api_input()}/{endpoint}.xml', 'wb') as fp:\n",
    "    fp.write(req.content)"
   ]
  },
  {
   "cell_type": "code",
   "execution_count": 13,
   "id": "e47c204e",
   "metadata": {},
   "outputs": [],
   "source": [
    "endpoint = 'claims'\n",
    "req = client.published_data('publication', doc, endpoint=endpoint)\n",
    "os.makedirs(f'../{doc.as_api_input()}', exist_ok=True)\n",
    "with open(f'../{doc.as_api_input()}/{endpoint}.xml', 'wb') as fp:\n",
    "    fp.write(req.content)"
   ]
  },
  {
   "cell_type": "code",
   "execution_count": 14,
   "id": "8fcd3c1c",
   "metadata": {},
   "outputs": [],
   "source": [
    "endpoint = 'images'\n",
    "req = client.published_data('publication', doc, endpoint=endpoint)\n",
    "os.makedirs(f'../{doc.as_api_input()}', exist_ok=True)\n",
    "with open(f'../{doc.as_api_input()}/{endpoint}.xml', 'wb') as fp:\n",
    "    fp.write(req.content)"
   ]
  },
  {
   "cell_type": "code",
   "execution_count": 75,
   "id": "7039fe1e",
   "metadata": {
    "scrolled": true
   },
   "outputs": [
    {
     "data": {
      "text/plain": [
       "b'<?xml version=\"1.0\" encoding=\"UTF-8\"?><?xml-stylesheet type=\"text/xsl\" href=\"/3.2/style/pub-inquiry.xsl\"?>\\n<ops:world-patent-data xmlns=\"http://www.epo.org/exchange\" xmlns:ops=\"http://ops.epo.org\" xmlns:xlink=\"http://www.w3.org/1999/xlink\">\\n    <ops:fulltext-inquiry>\\n        <ops:publication-reference>\\n            <document-id document-id-type=\"epodoc\">\\n                <doc-number>EP1000000</doc-number>\\n            </document-id>\\n        </ops:publication-reference>\\n        <ops:inquiry-result>\\n            <publication-reference>\\n                <document-id document-id-type=\"docdb\">\\n                    <country>EP</country>\\n                    <doc-number>1000000</doc-number>\\n                    <kind>A1</kind>\\n                </document-id>\\n            </publication-reference>\\n            <ops:fulltext-instance system=\"ops.epo.org\" lang=\"EN\" desc=\"description\">\\n                <ops:fulltext-format-options>\\n                    <ops:fulltext-format>text-only</ops:fulltext-format>\\n                </ops:fulltext-format-options>\\n            </ops:fulltext-instance>\\n            <ops:fulltext-instance system=\"ops.epo.org\" lang=\"EN\" desc=\"claims\">\\n                <ops:fulltext-format-options>\\n                    <ops:fulltext-format>text-only</ops:fulltext-format>\\n                </ops:fulltext-format-options>\\n            </ops:fulltext-instance>\\n        </ops:inquiry-result>\\n        <ops:inquiry-result>\\n            <publication-reference>\\n                <document-id document-id-type=\"docdb\">\\n                    <country>EP</country>\\n                    <doc-number>1000000</doc-number>\\n                    <kind>B1</kind>\\n                </document-id>\\n            </publication-reference>\\n            <ops:fulltext-instance system=\"ops.epo.org\" lang=\"EN\" desc=\"description\">\\n                <ops:fulltext-format-options>\\n                    <ops:fulltext-format>text-only</ops:fulltext-format>\\n                </ops:fulltext-format-options>\\n            </ops:fulltext-instance>\\n            <ops:fulltext-instance system=\"ops.epo.org\" lang=\"DE\" desc=\"claims\">\\n                <ops:fulltext-format-options>\\n                    <ops:fulltext-format>text-only</ops:fulltext-format>\\n                </ops:fulltext-format-options>\\n            </ops:fulltext-instance>\\n            <ops:fulltext-instance system=\"ops.epo.org\" lang=\"EN\" desc=\"claims\">\\n                <ops:fulltext-format-options>\\n                    <ops:fulltext-format>text-only</ops:fulltext-format>\\n                </ops:fulltext-format-options>\\n            </ops:fulltext-instance>\\n            <ops:fulltext-instance system=\"ops.epo.org\" lang=\"FR\" desc=\"claims\">\\n                <ops:fulltext-format-options>\\n                    <ops:fulltext-format>text-only</ops:fulltext-format>\\n                </ops:fulltext-format-options>\\n            </ops:fulltext-instance>\\n        </ops:inquiry-result>\\n    </ops:fulltext-inquiry>\\n</ops:world-patent-data>'"
      ]
     },
     "execution_count": 75,
     "metadata": {},
     "output_type": "execute_result"
    }
   ],
   "source": [
    "req.content"
   ]
  },
  {
   "cell_type": "code",
   "execution_count": 15,
   "id": "7311d3d1",
   "metadata": {},
   "outputs": [],
   "source": [
    "import xml.etree.ElementTree as ET"
   ]
  },
  {
   "cell_type": "code",
   "execution_count": 16,
   "id": "86f0a303",
   "metadata": {},
   "outputs": [],
   "source": [
    "endpoint = 'images'\n",
    "tree = ET.parse(f'../{doc.as_api_input()}/{endpoint}.xml')"
   ]
  },
  {
   "cell_type": "code",
   "execution_count": 17,
   "id": "2764c308",
   "metadata": {},
   "outputs": [
    {
     "data": {
      "text/plain": [
       "<xml.etree.ElementTree.ElementTree at 0x7f2d702364c0>"
      ]
     },
     "execution_count": 17,
     "metadata": {},
     "output_type": "execute_result"
    }
   ],
   "source": [
    "tree"
   ]
  },
  {
   "cell_type": "code",
   "execution_count": 18,
   "id": "0eb61cb3",
   "metadata": {},
   "outputs": [],
   "source": [
    "root = tree.getroot()"
   ]
  },
  {
   "cell_type": "code",
   "execution_count": 19,
   "id": "1c8743c6",
   "metadata": {},
   "outputs": [
    {
     "data": {
      "text/plain": [
       "<Element '{http://ops.epo.org}world-patent-data' at 0x7f2d702b2810>"
      ]
     },
     "execution_count": 19,
     "metadata": {},
     "output_type": "execute_result"
    }
   ],
   "source": [
    "root"
   ]
  },
  {
   "cell_type": "code",
   "execution_count": 20,
   "id": "ba8b87ad",
   "metadata": {},
   "outputs": [
    {
     "data": {
      "text/plain": [
       "[]"
      ]
     },
     "execution_count": 20,
     "metadata": {},
     "output_type": "execute_result"
    }
   ],
   "source": [
    "root.findall('{http://ops.epo.org}document-instance')"
   ]
  },
  {
   "cell_type": "code",
   "execution_count": 39,
   "id": "f9d59ce6",
   "metadata": {},
   "outputs": [
    {
     "data": {
      "text/plain": [
       "<Element '{http://ops.epo.org}world-patent-data' at 0x7f9780386400>"
      ]
     },
     "execution_count": 39,
     "metadata": {},
     "output_type": "execute_result"
    }
   ],
   "source": [
    "root"
   ]
  },
  {
   "cell_type": "code",
   "execution_count": 21,
   "id": "1e5e07e9",
   "metadata": {},
   "outputs": [
    {
     "data": {
      "text/plain": [
       "[{},\n",
       " {},\n",
       " {},\n",
       " {'document-id-type': 'epodoc'},\n",
       " {},\n",
       " {},\n",
       " {},\n",
       " {},\n",
       " {'document-id-type': 'docdb'},\n",
       " {},\n",
       " {},\n",
       " {},\n",
       " {'system': 'ops.epo.org',\n",
       "  'number-of-pages': '12',\n",
       "  'desc': 'FullDocument',\n",
       "  'link': 'published-data/images/EP/1000000/A1/fullimage'},\n",
       " {},\n",
       " {},\n",
       " {},\n",
       " {'name': 'ABSTRACT', 'start-page': '1'},\n",
       " {'name': 'BIBLIOGRAPHY', 'start-page': '1'},\n",
       " {'name': 'CLAIMS', 'start-page': '3'},\n",
       " {'name': 'DESCRIPTION', 'start-page': '2'},\n",
       " {'name': 'DRAWINGS', 'start-page': '5'},\n",
       " {'name': 'SEARCH_REPORT', 'start-page': '11'},\n",
       " {'system': 'ops.epo.org',\n",
       "  'number-of-pages': '6',\n",
       "  'desc': 'Drawing',\n",
       "  'link': 'published-data/images/EP/1000000/A1/thumbnail'},\n",
       " {},\n",
       " {},\n",
       " {},\n",
       " {'name': 'DRAWINGS', 'start-page': '1'},\n",
       " {'system': 'ops.epo.org',\n",
       "  'number-of-pages': '1',\n",
       "  'desc': 'FirstPageClipping',\n",
       "  'link': 'published-data/images/EP/1000000/PA/firstpage'},\n",
       " {},\n",
       " {},\n",
       " {},\n",
       " {},\n",
       " {},\n",
       " {'name': 'ABSTRACT', 'start-page': '1'},\n",
       " {'name': 'BIBLIOGRAPHY', 'start-page': '1'}]"
      ]
     },
     "execution_count": 21,
     "metadata": {},
     "output_type": "execute_result"
    }
   ],
   "source": [
    "[e.attrib for e in root.iter()]"
   ]
  },
  {
   "cell_type": "code",
   "execution_count": null,
   "id": "d90abb5b",
   "metadata": {},
   "outputs": [],
   "source": []
  }
 ],
 "metadata": {
  "kernelspec": {
   "display_name": "Python 3 (ipykernel)",
   "language": "python",
   "name": "python3"
  },
  "language_info": {
   "codemirror_mode": {
    "name": "ipython",
    "version": 3
   },
   "file_extension": ".py",
   "mimetype": "text/x-python",
   "name": "python",
   "nbconvert_exporter": "python",
   "pygments_lexer": "ipython3",
   "version": "3.9.7"
  }
 },
 "nbformat": 4,
 "nbformat_minor": 5
}
