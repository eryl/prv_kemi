{
 "cells": [
  {
   "cell_type": "code",
   "execution_count": 1,
   "id": "3558f1e2",
   "metadata": {},
   "outputs": [],
   "source": [
    "import os\n",
    "import numpy as np\n",
    "import pandas as pd\n",
    "import sentencepiece as spm\n",
    "import matplotlib.pyplot as plt\n",
    "from pathlib import Path\n",
    "from sklearn.manifold import TSNE\n",
    "from sklearn.feature_extraction.text import TfidfVectorizer"
   ]
  },
  {
   "cell_type": "code",
   "execution_count": 2,
   "id": "6ccc77df",
   "metadata": {},
   "outputs": [
    {
     "data": {
      "text/plain": [
       "'The invention is concerned with novel resinous binders containing tertiary amino groups which are useful for coating articles by means of cathodic electrodeposition. The present invention is also concerned with the preparation of such binders as well as coating compositions containing them.\\nIt is known to coat electrically conducting articles with resinous binders containing tertiary amino groups by means of cathodic electrodeposition. Generally such articles are immersed in an aqueous coating composition comprising the resinous binder in the form of a salt thereof and a cross-linking agent, and an electrical current is passed between the article (cathode) and an anode which deposits the resinous binder on the article which is then stoved to cure or cross-link the resinous binder.\\nKnown resinous binders having tertiary amino groups may be represented by the formula:- \\n<img class=\"EMIRef\" id=\"070874005-ib0001\" />\\nwherein m is 0 or an integer of from 1 to 6, each A1 is the same or different tertiary amino group, B1, or each B, which may be the same or different, is a group of formula:- OH \\n<img class=\"EMIRef\" id=\"070874005-ib0002\" />\\nwherein n is 0 or an integer of from 1 to 10, and R is the hydrocarbon residue of a dihydric phenol, and  C1, or each C, which may be the same or different, is a group derived from a compound having at least two sites capable of reacting with glycidyl ether groups.\\nResinous binders of this type, wherein C1 is derived from a diamine or a primary monoamine, are known from U.K.1,461,823. A disadvantage of such binders is that they produce rough, incoherent coatings having poor corrosion resistance on bare steel substrates i.e. steel which has not been phosphated. It has also been proposed to incorporate residues of unsaturated fatty acids into such resinous binders e.g. see U.K. 1,307,585. Although such binders form smoother coatings on bare steel substrates they still have a poor corrosion resistance.\\nWe have now found that if such binders contain at least one group derived from a glycidyl ester of a C6 to C20 carboxylic acid then the coatings prepared therefrom are smooth and glossy and have good corrosion resistance even when deposited upon bare steel substrates.\\nAccordingly, the present invention is concerned with a resinous binder of formula:- \\n<img class=\"EMIRef\" id=\"070874005-ib0003\" />\\nwherein m is 0 or an integer of from 1 to 6, each A is the same or different tertiary amino group, B, or each B which may be same or different, is a group of formula:- \\n<img class=\"EMIRef\" id=\"070874005-ib0004\" />\\nwherein n is 0 or an integer of from 1 to 10, and R is the hydrocarbon residue of a dihydric phenol; and C, or each C which may be the same or different, is a group derived from a compound having at least two sites capable of reacting with glycidyl ether groups, with the proviso that at least one of the groups A, B or C is substituted by at least one group R1 having the formula:-\\n<img class=\"EMIRef\" id=\"070874005-ib0005\" />\\nwherein R2 is a C6 to C20 alkyl group.\\nThe group R may be directly attached to at least one of the groups A, B, or C, or indirectly through an intermediate group which is preferably the residue of a di- or tricarboxylic acid; m is preferably an integer of from 1 to 3, n is preferably an integer of from 1 to 4, and R2 is preferably a secondary or tertiary CB to C10 alkyl group.\\nThe preferred resinous binders of formula III will be described with reference to the following description of the methods of preparing such resinous binders. In general the group R is incorporated by the reaction between a glycidyl ester of formula:- \\n<img class=\"EMIRef\" id=\"070874005-ib0006\" />\\nwherein R2 is a C6 to C20 alkyl group, preferably a secondary or tertiary C8 to C10 alkyl group, and a primary or secondary amino, hydroxyl or acidic, e.g. carboxylic acid, group. This reaction may take place as the final step in the preparation of the binder i.e. by reacting a resinous binder of formula I directly or indirectly with a glycidyl ester of formula VI or may take place by pre-reacting at least one of the components from which the binder is prepared with a glycidyl ester of formula VI. In other words, the preferred resinous binders can be prepared by the reaction, in one or more stages, of \\n(a) a secondary monoamine,\\n(b) a diglycidyl ether of a dihydric phenol,\\n(c) a compound having at least 2 sites capable of reacting with glycidyl ether groups, and\\n(d) at least the glycidyl ester, in amounts such that the number of epoxy equivalents of (b) is substantially equal to the number of reactive sites of (a) and (c).\\nIt will be understood by those skilled in the art that the structures given herein represent the average structure of a mixture of reaction products.\\nOne suitable method (method I) of preparing resinous binders of formula III comprises reacting a resinous binder of formula I with \\n(A) a glycidyl ester of formula VI, or\\n(B) a cyclic carboxylic acid anhydride and a glycidyl ester of'"
      ]
     },
     "execution_count": 2,
     "metadata": {},
     "output_type": "execute_result"
    }
   ],
   "source": [
    "# Load patents\n",
    "corp_dir = \"../data/\"\n",
    "corp_file = \"netto_list_descriptions_2015-2020.txt\"\n",
    "corp_path = Path(corp_dir+corp_file)\n",
    "with open(corp_path, 'r') as file:\n",
    "    corpus = file.read().split(\"\\n\\n\")\n",
    "corpus[0][:5000]"
   ]
  },
  {
   "cell_type": "code",
   "execution_count": 3,
   "id": "2fe4b765",
   "metadata": {},
   "outputs": [],
   "source": [
    "# Tokenize documents and calculate tf-idf scores using default tokenizer and stop words\n",
    "tfidf_vectorizer = TfidfVectorizer(analyzer=\"word\", stop_words=\"english\")\n",
    "v_tfidf = tfidf_vectorizer.fit_transform(corpus)\n",
    "voc_sl = tfidf_vectorizer.get_feature_names_out()"
   ]
  },
  {
   "cell_type": "code",
   "execution_count": 4,
   "id": "2ccf50b6",
   "metadata": {},
   "outputs": [
    {
     "name": "stdout",
     "output_type": "stream",
     "text": [
      "vocabulary size: 179449\n",
      "['00' '000' '0000' '00000' '00000000' '00000000093' '000000001'\n",
      " '00000000170' '00000000300' '00000000313' '00000000834' '00000001'\n",
      " '0000000100' '0000001' '000000445' '00000057' '000001' '00000136'\n",
      " '00000139' '00000174' '000002' '00000299' '000004' '00000431' '000005'\n",
      " '00000645' '00000676' '00000813' '00000977' '00001' '00001050'\n",
      " '0000128079' '000015' '000016' '00001800' '000019' '000019322'\n",
      " '000019505' '000019610' '000019670' '00002' '000020186' '000020922'\n",
      " '000021094' '000021253' '000021976' '0000224398' '00002300' '00002330'\n",
      " '00002600' '00002770' '00002860' '0000288' '000029' '00002940' '00003'\n",
      " '00003010' '000033' '00003310' '0000338' '00003480' '000038' '000039'\n",
      " '00004' '00004050' '00004070' '000042' '00004240' '00004290' '00004400'\n",
      " '000045' '00004580' '00004770' '00004810' '000049' '00005' '00005650'\n",
      " '00005790' '00006' '000061' '00006430' '000065' '00007' '0000727'\n",
      " '00007600' '00008' '00008490' '0000881' '00009' '000095' '0000964'\n",
      " '00009640' '0001' '000101' '00010100' '000106' '00011000' '00011001'\n",
      " '00011010' '00011111']\n",
      "['brightening' 'brighter' 'brightest' 'brightly' 'brightner' 'brightners'\n",
      " 'brightness' 'brightnesses' 'brij' 'brilinta' 'brill' 'brilliance'\n",
      " 'brilliancy' 'brilliant' 'brillouin' 'brim' 'brinase' 'brindleyite'\n",
      " 'brine' 'brinell' 'bring' 'bringing' 'brings' 'brining' 'brink'\n",
      " 'brinkman' 'brinkmann' 'briquest' 'briquette' 'briquettes' 'briquetting'\n",
      " 'brisbane' 'bristle' 'bristles' 'bristol' 'bristow' 'bristowe' 'brit'\n",
      " 'britain' 'brite' 'british' 'brittle' 'brittlely' 'brittleness'\n",
      " 'brittler' 'britton' 'brivanib' 'brix' 'brk' 'brl' 'brm' 'brnabic' 'brno'\n",
      " 'bro' 'bro2' 'bro3' 'bro4' 'broad' 'broadband' 'broadcast' 'broadcasting'\n",
      " 'broaden' 'broadened' 'broadening' 'broadens' 'broader' 'broadest'\n",
      " 'broadinstitute' 'broadleaf' 'broadloom' 'broadly' 'broadness'\n",
      " 'broadspectrum' 'brocadia' 'broccoli' 'brochure' 'brochures' 'brock'\n",
      " 'broensted' 'broke' 'broken' 'broker' 'brom' 'bromacetyl' 'bromanil'\n",
      " 'bromate' 'bromated' 'bromates' 'bromating' 'bromatum' 'bromc'\n",
      " 'bromcresol' 'brome' 'bromelain' 'bromfenac' 'bromhexine' 'bromic'\n",
      " 'bromide' 'bromides' 'brominate']\n"
     ]
    }
   ],
   "source": [
    "# Print examples from vocabulary\n",
    "print(\"vocabulary size:\", len(voc_sl))\n",
    "s, t = 100, 50000\n",
    "print(voc_sl[:s])\n",
    "print(voc_sl[t:s+t])"
   ]
  },
  {
   "cell_type": "code",
   "execution_count": 5,
   "id": "b036673d",
   "metadata": {},
   "outputs": [],
   "source": [
    "def top_tfidfs(v, k, vocab):\n",
    "    return vocab[v.indices[np.argsort(v.data)[:-(k+1):-1]]]"
   ]
  },
  {
   "cell_type": "code",
   "execution_count": 6,
   "id": "c89d89f9",
   "metadata": {},
   "outputs": [
    {
     "name": "stdout",
     "output_type": "stream",
     "text": [
      "....................................................................................................\n",
      "The invention is concerned with novel resinous binders containing tertiary amino groups which are useful for coating articles by means of cathodic electrodeposition. The present invention is also concerned with the preparation of such binders as well as coating compositions containing them.\n",
      "It is known to coat electrically conducting articles with resinous binders containing tertiary amino groups ...\n",
      "Top tf-idf terms: ['resinous' 'meq' 'binder' '070874005' 'binders']\n",
      "....................................................................................................\n",
      "This invention is concerned with ion-exchange resins which are capable of very selective removal of heavy metal ions from aqueous solutions and methods for the synthesis of these resins. The resins of the invention are designed to selectively chelate mercury and copper ions and are particularly useful where the concentration of metal is-low. They have a further advantage that the metal can be reco...\n",
      "Top tf-idf terms: ['mole' 'chelating' 'formaldehyde' 'selectivity' 'selective']\n",
      "....................................................................................................\n",
      "This invention relates to a molding resin, to a method of producing the molding resin and to shaped articles formed from the molding resin. More particularly, it pertains to molding resins comprising a polyarylene ester and a reinforcing filler, to a method of producing such molding resins and to shaped articles formed from such molding resins.\n",
      "Many polyesters have been suggested for use as moldin...\n",
      "Top tf-idf terms: ['polyarylene' 'diphenol' '070874038' 'molding' 'percent']\n",
      "....................................................................................................\n",
      "1. Field of the Invention\n",
      "This invention pertains to certain novel esters of pentavalent phosphorus acid and to plastic compositions containing these esters as flame retardants therefor.\n",
      "2. Description of the Prior Art\n",
      "During the past several years, a large number of flame retardants have been developed for use with an almost equally large number of flammable materials. Cellulosic materials such a...\n",
      "Top tf-idf terms: ['073393643' 'flame' 'grams' 'retardants' 'dibromopropyl']\n",
      "....................................................................................................\n",
      "This invention is directed to a heterogenous blend comprising 10 to 90 percent by weight of a polycarbonate and 90 to 10 percent by weight of a rubber modified copolymer of a monovinylidene aromatic monomer and an a,p--ethylenically unsaturated comonomer having a pendent polar group, said rubber-modified copolymer containing (a) a rubber, (b) a random copolymer of the monovinylidene aromatic monom...\n",
      "Top tf-idf terms: ['monovinylidene' 'trityl' 'rubber' 'copolymer' 'percent']\n",
      "....................................................................................................\n",
      "BACKGROUND OF THE INVENTION\n",
      "Various type chemical processes are commonly . carried out in large, stirred vessels which are frequently provided with auxiliary equipment, such as baffles, heat transfer coils which enable heat to be supplied or extracted from the contents of the vessels, and the like. In many cases, however, such processes eventually produce undesirable deposits on the surfaces of th...\n",
      "Top tf-idf terms: ['reactor' 'buildup' 'surfaces' 'dyes' 'polymerization']\n",
      "....................................................................................................\n",
      "BACKGROUND OF THE INVENTION\n",
      "This invention pertains to detergent compositions having enhanced suds regulating activity over a broad range of usage and temperature conditions comprising a surface-active agent and a suds regulating system. The suds regulating system contains a liquid hydrocarbon, an adjunct material selected from solid hydrocarbons, fatty esters and mixtures thereof and a hydrophobi...\n",
      "Top tf-idf terms: ['suds' 'adjunct' 'detergent' 'regulating' 'builder']\n",
      "....................................................................................................\n",
      "The present invention relates to the production of highly basic calcium sulphonates and to lubricating oils containing such highly basic sulphonates. The term highly basic calcium sulphonate refers to the calcium salt of a sulphonic acid which contains a stoichiometric excess of calcium over and above that required to neutralise the sulphonic acid. Frequently the excess calcium is present in the f...\n",
      "Top tf-idf terms: ['sulphonic' 'calcium' 'paraffinic' 'sulphonate' 'oils']\n",
      "....................................................................................................\n",
      "BACKGROUND OF THE INVENTION\n",
      "Substituted benzoylbenzoates are known compounds which are usually produced by esterification of the corresponding carboxylic acid with the appropriate alcohol, or by the reaction of the benzoylbenzoic acid - chloride with the alcohol. However, such processes are expensive and result in unacceptable yields, primarily because of the difficulty in producing the acid chlor...\n",
      "Top tf-idf terms: ['trichloromethyl' 'benzoylbenzoates' 'grams' 'ft' '073248528']\n",
      "....................................................................................................\n",
      "It has been found that compounds having a phosphorus to phosphorus bond are useful to stabilize thermoplastic polymers or resins from the effects of heat and/or oxygen during the molding of a blend containing the polymers and a compound having one or more phosphorus to phosphorus bonds.\n",
      "The invention is directed to a composition comprising a thermoplastic polymer and a stabilizing amount of an org...\n",
      "Top tf-idf terms: ['073248564' 'grams' 'emiref' 'img' 'id']\n"
     ]
    }
   ],
   "source": [
    "# Print terms with highest tf-idf score per document\n",
    "for i in range(10):\n",
    "    print(100 * '.')\n",
    "    print(corpus[i][:400] + \"...\")\n",
    "    print(\"Top tf-idf terms:\", top_tfidfs(v_tfidf[i], 5, voc_sl))"
   ]
  },
  {
   "cell_type": "code",
   "execution_count": 7,
   "id": "61ced35c",
   "metadata": {},
   "outputs": [],
   "source": [
    "tsne_embedder = TSNE(n_components=2, init=\"random\", learning_rate=\"auto\")\n",
    "\n",
    "def plot_emb(v):\n",
    "    # Embed vectors in two dimensions with t-SNE\n",
    "    v_tsne = tsne_embedder.fit_transform(v)\n",
    "    # Plot embedded documents\n",
    "    plt.figure(figsize=(7, 7))\n",
    "    plt.scatter(v_tsne[:, 0], v_tsne[:, 1], s=0.5, alpha=0.8, c='k')\n",
    "    plt.title(\"Embedded patents\")\n",
    "    plt.xlabel(\"First dimension\")\n",
    "    plt.ylabel(\"Second dimension\")\n",
    "    plt.tight_layout()\n",
    "    plt.show()"
   ]
  },
  {
   "cell_type": "code",
   "execution_count": 8,
   "id": "9b77e5da",
   "metadata": {},
   "outputs": [
    {
     "data": {
      "image/png": "[encoded data removed]",
      "text/plain": [
       "<Figure size 504x504 with 1 Axes>"
      ]
     },
     "metadata": {
      "needs_background": "light"
     },
     "output_type": "display_data"
    }
   ],
   "source": [
    "plot_emb(v_tfidf)"
   ]
  },
  {
   "cell_type": "code",
   "execution_count": 9,
   "id": "676987e7",
   "metadata": {},
   "outputs": [],
   "source": [
    "# Repeat experiments using SentencePiece tokenizer"
   ]
  },
  {
   "cell_type": "code",
   "execution_count": 10,
   "id": "3cdc2b33",
   "metadata": {},
   "outputs": [
    {
     "name": "stderr",
     "output_type": "stream",
     "text": [
      "sentencepiece_trainer.cc(77) LOG(INFO) Starts training with : \n",
      "trainer_spec {\n",
      "  input: ../data/netto_list_descriptions_2015-2020.txt\n",
      "  input_format: \n",
      "  model_prefix: sentencepiece\n",
      "  model_type: UNIGRAM\n",
      "  vocab_size: 10000\n",
      "  self_test_sample_size: 0\n",
      "  character_coverage: 0.9995\n",
      "  input_sentence_size: 0\n",
      "  shuffle_input_sentence: 1\n",
      "  seed_sentencepiece_size: 1000000\n",
      "  shrinking_factor: 0.75\n",
      "  max_sentence_length: 4192\n",
      "  num_threads: 16\n",
      "  num_sub_iterations: 2\n",
      "  max_sentencepiece_length: 16\n",
      "  split_by_unicode_script: 1\n",
      "  split_by_number: 1\n",
      "  split_by_whitespace: 1\n",
      "  split_digits: 0\n",
      "  treat_whitespace_as_suffix: 0\n",
      "  allow_whitespace_only_pieces: 0\n",
      "  required_chars: \n",
      "  byte_fallback: 0\n",
      "  vocabulary_output_piece_score: 1\n",
      "  train_extremely_large_corpus: 0\n",
      "  hard_vocab_limit: 1\n",
      "  use_all_vocab: 0\n",
      "  unk_id: 0\n",
      "  bos_id: 1\n",
      "  eos_id: 2\n",
      "  pad_id: -1\n",
      "  unk_piece: <unk>\n",
      "  bos_piece: <s>\n",
      "  eos_piece: </s>\n",
      "  pad_piece: <pad>\n",
      "  unk_surface:  ⁇ \n",
      "}\n",
      "normalizer_spec {\n",
      "  name: nmt_nfkc\n",
      "  add_dummy_prefix: 1\n",
      "  remove_extra_whitespa"
     ]
    }
   ],
   "source": [
    "vocab_size = 10000\n",
    "model_name = \"sentencepiece\"\n",
    "spm.SentencePieceTrainer.train(input=corp_path, model_prefix=model_name, vocab_size=vocab_size)"
   ]
  },
  {
   "cell_type": "code",
   "execution_count": 11,
   "id": "d647541c",
   "metadata": {
    "scrolled": true
   },
   "outputs": [
    {
     "name": "stderr",
     "output_type": "stream",
     "text": [
      "ces: 1\n",
      "  escape_whitespaces: 1\n",
      "  normalization_rule_tsv: \n",
      "}\n",
      "denormalizer_spec {}\n",
      "trainer_interface.cc(329) LOG(INFO) SentenceIterator is not specified. Using MultiFileSentenceIterator.\n",
      "trainer_interface.cc(178) LOG(INFO) Loading corpus: ../data/netto_list_descriptions_2015-2020.txt\n",
      "trainer_interface.cc(356) LOG(WARNING) Found too long line (13490 > 4192).\n",
      "trainer_interface.cc(358) LOG(WARNING) Too long lines are skipped in the training.\n",
      "trainer_interface.cc(359) LOG(WARNING) The maximum length can be changed with --max_sentence_length=<size> flag.\n",
      "trainer_interface.cc(140) LOG(INFO) Loaded 1000000 lines\n",
      "trainer_interface.cc(117) LOG(WARNING) Too many sentences are loaded! (1102167), which may slow down training.\n",
      "trainer_interface.cc(119) LOG(WARNING) Consider using --input_sentence_size=<size> and --shuffle_input_sentence=true.\n",
      "trainer_interface.cc(122) LOG(WARNING) They allow to randomly sample <size> sentences from the entire corpus.\n",
      "trainer_interface.cc(385) LOG(INFO) Loaded all 110"
     ]
    },
    {
     "data": {
      "text/plain": [
       "['▁The',\n",
       " '▁invention',\n",
       " '▁is',\n",
       " '▁concern',\n",
       " 'ed',\n",
       " '▁with',\n",
       " '▁novel',\n",
       " '▁resin',\n",
       " 'ous',\n",
       " '▁binder',\n",
       " 's',\n",
       " '.']"
      ]
     },
     "execution_count": 11,
     "metadata": {},
     "output_type": "execute_result"
    }
   ],
   "source": [
    "sp_model = spm.SentencePieceProcessor(model_file=model_name+\".model\")\n",
    "sp_model.encode(\"The invention is concerned with novel resinous binders.\", out_type=str)"
   ]
  },
  {
   "cell_type": "code",
   "execution_count": 13,
   "id": "a666f1e2",
   "metadata": {},
   "outputs": [
    {
     "name": "stderr",
     "output_type": "stream",
     "text": [
      "81737 obj=9.71911 num_tokens=5758795 num_tokens/piece=70.4552\n",
      "unigram_model_trainer.cc(505) LOG(INFO) EM sub_iter=0 size=61302 obj=9.74573 num_tokens=5853079 num_tokens/piece=95.4794\n",
      "unigram_model_trainer.cc(505) LOG(INFO) EM sub_iter=1 size=61302 obj=9.74156 num_tokens=5852850 num_tokens/piece=95.4757\n",
      "unigram_model_trainer.cc(505) LOG(INFO) EM sub_iter=0 size=45976 obj=9.78362 num_tokens=5962985 num_tokens/piece=129.698\n",
      "unigram_model_trainer.cc(505) LOG(INFO) EM sub_iter=1 size=45976 obj=9.77911 num_tokens=5962643 num_tokens/piece=129.69\n",
      "unigram_model_trainer.cc(505) LOG(INFO) EM sub_iter=0 size=34482 obj=9.83673 num_tokens=6091265 num_tokens/piece=176.651\n",
      "unigram_model_trainer.cc(505) LOG(INFO) EM sub_iter=1 size=34481 obj=9.82998 num_tokens=6090703 num_tokens/piece=176.639\n",
      "unigram_model_trainer.cc(505) LOG(INFO) EM sub_iter=0 size=25860 obj=9.90734 num_tokens=6245845 num_tokens/piece=241.525\n",
      "unigram_model_trainer.cc(505) LOG(INFO) EM sub_iter=1 size=25860 obj=9.89442 num_tokens=6245659 num_tokens/piece=241.518\n",
      "unigram_model_trainer.cc(505) LOG(INFO) EM sub_iter=0 size=19395 obj=9.994 num_tokens=6421086 num_tokens/piece=331.069\n",
      "unigram_model_trainer.cc(505) LOG(INFO) EM sub_iter=1 size=19395 obj=9.97744 num_tokens=6421083 num_tokens/piece=331.069\n",
      "unigram_model_trainer.cc(505) LOG(INFO) EM sub_iter=0 size=14546 obj=10.1125 num_tokens=6629069 num_tokens/piece=455.731\n",
      "unigram_model_trainer.cc(505) LOG(INFO) EM sub_iter=1 size=14546 obj=10.0903 num_tokens=6628831 num_tokens/piece=455.715\n",
      "unigram_model_trainer.cc(505) LOG(INFO) EM sub_iter=0 size=11000 obj=10.2512 num_tokens=6851292 num_tokens/piece=622.845\n",
      "unigram_model_trainer.cc(505) LOG(INFO) EM sub_iter=1 size=11000 obj=10.2212 num_tokens=6851181 num_tokens/piece=622.835\n",
      "trainer_interface.cc(615) LOG(INFO) Saving model: sentencepiece.model\n",
      "trainer_interface.cc(626) LOG(INFO) Saving vocabs: sentencepiece.vocab\n"
     ]
    },
    {
     "data": {
      "text/plain": [
       "array(['>3.4', '>3.5', '>3.6', '>3.7', '>3.8', '>3.9', '>30', '>30.0',\n",
       "       '>300', '>30<', '>31', '>32', '>33', '>34', '>35', '>35.0', '>36',\n",
       "       '>37', '>38', '>39', '>3<', '>4', '>4.0', '>4.00', '>4.1', '>4.2',\n",
       "       '>4.3', '>4.4', '>4.5', '>4.8', '>40', '>40.0', '>41', '>42',\n",
       "       '>43', '>44', '>45', '>45.0', '>46', '>47', '>48', '>49', '>4<',\n",
       "       '>5', '>5.0', '>5.00', '>5.2', '>5.5<', '>5.6', '>50', '>50.0',\n",
       "       '>51', '>52', '>53', '>54', '>55', '>56', '>57', '>58', '>59',\n",
       "       '>5<', '>6', '>6.0', '>6.2', '>6.5', '>60', '>60<', '>61', '>62',\n",
       "       '>63', '>64', '>65', '>65<', '>66', '>67', '>68', '>69', '>6<',\n",
       "       '>7', '>7.0', '>7.3', '>7.5', '>70', '>70<', '>72', '>73', '>74',\n",
       "       '>75', '>76', '>77', '>78', '>79', '>8', '>8.0', '>8.2', '>8.3',\n",
       "       '>8.4', '>8.7', '>80', '>80<', '>81', '>82', '>83', '>84', '>85',\n",
       "       '>86', '>87', '>88', '>89', '>8<', '>9', '>9.0', '>9.6', '>90',\n",
       "       '>90<', '>91', '>92', '>93', '>94', '>95', '>95<', '>96', '>97',\n",
       "       '>98', '>99', '>99.9', '><', '>=', '>[', '>°', '>×', '>○', '>○○',\n",
       "       '?', '??', '???', '@', 'TM', '[', '[(', '[2,6-', '[2-', '[2-(',\n",
       "       '[2-(2-', '[2.2.1]', '[2.2.2]', '[3-', '[3-(', '[3-(3,5-',\n",
       "       '[3-(3-', '[4-', '[4-(', '[4-(2-', '[4-(4-', '[5.4.0]', '[5.5]',\n",
       "       '[589', '\\\\', ']', '],', ']-', ']:', ']<', ']<+>', '^', '_', '`',\n",
       "       '``', 'a', 'ab', 'abietic', 'ability', 'able', 'ably', 'about',\n",
       "       'above', 'absorbing', 'ac', 'acceptable', 'ace', 'aceous',\n",
       "       'acetal', 'acetamide', 'acetamido', 'acetate', 'acetic',\n",
       "       'acetoacetate', 'acetone', 'acetonitrile', 'acetophenone',\n",
       "       'acetoxy', 'acetyl', 'acetylacetonate', 'acid', 'ack', 'acryl',\n",
       "       'acrylamide', 'acrylamido', 'acrylate', 'acrylates', 'acrylic',\n",
       "       'acrylimide', 'acrylonitrile', 'acryloxy', 'acryloxyethyl',\n",
       "       'acryloxypropyl', 'acryloyl', 'acryloyloxy', 'acryloyloxyethyl',\n",
       "       'act', 'active', 'acyl', 'ad', 'adamantane', 'adamantyl', 'added',\n",
       "       'addition', 'addle', 'adhering', 'adhesion', 'adhesive', 'adipate',\n",
       "       'adjacent', 'after', 'age', 'agent', 'aging', 'agnetic', 'ai',\n",
       "       'air', 'ak', 'ake', 'aked', 'aking', 'al', 'alanine', 'alate',\n",
       "       'alcohol', 'aldehyde', 'aliphatic', 'alk', 'alkali', 'alkane',\n",
       "       'alkanediol', 'alkenyl', 'alkoxy', 'alkoxysilane', 'alkyl',\n",
       "       'alkylamines', 'alkylene', 'alkynyl', 'all', 'ally', 'allyl',\n",
       "       'allyloxy', 'alpha', 'also', 'aluminum', 'ame', 'ami', 'amic',\n",
       "       'amid', 'amide', 'amido', 'amine', 'amino', 'aminobenzoate',\n",
       "       'aminobenzoic', 'aminoethyl', 'aminomethyl', 'aminonaphthalene',\n",
       "       'aminophenol', 'aminophenoxy', 'aminophenyl', 'aminopropyl',\n",
       "       'ammonium', 'amount', 'amp', 'amyl', 'an', 'ance', 'and', 'ane',\n",
       "       'ang', 'angle', 'anhydride', 'anilide', 'aniline', 'anilino',\n",
       "       'anilinofluoran', 'ano', 'anoic', 'anol', 'ant', 'anthracene',\n",
       "       'anthraquinone', 'anti', 'ants', 'anyl', 'apatite'], dtype=object)"
      ]
     },
     "execution_count": 13,
     "metadata": {},
     "output_type": "execute_result"
    }
   ],
   "source": [
    "# Tokenize documents with SentencePiece model and calculate tf-idf scores\n",
    "def sp_tokenize(s): return sp_model.encode(s, out_type=str)\n",
    "tfidf_sp_vectorizer = TfidfVectorizer(tokenizer=sp_tokenize, analyzer=\"word\")\n",
    "v_tfidf_sp = tfidf_sp_vectorizer.fit_transform(corpus)\n",
    "voc_sp = tfidf_sp_vectorizer.get_feature_names_out()\n",
    "voc_sp[1000:1300]"
   ]
  },
  {
   "cell_type": "code",
   "execution_count": 14,
   "id": "c36b9cc8",
   "metadata": {},
   "outputs": [
    {
     "name": "stdout",
     "output_type": "stream",
     "text": [
      "....................................................................................................\n",
      "The invention is concerned with novel resinous binders containing tertiary amino groups which are useful for coating articles by means of cathodic electrodeposition. The present invention is also concerned with the preparation of such binders as well as coating compositions containing them.\n",
      "It is known to coat electrically conducting articles with resinous binders containing tertiary amino groups ...\n",
      "Top tf-idf terms: ['▁of' '▁the' '▁binder' '.' ',']\n",
      "....................................................................................................\n",
      "This invention is concerned with ion-exchange resins which are capable of very selective removal of heavy metal ions from aqueous solutions and methods for the synthesis of these resins. The resins of the invention are designed to selectively chelate mercury and copper ions and are particularly useful where the concentration of metal is-low. They have a further advantage that the metal can be reco...\n",
      "Top tf-idf terms: ['.' '▁the' '▁of' ',' '▁and']\n",
      "....................................................................................................\n",
      "This invention relates to a molding resin, to a method of producing the molding resin and to shaped articles formed from the molding resin. More particularly, it pertains to molding resins comprising a polyarylene ester and a reinforcing filler, to a method of producing such molding resins and to shaped articles formed from such molding resins.\n",
      "Many polyesters have been suggested for use as moldin...\n",
      "Top tf-idf terms: ['▁the' '▁of' '.' '▁and' ',']\n",
      "....................................................................................................\n",
      "1. Field of the Invention\n",
      "This invention pertains to certain novel esters of pentavalent phosphorus acid and to plastic compositions containing these esters as flame retardants therefor.\n",
      "2. Description of the Prior Art\n",
      "During the past several years, a large number of flame retardants have been developed for use with an almost equally large number of flammable materials. Cellulosic materials such a...\n",
      "Top tf-idf terms: [',' '▁the' '.' '▁of' '▁and']\n",
      "....................................................................................................\n",
      "This invention is directed to a heterogenous blend comprising 10 to 90 percent by weight of a polycarbonate and 90 to 10 percent by weight of a rubber modified copolymer of a monovinylidene aromatic monomer and an a,p--ethylenically unsaturated comonomer having a pendent polar group, said rubber-modified copolymer containing (a) a rubber, (b) a random copolymer of the monovinylidene aromatic monom...\n",
      "Top tf-idf terms: ['▁the' ',' '▁of' '.' '▁and']\n",
      "....................................................................................................\n",
      "BACKGROUND OF THE INVENTION\n",
      "Various type chemical processes are commonly . carried out in large, stirred vessels which are frequently provided with auxiliary equipment, such as baffles, heat transfer coils which enable heat to be supplied or extracted from the contents of the vessels, and the like. In many cases, however, such processes eventually produce undesirable deposits on the surfaces of th...\n",
      "Top tf-idf terms: ['▁the' ',' '▁reactor' '▁of' '.']\n",
      "....................................................................................................\n",
      "BACKGROUND OF THE INVENTION\n",
      "This invention pertains to detergent compositions having enhanced suds regulating activity over a broad range of usage and temperature conditions comprising a surface-active agent and a suds regulating system. The suds regulating system contains a liquid hydrocarbon, an adjunct material selected from solid hydrocarbons, fatty esters and mixtures thereof and a hydrophobi...\n",
      "Top tf-idf terms: ['▁the' ',' '▁of' '.' 's']\n",
      "....................................................................................................\n",
      "The present invention relates to the production of highly basic calcium sulphonates and to lubricating oils containing such highly basic sulphonates. The term highly basic calcium sulphonate refers to the calcium salt of a sulphonic acid which contains a stoichiometric excess of calcium over and above that required to neutralise the sulphonic acid. Frequently the excess calcium is present in the f...\n",
      "Top tf-idf terms: ['▁the' 'sulphonic' '.' '▁of' '▁sulpho']\n",
      "....................................................................................................\n",
      "BACKGROUND OF THE INVENTION\n",
      "Substituted benzoylbenzoates are known compounds which are usually produced by esterification of the corresponding carboxylic acid with the appropriate alcohol, or by the reaction of the benzoylbenzoic acid - chloride with the alcohol. However, such processes are expensive and result in unacceptable yields, primarily because of the difficulty in producing the acid chlor...\n",
      "Top tf-idf terms: ['.' '▁the' '▁of' ',' '-']\n",
      "....................................................................................................\n",
      "It has been found that compounds having a phosphorus to phosphorus bond are useful to stabilize thermoplastic polymers or resins from the effects of heat and/or oxygen during the molding of a blend containing the polymers and a compound having one or more phosphorus to phosphorus bonds.\n",
      "The invention is directed to a composition comprising a thermoplastic polymer and a stabilizing amount of an org...\n",
      "Top tf-idf terms: ['=\"073' '▁the' '.' '▁a' '▁of']\n"
     ]
    }
   ],
   "source": [
    "# Print terms with highest tf-idf score per document\n",
    "for i in range(10):\n",
    "    print(100 * '.')\n",
    "    print(corpus[i][:400] + \"...\")\n",
    "    print(\"Top tf-idf terms:\", top_tfidfs(v_tfidf_sp[i], 5, voc_sp))"
   ]
  },
  {
   "cell_type": "code",
   "execution_count": null,
   "id": "62dc8e81",
   "metadata": {},
   "outputs": [],
   "source": []
  }
 ],
 "metadata": {
  "kernelspec": {
   "display_name": "Python 3 (ipykernel)",
   "language": "python",
   "name": "python3"
  },
  "language_info": {
   "codemirror_mode": {
    "name": "ipython",
    "version": 3
   },
   "file_extension": ".py",
   "mimetype": "text/x-python",
   "name": "python",
   "nbconvert_exporter": "python",
   "pygments_lexer": "ipython3",
   "version": "3.9.7"
  }
 },
 "nbformat": 4,
 "nbformat_minor": 5
}
