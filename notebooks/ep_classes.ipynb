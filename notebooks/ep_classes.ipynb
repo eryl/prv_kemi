{
 "cells": [
  {
   "cell_type": "code",
   "execution_count": 1,
   "id": "0539afcc",
   "metadata": {},
   "outputs": [],
   "source": [
    "import re\n",
    "import os\n",
    "import epo_ops\n",
    "import json\n",
    "import xmltodict\n",
    "import pandas as pd\n",
    "import matplotlib.pyplot as plt\n",
    "from pathlib import Path\n",
    "from importlib import reload\n",
    "from collections import Counter\n",
    "\n",
    "middlewares = [\n",
    "    #epo_ops.middlewares.Dogpile(), # Disabled due to problems with caching\n",
    "    epo_ops.middlewares.Throttler(),\n",
    "]"
   ]
  },
  {
   "cell_type": "code",
   "execution_count": null,
   "id": "de955843",
   "metadata": {},
   "outputs": [],
   "source": [
    "# Initialisation\n",
    "with open(Path('..') / 'api_keys.json', 'r') as fp: api_keys = json.load(fp)\n",
    "\n",
    "client = epo_ops.Client(\n",
    "    key=api_keys['key'],\n",
    "    secret=api_keys['secret'],\n",
    "    middlewares=middlewares,\n",
    ")\n",
    "\n",
    "reload(epo_ops.models)\n",
    "from epo_ops.models import Epodoc, Docdb, BaseInput"
   ]
  },
  {
   "cell_type": "code",
   "execution_count": null,
   "id": "7a4cdbae",
   "metadata": {},
   "outputs": [],
   "source": [
    "# Load list of applications\n",
    "path = \"../../../data\"\n",
    "file_name = \"bisfenol_a_ep_applications.txt\"\n",
    "data = pd.read_csv(Path(path)/file_name, header=None, names=[\"pat\"])\n",
    "num_patents = data.shape[0]\n",
    "data"
   ]
  },
  {
   "cell_type": "code",
   "execution_count": null,
   "id": "4355922e",
   "metadata": {},
   "outputs": [],
   "source": [
    "# Class code extraction\n",
    "def get_codes(d):\n",
    "    return d[\"ops:world-patent-data\"] \\\n",
    "            [\"exchange-documents\"] \\\n",
    "            [\"exchange-document\"] \\\n",
    "            [\"bibliographic-data\"]\n",
    "\n",
    "def get_ipc(d):\n",
    "    c = get_codes(d)\n",
    "    if \"classification-ipc\" not in c or c[\"classification-ipc\"] == None: return []    \n",
    "    l = c[\"classification-ipc\"][\"text\"]\n",
    "    return l if type(l) is list else [l]\n",
    "\n",
    "def get_ipcr(d):\n",
    "    c = get_codes(d)\n",
    "    if \"classifications-ipcr\" not in c or c[\"classifications-ipcr\"] == None: return [] \n",
    "    l = c[\"classifications-ipcr\"][\"classification-ipcr\"]\n",
    "    if type(l) is not list: l = [l]\n",
    "    return [re.sub(' +', ' ', c[\"text\"]) for c in l]\n",
    "\n",
    "def parse_cpci(v):\n",
    "    if v[\"generating-office\"] != \"EP\": return None\n",
    "    return \"{} {} {} {} {} {}\".format( \\\n",
    "           v[\"section\"], v[\"class\"], v[\"subclass\"], v[\"main-group\"], v[\"subgroup\"], v[\"classification-value\"])\n",
    "\n",
    "def get_cpci(d):\n",
    "    c = get_codes(d)\n",
    "    if \"patent-classifications\" not in c or c[\"patent-classifications\"] == None or \\\n",
    "       \"patent-classification\" not in c[\"patent-classifications\"]: return []\n",
    "    l = c[\"patent-classifications\"][\"patent-classification\"]\n",
    "    if type(l) is not list: l = [l]\n",
    "    l = [parse_cpci(v) for v in l]\n",
    "    return [v for v in l if v != None]"
   ]
  },
  {
   "cell_type": "code",
   "execution_count": null,
   "id": "be3d4bde",
   "metadata": {},
   "outputs": [],
   "source": [
    "# Fetch and store biblio data containing classes\n",
    "first_index = 0\n",
    "last_index = len(data)\n",
    "counter = first_index\n",
    "os.makedirs(\"../xml\", exist_ok=True)\n",
    "\n",
    "for d in data[first_index:last_index][\"pat\"]:\n",
    "    print(counter/num_patents, counter, d, end='\\r')\n",
    "    d = d.replace('-', '.')\n",
    "    response = client.published_data(\"publication\", Epodoc(d), endpoint=\"biblio\")\n",
    "    xml_file = open(f\"../xml/{d}.biblio.xml\", 'wb')\n",
    "    xml_file.write(response.content)\n",
    "    xml_file.close()\n",
    "    counter += 1"
   ]
  },
  {
   "cell_type": "code",
   "execution_count": null,
   "id": "8f6660fc",
   "metadata": {},
   "outputs": [],
   "source": [
    "# Collect classes\n",
    "ipcs, ipcrs, cpcis = [], [], []\n",
    "\n",
    "for d in data[\"pat\"]:\n",
    "    d = d.replace('-', '.')    \n",
    "    xml_file = open(f\"../xml/{d}.biblio.xml\", 'rb')\n",
    "    c = xmltodict.parse(xml_file)\n",
    "    ipcs.append(get_ipc(c))\n",
    "    ipcrs.append(get_ipcr(c))\n",
    "    cpcis.append(get_cpci(c))\n",
    "    \n",
    "data[\"ipc\"] = ipcs\n",
    "data[\"ipcr\"] = ipcrs\n",
    "data[\"cpci\"] = cpcis\n",
    "\n",
    "data"
   ]
  },
  {
   "cell_type": "code",
   "execution_count": 2,
   "id": "8b85902b",
   "metadata": {},
   "outputs": [],
   "source": [
    "# JSON path and file name\n",
    "codes_path = \"..\"\n",
    "codes_fn = \"bisfenol_a_ep_application_codes.json\""
   ]
  },
  {
   "cell_type": "code",
   "execution_count": null,
   "id": "72e2b035",
   "metadata": {},
   "outputs": [],
   "source": [
    "# Convert to JSON and write to disk\n",
    "with open(Path(codes_path)/codes_fn, 'w') as out_file:\n",
    "    out_file.write(data.to_json(orient=\"records\", indent=4))"
   ]
  },
  {
   "cell_type": "code",
   "execution_count": 3,
   "id": "cc0a85fc",
   "metadata": {},
   "outputs": [
    {
     "data": {
      "text/html": [
       "<div>\n",
       "<style scoped>\n",
       "    .dataframe tbody tr th:only-of-type {\n",
       "        vertical-align: middle;\n",
       "    }\n",
       "\n",
       "    .dataframe tbody tr th {\n",
       "        vertical-align: top;\n",
       "    }\n",
       "\n",
       "    .dataframe thead th {\n",
       "        text-align: right;\n",
       "    }\n",
       "</style>\n",
       "<table border=\"1\" class=\"dataframe\">\n",
       "  <thead>\n",
       "    <tr style=\"text-align: right;\">\n",
       "      <th></th>\n",
       "      <th>pat</th>\n",
       "      <th>ipc</th>\n",
       "      <th>ipcr</th>\n",
       "      <th>cpci</th>\n",
       "    </tr>\n",
       "  </thead>\n",
       "  <tbody>\n",
       "    <tr>\n",
       "      <th>0</th>\n",
       "      <td>EP-0000022-A1</td>\n",
       "      <td>[B29D9/00, B32B27/36, C08J7/04]</td>\n",
       "      <td>[B32B 27/ 30 A I, B32B 27/ 36 A I, C08J 7/ 04 ...</td>\n",
       "      <td>[B 32 B 27 36 I, C 08 J 7 042 I, C 08 J 7 043 ...</td>\n",
       "    </tr>\n",
       "    <tr>\n",
       "      <th>1</th>\n",
       "      <td>EP-0000060-A1</td>\n",
       "      <td>[C07C69/96, C08G63/66, C08G65/32]</td>\n",
       "      <td>[C08G 63/ 00 A I, B01J 31/ 00 A I, C07B 61/ 00...</td>\n",
       "      <td>[C 08 G 64 183 I]</td>\n",
       "    </tr>\n",
       "    <tr>\n",
       "      <th>2</th>\n",
       "      <td>EP-0000082-A1</td>\n",
       "      <td>[G03C1/68, G03F7/10]</td>\n",
       "      <td>[G03F 7/ 26 A I, C08F 20/ 00 A I, C08F 20/ 34 ...</td>\n",
       "      <td>[G 03 F 7 0388 I]</td>\n",
       "    </tr>\n",
       "    <tr>\n",
       "      <th>3</th>\n",
       "      <td>EP-0000086-A1</td>\n",
       "      <td>[C25D13/06, C08G59/14]</td>\n",
       "      <td>[C08G 59/ 00 A I, C08G 59/ 14 A I, C09D 5/ 44 ...</td>\n",
       "      <td>[C 08 G 59 145 I, C 09 D 5 4446 I]</td>\n",
       "    </tr>\n",
       "    <tr>\n",
       "      <th>4</th>\n",
       "      <td>EP-0000090-A1</td>\n",
       "      <td>[C08G14/06]</td>\n",
       "      <td>[C08G 14/ 00 A I, B01D 15/ 04 A I, B01J 45/ 00...</td>\n",
       "      <td>[B 01 J 45 00 I, C 01 G 3 003 I, C 01 G 13 003...</td>\n",
       "    </tr>\n",
       "    <tr>\n",
       "      <th>...</th>\n",
       "      <td>...</td>\n",
       "      <td>...</td>\n",
       "      <td>...</td>\n",
       "      <td>...</td>\n",
       "    </tr>\n",
       "    <tr>\n",
       "      <th>39236</th>\n",
       "      <td>EP-3757183-A1</td>\n",
       "      <td>[]</td>\n",
       "      <td>[C09J 5/ 00 A I, C09J 4/ 00 A I]</td>\n",
       "      <td>[C 08 F 283 006 I, C 09 J 4 06 I, C 09 J 5 00 ...</td>\n",
       "    </tr>\n",
       "    <tr>\n",
       "      <th>39237</th>\n",
       "      <td>EP-3757249-A1</td>\n",
       "      <td>[]</td>\n",
       "      <td>[C23C 18/ 18 A I, C09D 11/ 52 A I, C23C 18/ 20...</td>\n",
       "      <td>[C 09 D 11 52 I, C 23 C 18 1882 I, C 23 C 18 1...</td>\n",
       "    </tr>\n",
       "    <tr>\n",
       "      <th>39238</th>\n",
       "      <td>EP-3757258-A1</td>\n",
       "      <td>[]</td>\n",
       "      <td>[C25D 13/ 00 A I, C09D 5/ 44 A I, C09D 7/ 63 A...</td>\n",
       "      <td>[C 08 G 59 302 I, C 08 G 59 66 I, C 08 G 59 68...</td>\n",
       "    </tr>\n",
       "    <tr>\n",
       "      <th>39239</th>\n",
       "      <td>EP-3757625-A1</td>\n",
       "      <td>[]</td>\n",
       "      <td>[G02B 1/ 111 A I, B32B 7/ 023 A I, B32B 27/ 30...</td>\n",
       "      <td>[C 08 F 290 067 I, C 08 G 18 3812 I, C 08 G 18...</td>\n",
       "    </tr>\n",
       "    <tr>\n",
       "      <th>39240</th>\n",
       "      <td>EP-3758048-A1</td>\n",
       "      <td>[]</td>\n",
       "      <td>[H01L 21/ 52 A I, B22F 7/ 00 A I, B22F 7/ 04 A...</td>\n",
       "      <td>[B 22 F 7 08 I, C 09 K 5 14 I, H 01 L 23 49513...</td>\n",
       "    </tr>\n",
       "  </tbody>\n",
       "</table>\n",
       "<p>28802 rows × 4 columns</p>\n",
       "</div>"
      ],
      "text/plain": [
       "                 pat                                ipc  \\\n",
       "0      EP-0000022-A1    [B29D9/00, B32B27/36, C08J7/04]   \n",
       "1      EP-0000060-A1  [C07C69/96, C08G63/66, C08G65/32]   \n",
       "2      EP-0000082-A1               [G03C1/68, G03F7/10]   \n",
       "3      EP-0000086-A1             [C25D13/06, C08G59/14]   \n",
       "4      EP-0000090-A1                        [C08G14/06]   \n",
       "...              ...                                ...   \n",
       "39236  EP-3757183-A1                                 []   \n",
       "39237  EP-3757249-A1                                 []   \n",
       "39238  EP-3757258-A1                                 []   \n",
       "39239  EP-3757625-A1                                 []   \n",
       "39240  EP-3758048-A1                                 []   \n",
       "\n",
       "                                                    ipcr  \\\n",
       "0      [B32B 27/ 30 A I, B32B 27/ 36 A I, C08J 7/ 04 ...   \n",
       "1      [C08G 63/ 00 A I, B01J 31/ 00 A I, C07B 61/ 00...   \n",
       "2      [G03F 7/ 26 A I, C08F 20/ 00 A I, C08F 20/ 34 ...   \n",
       "3      [C08G 59/ 00 A I, C08G 59/ 14 A I, C09D 5/ 44 ...   \n",
       "4      [C08G 14/ 00 A I, B01D 15/ 04 A I, B01J 45/ 00...   \n",
       "...                                                  ...   \n",
       "39236                   [C09J 5/ 00 A I, C09J 4/ 00 A I]   \n",
       "39237  [C23C 18/ 18 A I, C09D 11/ 52 A I, C23C 18/ 20...   \n",
       "39238  [C25D 13/ 00 A I, C09D 5/ 44 A I, C09D 7/ 63 A...   \n",
       "39239  [G02B 1/ 111 A I, B32B 7/ 023 A I, B32B 27/ 30...   \n",
       "39240  [H01L 21/ 52 A I, B22F 7/ 00 A I, B22F 7/ 04 A...   \n",
       "\n",
       "                                                    cpci  \n",
       "0      [B 32 B 27 36 I, C 08 J 7 042 I, C 08 J 7 043 ...  \n",
       "1                                      [C 08 G 64 183 I]  \n",
       "2                                      [G 03 F 7 0388 I]  \n",
       "3                     [C 08 G 59 145 I, C 09 D 5 4446 I]  \n",
       "4      [B 01 J 45 00 I, C 01 G 3 003 I, C 01 G 13 003...  \n",
       "...                                                  ...  \n",
       "39236  [C 08 F 283 006 I, C 09 J 4 06 I, C 09 J 5 00 ...  \n",
       "39237  [C 09 D 11 52 I, C 23 C 18 1882 I, C 23 C 18 1...  \n",
       "39238  [C 08 G 59 302 I, C 08 G 59 66 I, C 08 G 59 68...  \n",
       "39239  [C 08 F 290 067 I, C 08 G 18 3812 I, C 08 G 18...  \n",
       "39240  [B 22 F 7 08 I, C 09 K 5 14 I, H 01 L 23 49513...  \n",
       "\n",
       "[28802 rows x 4 columns]"
      ]
     },
     "execution_count": 3,
     "metadata": {},
     "output_type": "execute_result"
    }
   ],
   "source": [
    "# Load codes from JSON file\n",
    "codes = pd.read_json(Path(codes_path)/codes_fn)\n",
    "# Keep only A1 documents\n",
    "codes = codes[codes[\"pat\"].str.match('EP-.*-A1')]\n",
    "codes"
   ]
  },
  {
   "cell_type": "code",
   "execution_count": 4,
   "id": "5794ad98",
   "metadata": {},
   "outputs": [],
   "source": [
    "# Extract ipcr codes\n",
    "def flatten(l): return [v for s in l for v in s]\n",
    "ipcr = flatten(codes[\"ipcr\"].tolist())"
   ]
  },
  {
   "cell_type": "code",
   "execution_count": 5,
   "id": "6165b7f1",
   "metadata": {},
   "outputs": [
    {
     "name": "stdout",
     "output_type": "stream",
     "text": [
      "2007 | 0.012681582954739323 | C08L 69/ 00 A I\n",
      "1834 | 0.01158845198753957 | C08L 63/ 00 A I\n",
      "1144 | 0.007228565470962524 | C09D 163/ 00 A I\n",
      "1096 | 0.006925269017635425 | C08L 101/ 00 A I\n",
      "1084 | 0.006849444904303651 | C08K 5/ 00 A I\n",
      "1040 | 0.006571423155420477 | C08L 67/ 02 A I\n",
      "884 | 0.005585709682107405 | C08L 67/ 00 A I\n",
      "803 | 0.0050738969171179255 | C08G 18/ 48 A I\n",
      "749 | 0.004732688407124939 | C08G 59/ 40 A I\n",
      "746 | 0.004713732378791995 | C09J 163/ 00 A I\n",
      "743 | 0.004694776350459052 | C09D 175/ 04 A I\n",
      "741 | 0.004682138998237089 | C08K 3/ 00 A I\n",
      "725 | 0.0045810401804613895 | C08J 5/ 24 A I\n",
      "719 | 0.004543128123795502 | C08G 59/ 50 A I\n",
      "694 | 0.004385161221020972 | C08G 18/ 08 A I\n",
      "662 | 0.004182963585469573 | C08G 18/ 10 A I\n",
      "621 | 0.003923897864919342 | G02B 1/ 04 A I\n",
      "608 | 0.003841755075476586 | C09D 11/ 00 A I\n",
      "604 | 0.0038164803710326613 | C08J 5/ 18 A I\n",
      "553 | 0.0034942278893726184 | C08G 18/ 42 A I\n",
      "549 | 0.0034689531849286938 | C08F 290/ 06 A I\n",
      "537 | 0.003393129071596919 | C08J 7/ 04 A I\n",
      "536 | 0.003386810395485938 | C09D 5/ 00 A I\n",
      "530 | 0.0033488983388200505 | C08G 18/ 32 A I\n",
      "526 | 0.0033236236343761254 | C09D 7/ 12 A I\n",
      "Number of unique codes: 12734\n"
     ]
    }
   ],
   "source": [
    "# Count occurrences\n",
    "ipcr_counts = Counter(ipcr)\n",
    "# Print most common\n",
    "tot_count = sum(ipcr_counts.values())\n",
    "for k, v in ipcr_counts.most_common(25):\n",
    "    print(v, \"|\", v/tot_count, \"|\", k)\n",
    "print(\"Number of unique codes:\", len(ipcr_counts))"
   ]
  },
  {
   "cell_type": "code",
   "execution_count": 6,
   "id": "8d749d7b",
   "metadata": {},
   "outputs": [
    {
     "data": {
      "image/png": "[encoded data removed]",
      "text/plain": [
       "<Figure size 432x288 with 1 Axes>"
      ]
     },
     "metadata": {
      "needs_background": "light"
     },
     "output_type": "display_data"
    },
    {
     "data": {
      "image/png": "[encoded data removed]",
      "text/plain": [
       "<Figure size 432x288 with 1 Axes>"
      ]
     },
     "metadata": {
      "needs_background": "light"
     },
     "output_type": "display_data"
    },
    {
     "data": {
      "image/png": "[encoded data removed]",
      "text/plain": [
       "<Figure size 432x288 with 1 Axes>"
      ]
     },
     "metadata": {
      "needs_background": "light"
     },
     "output_type": "display_data"
    }
   ],
   "source": [
    "# Plot ranking vs count\n",
    "def set_labels():\n",
    "    plt.xlabel(\"Ranking\")\n",
    "    plt.ylabel(\"Count\")\n",
    "ranked = sorted(dict(ipcr_counts).values(), reverse=True)\n",
    "plt.plot(ranked, \"k-\")\n",
    "set_labels()\n",
    "plt.figure()\n",
    "plt.plot(ranked[:100], \"k-\")\n",
    "set_labels()\n",
    "plt.figure()\n",
    "plt.loglog(ranked, \"k-\")\n",
    "set_labels()"
   ]
  },
  {
   "cell_type": "code",
   "execution_count": null,
   "id": "b679fc51",
   "metadata": {},
   "outputs": [],
   "source": []
  }
 ],
 "metadata": {
  "kernelspec": {
   "display_name": "Python 3 (ipykernel)",
   "language": "python",
   "name": "python3"
  },
  "language_info": {
   "codemirror_mode": {
    "name": "ipython",
    "version": 3
   },
   "file_extension": ".py",
   "mimetype": "text/x-python",
   "name": "python",
   "nbconvert_exporter": "python",
   "pygments_lexer": "ipython3",
   "version": "3.9.7"
  }
 },
 "nbformat": 4,
 "nbformat_minor": 5
}
