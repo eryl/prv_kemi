{
 "cells": [
  {
   "cell_type": "code",
   "execution_count": null,
   "metadata": {},
   "outputs": [],
   "source": []
  },
  {
   "cell_type": "code",
   "execution_count": 1,
   "id": "0539afcc",
   "metadata": {},
   "outputs": [],
   "source": [
    "import epo_ops\n",
    "import os\n",
    "import json\n",
    "from pathlib import Path\n",
    "import math\n",
    "import xml.etree.ElementTree as ET\n",
    "from tqdm.notebook import tqdm, trange\n",
    "import datetime\n",
    "\n",
    "middlewares = [\n",
    "    #epo_ops.middlewares.Dogpile(), #No dogpile support on windows\n",
    "    epo_ops.middlewares.Throttler(),\n",
    "]"
   ]
  },
  {
   "cell_type": "code",
   "execution_count": 2,
   "id": "de955843",
   "metadata": {},
   "outputs": [],
   "source": [
    "# The api keys should be in a json-file in the project root, with two attributes: \"key\" and \"secret\" for example:\n",
    "# { \"key\": \"YOUR_APPLICATION_KEY\", \"secret\": \"YOUR_APPLICATION_SECRET\"}\n",
    "api_keys_path = Path('..') / 'api_keys.json'"
   ]
  },
  {
   "cell_type": "code",
   "execution_count": 3,
   "id": "7a4cdbae",
   "metadata": {},
   "outputs": [],
   "source": [
    "with open(api_keys_path, 'r') as fp:\n",
    "    api_keys = json.load(fp)"
   ]
  },
  {
   "cell_type": "code",
   "execution_count": 4,
   "id": "9375f73f",
   "metadata": {},
   "outputs": [],
   "source": [
    "from importlib import reload\n",
    "reload(epo_ops)\n",
    "client = epo_ops.Client(\n",
    "    key=api_keys['key'],\n",
    "    secret=api_keys['secret'],\n",
    "    middlewares=middlewares,\n",
    "    accept_type='json'\n",
    ")"
   ]
  },
  {
   "cell_type": "code",
   "execution_count": 40,
   "metadata": {},
   "outputs": [
    {
     "name": "stdout",
     "output_type": "stream",
     "text": [
      "2014-08-01 00:00:00\n",
      "2014-08-01 00:00:00\n"
     ]
    },
    {
     "data": {
      "text/plain": [
       "'20140301'"
      ]
     },
     "execution_count": 40,
     "metadata": {},
     "output_type": "execute_result"
    }
   ],
   "source": [
    "a = datetime.datetime(year=2014, month=3, day=1)\n",
    "b = datetime.datetime(year=2015, month=1, day=1)\n",
    "dt = b-a \n",
    "print(a+dt/2)\n",
    "print(b-dt/2)\n",
    "a.strftime('%Y%m%d')"
   ]
  },
  {
   "cell_type": "code",
   "execution_count": 17,
   "metadata": {},
   "outputs": [],
   "source": [
    "req = client.published_data_search('pn=\"EP\" and pd=\"20160106 20160107\"', range_begin=1, range_end=2)"
   ]
  },
  {
   "cell_type": "code",
   "execution_count": 14,
   "metadata": {},
   "outputs": [
    {
     "data": {
      "text/plain": [
       "{'ops:world-patent-data': {'@xmlns': {'ops': 'http://ops.epo.org',\n",
       "   '$': 'http://www.epo.org/exchange',\n",
       "   'xlink': 'http://www.w3.org/1999/xlink'},\n",
       "  'ops:biblio-search': {'@total-result-count': '2747',\n",
       "   'ops:query': {'$': 'pn = EP and pd = \"20160106 20160107\"',\n",
       "    '@syntax': 'CQL'},\n",
       "   'ops:range': {'@begin': '1', '@end': '2'},\n",
       "   'ops:search-result': {'ops:publication-reference': [{'@system': 'ops.epo.org',\n",
       "      '@family-id': '54323459',\n",
       "      'document-id': {'@document-id-type': 'docdb',\n",
       "       'country': {'$': 'EP'},\n",
       "       'doc-number': {'$': '2963856'},\n",
       "       'kind': {'$': 'A1'}}},\n",
       "     {'@system': 'ops.epo.org',\n",
       "      '@family-id': '51040005',\n",
       "      'document-id': {'@document-id-type': 'docdb',\n",
       "       'country': {'$': 'EP'},\n",
       "       'doc-number': {'$': '2963546'},\n",
       "       'kind': {'$': 'A1'}}}]}}}}"
      ]
     },
     "execution_count": 14,
     "metadata": {},
     "output_type": "execute_result"
    }
   ],
   "source": [
    "results = json.loads(req.content)\n",
    "results"
   ]
  },
  {
   "cell_type": "code",
   "execution_count": 6,
   "metadata": {},
   "outputs": [
    {
     "data": {
      "text/plain": [
       "['EP3903806.A1', 'EP3903807.A1']"
      ]
     },
     "execution_count": 6,
     "metadata": {},
     "output_type": "execute_result"
    }
   ],
   "source": [
    "results = json.loads(req.content)\n",
    "docs = results['ops:world-patent-data']['ops:biblio-search']['ops:search-result']['ops:publication-reference']\n",
    "document_ids = []\n",
    "for doc in docs:\n",
    "    document_id = doc['document-id']\n",
    "    country = document_id['country']['$']\n",
    "    doc_number = document_id['doc-number']['$']\n",
    "    kind_code = document_id['kind']['$']\n",
    "    doc_str = f'{country}{doc_number}.{kind_code}'\n",
    "    document_ids.append(doc_str)\n",
    "document_ids"
   ]
  },
  {
   "cell_type": "code",
   "execution_count": 65,
   "metadata": {},
   "outputs": [],
   "source": [
    "def determine_yearly_range(client, cql, year_range):\n",
    "    '''return a sequence of year ranges where each range will return less than 2000 patents'''\n",
    "    begin_year, end_year = year_range\n",
    "    year_instantiated_cql = cql.format(begin_year=begin_year, end_year=end_year)\n",
    "    print(year_instantiated_cql)\n",
    "    req = client.published_data_search(year_instantiated_cql, range_begin=1, range_end=2)  # We limit the range to limit how much date we request\n",
    "    query_response = json.loads(req.content)\n",
    "    total_count = int(query_response['ops:world-patent-data']['ops:biblio-search']['@total-result-count'])\n",
    "    if total_count < 2000:\n",
    "        return (year_range,)\n",
    "    else:\n",
    "        year_range = int((end_year - begin_year)/2)\n",
    "        first_range = (begin_year, begin_year+year_range)\n",
    "        second_range = (begin_year+year_range + 1, end_year)   # +1 since the ranges are inclusive (I think?)\n",
    "        return determine_yearly_range(client, cql, first_range) + determine_yearly_range(client, cql, second_range)\n",
    "\n",
    "\n",
    "def extract_patents(query_response):\n",
    "    docs = query_response['ops:world-patent-data']['ops:biblio-search']['ops:search-result']['ops:publication-reference']\n",
    "    document_ids = []\n",
    "    for doc in docs:\n",
    "        document_id = doc['document-id']\n",
    "        country = document_id['country']['$']\n",
    "        doc_number = document_id['doc-number']['$']\n",
    "        kind_code = document_id['kind']['$']\n",
    "        doc_str = f'{country}{doc_number}.{kind_code}'\n",
    "        document_ids.append(doc_str)\n",
    "    return document_ids\n",
    "\n",
    "\n",
    "def get_class_patents(client, cql, year_range):\n",
    "    patents = []\n",
    "    \n",
    "    begin_year, end_year = year_range\n",
    "    year_instantiated_cql = cql.format(begin_year=begin_year, end_year=end_year)\n",
    "    req = client.published_data_search(year_instantiated_cql, range_begin=1, range_end=100)  # We limit the range to limit how much date we request\n",
    "    query_response = json.loads(req.content)\n",
    "    patents.extend(extract_patents(query_response))\n",
    "\n",
    "    total_count = int(query_response['ops:world-patent-data']['ops:biblio-search']['@total-result-count'])\n",
    "    n_requests = int(math.ceil(total_count / 100))\n",
    "    for i in trange(1, n_requests, desc=\"Retriving documents\"):\n",
    "        start_range = i*100+1\n",
    "        end_range = (i+1)*100\n",
    "        req = client.published_data_search(year_instantiated_cql, range_begin=start_range, range_end=end_range)  # We limit the range to limit how much date we request\n",
    "        query_response = json.loads(req.content)\n",
    "        patents.extend(extract_patents(query_response))\n",
    "    return patents\n",
    "\n",
    "\n",
    "def search_patents_in_classes(ipc_classes, client, output_dir: Path, year_range=(1950,2021), overwrite=False):\n",
    "    '''Search for patents belonging to the given classes'''\n",
    "    for ipc_class in ipc_classes:\n",
    "        output_path = output_dir / f'{ipc_class}_{year_range[0]}-{year_range[1]}.csv'\n",
    "        if not output_path.exists() or overwrite:\n",
    "            # We're going to do a gradual divide and conquer until the hit results are below 2000 since that is the maximum\n",
    "            cql = f'ipc={ipc_class}' + ' and pn=EP and pd=\"{begin_year} {end_year}\"'\n",
    "            valid_year_ranges = determine_yearly_range(client, cql, year_range)\n",
    "            documents = []\n",
    "            for valid_year_range in valid_year_ranges:\n",
    "                documents.extend(get_class_patents(client, cql, valid_year_range))\n",
    "            with open(output_path, 'w') as fp:\n",
    "                fp.write('\\n'.join(documents))\n"
   ]
  },
  {
   "cell_type": "code",
   "execution_count": 67,
   "metadata": {},
   "outputs": [
    {
     "name": "stdout",
     "output_type": "stream",
     "text": [
      "ipc=C08L69 and pn=EP and pd=\"2015 2020\"\n"
     ]
    },
    {
     "data": {
      "application/vnd.jupyter.widget-view+json": {
       "model_id": "fa1945dc0eab4d728db481f676171c71",
       "version_major": 2,
       "version_minor": 0
      },
      "text/plain": [
       "Retriving documents:   0%|          | 0/7 [00:00<?, ?it/s]"
      ]
     },
     "metadata": {},
     "output_type": "display_data"
    }
   ],
   "source": [
    "search_patents_in_classes(['C08L69'], client, output_dir=Path(), year_range=(2015, 2020), overwrite=True)"
   ]
  },
  {
   "cell_type": "code",
   "execution_count": 30,
   "metadata": {},
   "outputs": [
    {
     "ename": "KeyError",
     "evalue": "'patent_class'",
     "output_type": "error",
     "traceback": [
      "\u001b[1;31m---------------------------------------------------------------------------\u001b[0m",
      "\u001b[1;31mKeyError\u001b[0m                                  Traceback (most recent call last)",
      "\u001b[1;32m~\\AppData\\Local\\Temp/ipykernel_27424/2509809435.py\u001b[0m in \u001b[0;36m<module>\u001b[1;34m\u001b[0m\n\u001b[0;32m      1\u001b[0m \u001b[0mcql\u001b[0m \u001b[1;33m=\u001b[0m \u001b[1;34m'ipc={patent_class} and pn=EP and pd=\"{begin_year} {end_year}\"'\u001b[0m\u001b[1;33m\u001b[0m\u001b[1;33m\u001b[0m\u001b[0m\n\u001b[1;32m----> 2\u001b[1;33m \u001b[0mdetermine_yearly_range\u001b[0m\u001b[1;33m(\u001b[0m\u001b[0mclient\u001b[0m\u001b[1;33m,\u001b[0m \u001b[0mcql\u001b[0m\u001b[1;33m,\u001b[0m \u001b[1;33m(\u001b[0m\u001b[1;36m1950\u001b[0m\u001b[1;33m,\u001b[0m \u001b[1;36m2021\u001b[0m\u001b[1;33m)\u001b[0m\u001b[1;33m)\u001b[0m\u001b[1;33m\u001b[0m\u001b[1;33m\u001b[0m\u001b[0m\n\u001b[0m",
      "\u001b[1;32m~\\AppData\\Local\\Temp/ipykernel_27424/2430056499.py\u001b[0m in \u001b[0;36mdetermine_yearly_range\u001b[1;34m(client, cql, year_range)\u001b[0m\n\u001b[0;32m      1\u001b[0m \u001b[1;32mdef\u001b[0m \u001b[0mdetermine_yearly_range\u001b[0m\u001b[1;33m(\u001b[0m\u001b[0mclient\u001b[0m\u001b[1;33m,\u001b[0m \u001b[0mcql\u001b[0m\u001b[1;33m,\u001b[0m \u001b[0myear_range\u001b[0m\u001b[1;33m)\u001b[0m\u001b[1;33m:\u001b[0m\u001b[1;33m\u001b[0m\u001b[1;33m\u001b[0m\u001b[0m\n\u001b[0;32m      2\u001b[0m     \u001b[0mbegin_year\u001b[0m\u001b[1;33m,\u001b[0m \u001b[0mend_year\u001b[0m \u001b[1;33m=\u001b[0m \u001b[0myear_range\u001b[0m\u001b[1;33m\u001b[0m\u001b[1;33m\u001b[0m\u001b[0m\n\u001b[1;32m----> 3\u001b[1;33m     \u001b[0myear_instantiated_cql\u001b[0m \u001b[1;33m=\u001b[0m \u001b[0mcql\u001b[0m\u001b[1;33m.\u001b[0m\u001b[0mformat\u001b[0m\u001b[1;33m(\u001b[0m\u001b[0mbegin_year\u001b[0m\u001b[1;33m=\u001b[0m\u001b[0mbegin_year\u001b[0m\u001b[1;33m,\u001b[0m \u001b[0mend_year\u001b[0m\u001b[1;33m=\u001b[0m\u001b[0mend_year\u001b[0m\u001b[1;33m)\u001b[0m\u001b[1;33m\u001b[0m\u001b[1;33m\u001b[0m\u001b[0m\n\u001b[0m\u001b[0;32m      4\u001b[0m     \u001b[0mreq\u001b[0m \u001b[1;33m=\u001b[0m \u001b[0mclient\u001b[0m\u001b[1;33m.\u001b[0m\u001b[0mpublished_data_search\u001b[0m\u001b[1;33m(\u001b[0m\u001b[0myear_instantiated_cql\u001b[0m\u001b[1;33m,\u001b[0m \u001b[0mrange_begin\u001b[0m\u001b[1;33m=\u001b[0m\u001b[1;36m1\u001b[0m\u001b[1;33m,\u001b[0m \u001b[0mrange_end\u001b[0m\u001b[1;33m=\u001b[0m\u001b[1;36m2\u001b[0m\u001b[1;33m)\u001b[0m  \u001b[1;31m# We limit the range to limit how much date we request\u001b[0m\u001b[1;33m\u001b[0m\u001b[1;33m\u001b[0m\u001b[0m\n\u001b[0;32m      5\u001b[0m     \u001b[0mquery_response\u001b[0m \u001b[1;33m=\u001b[0m \u001b[0mjson\u001b[0m\u001b[1;33m.\u001b[0m\u001b[0mloads\u001b[0m\u001b[1;33m(\u001b[0m\u001b[0mreq\u001b[0m\u001b[1;33m.\u001b[0m\u001b[0mcontent\u001b[0m\u001b[1;33m)\u001b[0m\u001b[1;33m\u001b[0m\u001b[1;33m\u001b[0m\u001b[0m\n",
      "\u001b[1;31mKeyError\u001b[0m: 'patent_class'"
     ]
    }
   ],
   "source": [
    "cql = 'ipc={patent_class} and pn=EP and pd=\"{begin_year} {end_year}\"'\n",
    "determine_yearly_range(client, cql, (1950, 2021))"
   ]
  },
  {
   "cell_type": "code",
   "execution_count": 26,
   "metadata": {},
   "outputs": [
    {
     "data": {
      "text/plain": [
       "'ipc=C08L69 and pn=EP and pd=\"0 1\"'"
      ]
     },
     "execution_count": 26,
     "metadata": {},
     "output_type": "execute_result"
    }
   ],
   "source": [
    "cql.format(begin_year=0, end_year=1)"
   ]
  },
  {
   "cell_type": "code",
   "execution_count": null,
   "metadata": {},
   "outputs": [],
   "source": []
  }
 ],
 "metadata": {
  "interpreter": {
   "hash": "be8c160317c399d920008537b4087fd79b1b46795a6acc5d85333d56eef49d44"
  },
  "kernelspec": {
   "display_name": "Python 3.9.7 64-bit ('base': conda)",
   "name": "python3"
  },
  "language_info": {
   "codemirror_mode": {
    "name": "ipython",
    "version": 3
   },
   "file_extension": ".py",
   "mimetype": "text/x-python",
   "name": "python",
   "nbconvert_exporter": "python",
   "pygments_lexer": "ipython3",
   "version": "3.9.7"
  },
  "orig_nbformat": 4
 },
 "nbformat": 4,
 "nbformat_minor": 2
}
